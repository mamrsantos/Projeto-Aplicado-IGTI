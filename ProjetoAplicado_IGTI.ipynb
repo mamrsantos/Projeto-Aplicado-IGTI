{
  "nbformat": 4,
  "nbformat_minor": 0,
  "metadata": {
    "colab": {
      "name": "ProjetoAplicado_IGTI.ipynb",
      "provenance": [],
      "toc_visible": true
    },
    "kernelspec": {
      "name": "python3",
      "display_name": "Python 3"
    },
    "language_info": {
      "name": "python"
    }
  },
  "cells": [
    {
      "cell_type": "markdown",
      "metadata": {
        "id": "Qu0gw7xwBpws"
      },
      "source": [
        "# Delieamento do Estudo"
      ]
    },
    {
      "cell_type": "markdown",
      "metadata": {
        "id": "t5WUlhvvsHw8"
      },
      "source": [
        "## Estratégia de Análise\n",
        "\n",
        "**Questões do Estudo**: \n",
        " 1. Quais os principais fatores que levam os usuários a converter a compra? \n",
        " 2. Podemos prever qual revendedor (se houver) seria escolhido na lista de Ofertas? \n",
        "\n",
        "**DataSets**: \n",
        "\n",
        "**TreiningSet**\n",
        "\n",
        "- DealerId              - Identificado único de um revendedor\n",
        "- Conversion            - Booleano para se o usuário converteu\n",
        "- long                  - Longitude of the user's location\n",
        "- lat                   - Latitude of the user's location\n",
        "- deviceid              - Identificado único do usuario\n",
        "- EventTimestamp        - O carimbo de data / hora UTC da lista de ofertas\n",
        "- DealerOpened          - Se o revendedor estava aberto ou fechado. Revendedor - fechados não conseguem vender\n",
        "- Distributor           - A marca da botija de gás\n",
        "- Position              - Posição do item na lista\n",
        "- Quality               - Índice de qualidade com base nas avaliações do usuário\n",
        "- DealerETAGroup        - O tempo estimado de entrega\n",
        "- RecommendationType    - Um emblema atribuído para destacar boas ofertas\n",
        "- Price                 - Preço da botija de gás\n",
        "- SearchId              - Identificador único da lista de ofertas\n",
        "\n",
        "**CityState**\n",
        "\n",
        "- CityId                - Unique city identifier\t\n",
        "- State                 - State name\n",
        "- City                  - City name\n",
        "- Geography             - City polygon\n",
        "\n",
        "## Métodos\n",
        "\n",
        "<p align = \"justify\"> Além das estatísticas básicas comumente utilizadas (preço médio, número de revendedores por listagem ...), o objetivo dessa análise foi desenvolver  um modelo preditivo que permitisse identificar os principais fatores que influenciam a decisão do usuário pela compra, assim como, aplica-lo na construção  ranking por revendedores, estimando a  probabilidade de conversão em uma lista. Segue as etapas a serem desenvolvidas: </p>\n",
        "\n",
        "1. **Importação dos DataSets**: Acessando o BIGQUERY para leitura e importação dos DataSets (TreiningSet e CiyState); \n",
        "\n",
        "2. **Merge das TrainingSet e CitySate**: Em ambas tabelas possui um campo de geolocalização: \n",
        "    - TrainingSet - Logitude (long) e Latitude (lat)\n",
        "    - CitySate - Geography (dimensão geográfica por cidade)\n",
        "\n",
        "  Foi realizado o merge para buscar a cidade de localização do usuário ao acessar o app CHAMA;\n",
        "\n",
        "3. **Pré-tratamento dos dados**: Verificação de campos nulos, dropando colunas desnecessárias e criando novos atributos (variáveis);\n",
        "\n",
        "4. **Análise Exploratorio dos Dados**: Explorando a distribuição das variáveis a partir da estrutura definida - Usuário, Revendedor e Lista; \n",
        "\n",
        "5. **Preparação dos dados para Modelo (Universo do Estudo - São Paulo)**: O DataSet delineado teve a granulalidade reduzida por lista - SearchId . Sendo assim, todos os atributos relacionados ao revendedor, optou-se por uma métrica estatística adequada para o agrupamento.   \n",
        "\n",
        "6. **Modelo Preditivo**: Estimação e validação do modelo:\n",
        "    - Foi solicitado que \"NÃO\" era necessário treinar o modelo. Entretanto, realizou a segmentação com objetivo mensura a acuraria do modelo proposto, sendo utilizado na sequência, para estimar a probabilidade de conversão do revendedor a ser escolhido em uma lista;  \n",
        "    \n",
        "\n"
      ]
    },
    {
      "cell_type": "markdown",
      "metadata": {
        "id": "5kRtkDXgvaow"
      },
      "source": [
        "# Importação dos DataSets"
      ]
    },
    {
      "cell_type": "markdown",
      "metadata": {
        "id": "XIxgVBK82Awg"
      },
      "source": [
        "## Bibliotecas Importantes"
      ]
    },
    {
      "cell_type": "code",
      "metadata": {
        "colab": {
          "base_uri": "https://localhost:8080/"
        },
        "id": "P2BVvNL12ESZ",
        "outputId": "de88ba7a-3979-41a3-bd3e-bf30811a375f"
      },
      "source": [
        "!pip install --upgrade 'google-cloud-bigquery[bqstorage,pandas]'\n",
        "!pip install geopandas\n",
        "!pip install shapely\n",
        "!pip install pygeos\n",
        "!pip install rtree\n",
        "!pip3 install rtree\n",
        "!pip install geopandas\n",
        "!pip install remodel\n",
        "import geopandas as gpd\n",
        "from shapely.geometry import Point, Polygon\n",
        "import pandas as pd\n",
        "import geopandas\n",
        "import matplotlib.pyplot as plt\n",
        "import matplotlib.pylab as plt\n",
        "import numpy as np\n",
        "from numpy.random import seed\n",
        "seed(123)\n",
        "import matplotlib.pyplot as plt\n",
        "%matplotlib inline\n",
        "from datetime import datetime\n",
        "import seaborn as sns\n",
        "import geopandas as gpd\n",
        "from sklearn import preprocessing\n",
        "from sklearn.preprocessing import StandardScaler, MinMaxScaler\n",
        "from sklearn.preprocessing import OneHotEncoder\n",
        "from sklearn.model_selection import train_test_split, cross_val_score\n",
        "from sklearn.linear_model import LogisticRegression\n",
        "from sklearn.model_selection import train_test_split\n",
        "from sklearn.metrics import confusion_matrix, classification_report\n",
        "from sklearn.metrics import roc_curve\n",
        "from sklearn.model_selection import train_test_split\n",
        "from sklearn.feature_selection import mutual_info_classif, mutual_info_regression\n",
        "from sklearn.feature_selection import SelectKBest, SelectPercentile\n",
        "from sklearn.preprocessing import StandardScaler\n",
        "import statsmodels.api as sm\n",
        "from sklearn.metrics import explained_variance_score, mean_squared_error, r2_score\n",
        "import time\n",
        "from datetime import datetime \n",
        "from keras import models, layers, optimizers, regularizers\n",
        "from keras.utils.vis_utils import model_to_dot\n",
        "from IPython.display import SVG\n",
        "from statsmodels.tsa.seasonal import seasonal_decompose\n",
        "from sklearn.linear_model import LinearRegression\n",
        "import sqlite3 as sql\n",
        "import sqlite3\n",
        "import plotly.express as px\n",
        "from pandas.plotting import scatter_matrix, parallel_coordinates\n",
        "import os\n",
        "from statsmodels.tsa.seasonal import seasonal_decompose\n",
        "import requests\n",
        "import glob\n",
        "from bs4 import BeautifulSoup\n",
        "from requests import get  "
      ],
      "execution_count": 1,
      "outputs": [
        {
          "output_type": "stream",
          "name": "stdout",
          "text": [
            "Requirement already satisfied: google-cloud-bigquery[bqstorage,pandas] in /usr/local/lib/python3.7/dist-packages (1.21.0)\n",
            "Requirement already satisfied: google-resumable-media!=0.4.0,<0.5.0dev,>=0.3.1 in /usr/local/lib/python3.7/dist-packages (from google-cloud-bigquery[bqstorage,pandas]) (0.4.1)\n",
            "Requirement already satisfied: protobuf>=3.6.0 in /usr/local/lib/python3.7/dist-packages (from google-cloud-bigquery[bqstorage,pandas]) (3.17.3)\n",
            "Requirement already satisfied: google-cloud-core<2.0dev,>=1.0.3 in /usr/local/lib/python3.7/dist-packages (from google-cloud-bigquery[bqstorage,pandas]) (1.0.3)\n",
            "Requirement already satisfied: pandas>=0.17.1 in /usr/local/lib/python3.7/dist-packages (from google-cloud-bigquery[bqstorage,pandas]) (1.1.5)\n",
            "Requirement already satisfied: google-cloud-bigquery-storage<2.0.0dev,>=0.6.0 in /usr/local/lib/python3.7/dist-packages (from google-cloud-bigquery[bqstorage,pandas]) (1.1.0)\n",
            "Requirement already satisfied: pyarrow!=0.14.0,>=0.13.0 in /usr/local/lib/python3.7/dist-packages (from google-cloud-bigquery[bqstorage,pandas]) (3.0.0)\n",
            "Requirement already satisfied: google-api-core[grpc]<2.0.0dev,>=1.14.0 in /usr/local/lib/python3.7/dist-packages (from google-cloud-bigquery-storage<2.0.0dev,>=0.6.0->google-cloud-bigquery[bqstorage,pandas]) (1.26.3)\n",
            "Requirement already satisfied: six>=1.13.0 in /usr/local/lib/python3.7/dist-packages (from google-api-core[grpc]<2.0.0dev,>=1.14.0->google-cloud-bigquery-storage<2.0.0dev,>=0.6.0->google-cloud-bigquery[bqstorage,pandas]) (1.15.0)\n",
            "Requirement already satisfied: packaging>=14.3 in /usr/local/lib/python3.7/dist-packages (from google-api-core[grpc]<2.0.0dev,>=1.14.0->google-cloud-bigquery-storage<2.0.0dev,>=0.6.0->google-cloud-bigquery[bqstorage,pandas]) (21.0)\n",
            "Requirement already satisfied: setuptools>=40.3.0 in /usr/local/lib/python3.7/dist-packages (from google-api-core[grpc]<2.0.0dev,>=1.14.0->google-cloud-bigquery-storage<2.0.0dev,>=0.6.0->google-cloud-bigquery[bqstorage,pandas]) (57.4.0)\n",
            "Requirement already satisfied: google-auth<2.0dev,>=1.21.1 in /usr/local/lib/python3.7/dist-packages (from google-api-core[grpc]<2.0.0dev,>=1.14.0->google-cloud-bigquery-storage<2.0.0dev,>=0.6.0->google-cloud-bigquery[bqstorage,pandas]) (1.34.0)\n",
            "Requirement already satisfied: pytz in /usr/local/lib/python3.7/dist-packages (from google-api-core[grpc]<2.0.0dev,>=1.14.0->google-cloud-bigquery-storage<2.0.0dev,>=0.6.0->google-cloud-bigquery[bqstorage,pandas]) (2018.9)\n",
            "Requirement already satisfied: requests<3.0.0dev,>=2.18.0 in /usr/local/lib/python3.7/dist-packages (from google-api-core[grpc]<2.0.0dev,>=1.14.0->google-cloud-bigquery-storage<2.0.0dev,>=0.6.0->google-cloud-bigquery[bqstorage,pandas]) (2.23.0)\n",
            "Requirement already satisfied: googleapis-common-protos<2.0dev,>=1.6.0 in /usr/local/lib/python3.7/dist-packages (from google-api-core[grpc]<2.0.0dev,>=1.14.0->google-cloud-bigquery-storage<2.0.0dev,>=0.6.0->google-cloud-bigquery[bqstorage,pandas]) (1.53.0)\n",
            "Requirement already satisfied: grpcio<2.0dev,>=1.29.0 in /usr/local/lib/python3.7/dist-packages (from google-api-core[grpc]<2.0.0dev,>=1.14.0->google-cloud-bigquery-storage<2.0.0dev,>=0.6.0->google-cloud-bigquery[bqstorage,pandas]) (1.39.0)\n",
            "Requirement already satisfied: cachetools<5.0,>=2.0.0 in /usr/local/lib/python3.7/dist-packages (from google-auth<2.0dev,>=1.21.1->google-api-core[grpc]<2.0.0dev,>=1.14.0->google-cloud-bigquery-storage<2.0.0dev,>=0.6.0->google-cloud-bigquery[bqstorage,pandas]) (4.2.2)\n",
            "Requirement already satisfied: rsa<5,>=3.1.4 in /usr/local/lib/python3.7/dist-packages (from google-auth<2.0dev,>=1.21.1->google-api-core[grpc]<2.0.0dev,>=1.14.0->google-cloud-bigquery-storage<2.0.0dev,>=0.6.0->google-cloud-bigquery[bqstorage,pandas]) (4.7.2)\n",
            "Requirement already satisfied: pyasn1-modules>=0.2.1 in /usr/local/lib/python3.7/dist-packages (from google-auth<2.0dev,>=1.21.1->google-api-core[grpc]<2.0.0dev,>=1.14.0->google-cloud-bigquery-storage<2.0.0dev,>=0.6.0->google-cloud-bigquery[bqstorage,pandas]) (0.2.8)\n",
            "Requirement already satisfied: pyparsing>=2.0.2 in /usr/local/lib/python3.7/dist-packages (from packaging>=14.3->google-api-core[grpc]<2.0.0dev,>=1.14.0->google-cloud-bigquery-storage<2.0.0dev,>=0.6.0->google-cloud-bigquery[bqstorage,pandas]) (2.4.7)\n",
            "Requirement already satisfied: python-dateutil>=2.7.3 in /usr/local/lib/python3.7/dist-packages (from pandas>=0.17.1->google-cloud-bigquery[bqstorage,pandas]) (2.8.2)\n",
            "Requirement already satisfied: numpy>=1.15.4 in /usr/local/lib/python3.7/dist-packages (from pandas>=0.17.1->google-cloud-bigquery[bqstorage,pandas]) (1.19.5)\n",
            "Requirement already satisfied: pyasn1<0.5.0,>=0.4.6 in /usr/local/lib/python3.7/dist-packages (from pyasn1-modules>=0.2.1->google-auth<2.0dev,>=1.21.1->google-api-core[grpc]<2.0.0dev,>=1.14.0->google-cloud-bigquery-storage<2.0.0dev,>=0.6.0->google-cloud-bigquery[bqstorage,pandas]) (0.4.8)\n",
            "Requirement already satisfied: certifi>=2017.4.17 in /usr/local/lib/python3.7/dist-packages (from requests<3.0.0dev,>=2.18.0->google-api-core[grpc]<2.0.0dev,>=1.14.0->google-cloud-bigquery-storage<2.0.0dev,>=0.6.0->google-cloud-bigquery[bqstorage,pandas]) (2021.5.30)\n",
            "Requirement already satisfied: chardet<4,>=3.0.2 in /usr/local/lib/python3.7/dist-packages (from requests<3.0.0dev,>=2.18.0->google-api-core[grpc]<2.0.0dev,>=1.14.0->google-cloud-bigquery-storage<2.0.0dev,>=0.6.0->google-cloud-bigquery[bqstorage,pandas]) (3.0.4)\n",
            "Requirement already satisfied: urllib3!=1.25.0,!=1.25.1,<1.26,>=1.21.1 in /usr/local/lib/python3.7/dist-packages (from requests<3.0.0dev,>=2.18.0->google-api-core[grpc]<2.0.0dev,>=1.14.0->google-cloud-bigquery-storage<2.0.0dev,>=0.6.0->google-cloud-bigquery[bqstorage,pandas]) (1.24.3)\n",
            "Requirement already satisfied: idna<3,>=2.5 in /usr/local/lib/python3.7/dist-packages (from requests<3.0.0dev,>=2.18.0->google-api-core[grpc]<2.0.0dev,>=1.14.0->google-cloud-bigquery-storage<2.0.0dev,>=0.6.0->google-cloud-bigquery[bqstorage,pandas]) (2.10)\n",
            "Collecting geopandas\n",
            "  Downloading geopandas-0.9.0-py2.py3-none-any.whl (994 kB)\n",
            "\u001b[K     |████████████████████████████████| 994 kB 5.2 MB/s \n",
            "\u001b[?25hCollecting pyproj>=2.2.0\n",
            "  Downloading pyproj-3.2.0-cp37-cp37m-manylinux_2_24_x86_64.whl (6.3 MB)\n",
            "\u001b[K     |████████████████████████████████| 6.3 MB 11.7 MB/s \n",
            "\u001b[?25hRequirement already satisfied: shapely>=1.6 in /usr/local/lib/python3.7/dist-packages (from geopandas) (1.7.1)\n",
            "Requirement already satisfied: pandas>=0.24.0 in /usr/local/lib/python3.7/dist-packages (from geopandas) (1.1.5)\n",
            "Collecting fiona>=1.8\n",
            "  Downloading Fiona-1.8.20-cp37-cp37m-manylinux1_x86_64.whl (15.4 MB)\n",
            "\u001b[K     |████████████████████████████████| 15.4 MB 37 kB/s \n",
            "\u001b[?25hCollecting munch\n",
            "  Downloading munch-2.5.0-py2.py3-none-any.whl (10 kB)\n",
            "Requirement already satisfied: click>=4.0 in /usr/local/lib/python3.7/dist-packages (from fiona>=1.8->geopandas) (7.1.2)\n",
            "Collecting click-plugins>=1.0\n",
            "  Downloading click_plugins-1.1.1-py2.py3-none-any.whl (7.5 kB)\n",
            "Requirement already satisfied: certifi in /usr/local/lib/python3.7/dist-packages (from fiona>=1.8->geopandas) (2021.5.30)\n",
            "Requirement already satisfied: setuptools in /usr/local/lib/python3.7/dist-packages (from fiona>=1.8->geopandas) (57.4.0)\n",
            "Collecting cligj>=0.5\n",
            "  Downloading cligj-0.7.2-py3-none-any.whl (7.1 kB)\n",
            "Requirement already satisfied: six>=1.7 in /usr/local/lib/python3.7/dist-packages (from fiona>=1.8->geopandas) (1.15.0)\n",
            "Requirement already satisfied: attrs>=17 in /usr/local/lib/python3.7/dist-packages (from fiona>=1.8->geopandas) (21.2.0)\n",
            "Requirement already satisfied: python-dateutil>=2.7.3 in /usr/local/lib/python3.7/dist-packages (from pandas>=0.24.0->geopandas) (2.8.2)\n",
            "Requirement already satisfied: numpy>=1.15.4 in /usr/local/lib/python3.7/dist-packages (from pandas>=0.24.0->geopandas) (1.19.5)\n",
            "Requirement already satisfied: pytz>=2017.2 in /usr/local/lib/python3.7/dist-packages (from pandas>=0.24.0->geopandas) (2018.9)\n",
            "Installing collected packages: munch, cligj, click-plugins, pyproj, fiona, geopandas\n",
            "Successfully installed click-plugins-1.1.1 cligj-0.7.2 fiona-1.8.20 geopandas-0.9.0 munch-2.5.0 pyproj-3.2.0\n",
            "Requirement already satisfied: shapely in /usr/local/lib/python3.7/dist-packages (1.7.1)\n",
            "Collecting pygeos\n",
            "  Downloading pygeos-0.10.2-cp37-cp37m-manylinux_2_12_x86_64.manylinux2010_x86_64.whl (1.8 MB)\n",
            "\u001b[K     |████████████████████████████████| 1.8 MB 5.1 MB/s \n",
            "\u001b[?25hRequirement already satisfied: numpy>=1.13 in /usr/local/lib/python3.7/dist-packages (from pygeos) (1.19.5)\n",
            "Installing collected packages: pygeos\n",
            "Successfully installed pygeos-0.10.2\n",
            "Collecting rtree\n",
            "  Downloading Rtree-0.9.7-cp37-cp37m-manylinux2010_x86_64.whl (994 kB)\n",
            "\u001b[K     |████████████████████████████████| 994 kB 5.2 MB/s \n",
            "\u001b[?25hInstalling collected packages: rtree\n",
            "Successfully installed rtree-0.9.7\n",
            "Requirement already satisfied: rtree in /usr/local/lib/python3.7/dist-packages (0.9.7)\n",
            "Requirement already satisfied: geopandas in /usr/local/lib/python3.7/dist-packages (0.9.0)\n",
            "Requirement already satisfied: fiona>=1.8 in /usr/local/lib/python3.7/dist-packages (from geopandas) (1.8.20)\n",
            "Requirement already satisfied: pyproj>=2.2.0 in /usr/local/lib/python3.7/dist-packages (from geopandas) (3.2.0)\n",
            "Requirement already satisfied: pandas>=0.24.0 in /usr/local/lib/python3.7/dist-packages (from geopandas) (1.1.5)\n",
            "Requirement already satisfied: shapely>=1.6 in /usr/local/lib/python3.7/dist-packages (from geopandas) (1.7.1)\n",
            "Requirement already satisfied: attrs>=17 in /usr/local/lib/python3.7/dist-packages (from fiona>=1.8->geopandas) (21.2.0)\n",
            "Requirement already satisfied: six>=1.7 in /usr/local/lib/python3.7/dist-packages (from fiona>=1.8->geopandas) (1.15.0)\n",
            "Requirement already satisfied: setuptools in /usr/local/lib/python3.7/dist-packages (from fiona>=1.8->geopandas) (57.4.0)\n",
            "Requirement already satisfied: munch in /usr/local/lib/python3.7/dist-packages (from fiona>=1.8->geopandas) (2.5.0)\n",
            "Requirement already satisfied: cligj>=0.5 in /usr/local/lib/python3.7/dist-packages (from fiona>=1.8->geopandas) (0.7.2)\n",
            "Requirement already satisfied: click-plugins>=1.0 in /usr/local/lib/python3.7/dist-packages (from fiona>=1.8->geopandas) (1.1.1)\n",
            "Requirement already satisfied: click>=4.0 in /usr/local/lib/python3.7/dist-packages (from fiona>=1.8->geopandas) (7.1.2)\n",
            "Requirement already satisfied: certifi in /usr/local/lib/python3.7/dist-packages (from fiona>=1.8->geopandas) (2021.5.30)\n",
            "Requirement already satisfied: python-dateutil>=2.7.3 in /usr/local/lib/python3.7/dist-packages (from pandas>=0.24.0->geopandas) (2.8.2)\n",
            "Requirement already satisfied: numpy>=1.15.4 in /usr/local/lib/python3.7/dist-packages (from pandas>=0.24.0->geopandas) (1.19.5)\n",
            "Requirement already satisfied: pytz>=2017.2 in /usr/local/lib/python3.7/dist-packages (from pandas>=0.24.0->geopandas) (2018.9)\n",
            "Collecting remodel\n",
            "  Downloading remodel-1.0.0.tar.gz (19 kB)\n",
            "Collecting rethinkdb>=2.4\n",
            "  Downloading rethinkdb-2.4.8-py2.py3-none-any.whl (160 kB)\n",
            "\u001b[K     |████████████████████████████████| 160 kB 5.3 MB/s \n",
            "\u001b[?25hCollecting inflection\n",
            "  Downloading inflection-0.5.1-py2.py3-none-any.whl (9.5 kB)\n",
            "Requirement already satisfied: six in /usr/local/lib/python3.7/dist-packages (from remodel) (1.15.0)\n",
            "Building wheels for collected packages: remodel\n",
            "  Building wheel for remodel (setup.py) ... \u001b[?25l\u001b[?25hdone\n",
            "  Created wheel for remodel: filename=remodel-1.0.0-py3-none-any.whl size=22993 sha256=af5a5bf4ca4dc98c95b6d82ca6bce9af126056f602ef759cbea009aa46e4202c\n",
            "  Stored in directory: /root/.cache/pip/wheels/c0/4f/fa/a5c4c0d917735c504c1fdbb8ebbb7a8f1eb035cec78e54249c\n",
            "Successfully built remodel\n",
            "Installing collected packages: rethinkdb, inflection, remodel\n",
            "Successfully installed inflection-0.5.1 remodel-1.0.0 rethinkdb-2.4.8\n"
          ]
        },
        {
          "output_type": "stream",
          "name": "stderr",
          "text": [
            "/usr/local/lib/python3.7/dist-packages/geopandas/_compat.py:110: UserWarning: The Shapely GEOS version (3.8.0-CAPI-1.13.1 ) is incompatible with the GEOS version PyGEOS was compiled with (3.9.1-CAPI-1.14.2). Conversions between both will be slow.\n",
            "  shapely_geos_version, geos_capi_version_string\n",
            "/usr/local/lib/python3.7/dist-packages/statsmodels/tools/_testing.py:19: FutureWarning: pandas.util.testing is deprecated. Use the functions in the public API at pandas.testing instead.\n",
            "  import pandas.util.testing as tm\n"
          ]
        }
      ]
    },
    {
      "cell_type": "markdown",
      "metadata": {
        "id": "3XaS81Riok4k"
      },
      "source": [
        "## Credenciais no Goolge para acessar o BIGQUERY\n",
        "\n",
        "A primeira vez que executar o comando abaixo, será necessário clicar no link e copiar a credencias de acesso ao BigQuery\n"
      ]
    },
    {
      "cell_type": "code",
      "metadata": {
        "id": "ir0bCSQ5BGUU",
        "colab": {
          "base_uri": "https://localhost:8080/"
        },
        "outputId": "4260d2d0-7585-4ec6-f2e4-db753c3c42e0"
      },
      "source": [
        "# Autenticação para acessar o BigQuery\n",
        "\n",
        "from google.colab import auth\n",
        "auth.authenticate_user()\n",
        "print('Authenticated')"
      ],
      "execution_count": 2,
      "outputs": [
        {
          "output_type": "stream",
          "name": "stdout",
          "text": [
            "Authenticated\n"
          ]
        }
      ]
    },
    {
      "cell_type": "code",
      "metadata": {
        "id": "Hdwuwf4ZowBj"
      },
      "source": [
        "# Pacote que pode ser usado para exibir grandes dataframes do pandas como uma tabela de dados\n",
        "\n",
        "%load_ext google.colab.data_table"
      ],
      "execution_count": 3,
      "outputs": []
    },
    {
      "cell_type": "markdown",
      "metadata": {
        "id": "u0WPKEABpIQi"
      },
      "source": [
        "Declarando o ID do projeto do Cloud que será usado para acessar os dados"
      ]
    },
    {
      "cell_type": "code",
      "metadata": {
        "id": "QxU6vCvnpHZi"
      },
      "source": [
        "# Declaração do projeto na Cloud e acessando\n",
        "\n",
        "project_id = 'chama-bi-recruitment'\n",
        "from google.cloud import bigquery\n",
        "client = bigquery.Client(project=project_id)"
      ],
      "execution_count": 4,
      "outputs": []
    },
    {
      "cell_type": "markdown",
      "metadata": {
        "id": "xaZ8fq2cpYb-"
      },
      "source": [
        "## Importando os conjuntos de dados \"TrainingSet\" e \"CityState\""
      ]
    },
    {
      "cell_type": "code",
      "metadata": {
        "id": "lhmokQ0bpnat"
      },
      "source": [
        "# Tabela TrainingSet\n",
        "\n",
        "TrainingSet = client.query('''SELECT * FROM `chama-bi-recruitment.Conversion.TrainingSet`''').to_dataframe()"
      ],
      "execution_count": 5,
      "outputs": []
    },
    {
      "cell_type": "code",
      "metadata": {
        "id": "tccgHR2O5pCp",
        "colab": {
          "base_uri": "https://localhost:8080/"
        },
        "outputId": "7ed0cbe7-fe0d-476d-8023-f3c1ec6da1d4"
      },
      "source": [
        "TrainingSet.shape"
      ],
      "execution_count": 6,
      "outputs": [
        {
          "output_type": "execute_result",
          "data": {
            "text/plain": [
              "(615932, 14)"
            ]
          },
          "metadata": {},
          "execution_count": 6
        }
      ]
    },
    {
      "cell_type": "code",
      "metadata": {
        "id": "MduKjB0Mt_l_",
        "colab": {
          "base_uri": "https://localhost:8080/",
          "height": 300
        },
        "outputId": "e7e8dfd0-15c8-49d1-f2e4-0b92fcceb667"
      },
      "source": [
        "# Visualizando o conjunto de dados \n",
        "\n",
        "TrainingSet.head()"
      ],
      "execution_count": 7,
      "outputs": [
        {
          "output_type": "execute_result",
          "data": {
            "application/vnd.google.colaboratory.module+javascript": "\n      import \"https://ssl.gstatic.com/colaboratory/data_table/a6224c040fa35dcf/data_table.js\";\n\n      window.createDataTable({\n        data: [[{\n            'v': 0,\n            'f': \"0\",\n        },\n\"__+0G1cwgYivqbBQl03GLI/qBJhP7z34gAaiKcDJUHXRg=\",\n{\n            'v': 0,\n            'f': \"0\",\n        },\n{\n            'v': -46.4470699,\n            'f': \"-46.4470699\",\n        },\n{\n            'v': -23.692436999999998,\n            'f': \"-23.692436999999998\",\n        },\n\"__DgaD5Lhp22YQKyzbqGgd14I77qBO8szy1BHJ+EALcCQ=\",\n\"2019-07-30 23:08:33.941002+00:00\",\nfalse,\n\"COPAGAZ\",\n{\n            'v': 7,\n            'f': \"7\",\n        },\n{\n            'v': 4.95,\n            'f': \"4.95\",\n        },\n\"15-30\",\n\"N/A\",\n{\n            'v': 69.98999786376953,\n            'f': \"69.98999786376953\",\n        },\n\"__DgaD5Lhp22YQKyzbqGgd14I77qBO8szy1BHJ+EALcCQ=|1564528113\"],\n [{\n            'v': 1,\n            'f': \"1\",\n        },\n\"__+0G1cwgYivqbBQl03GLI/qBJhP7z34gAaiKcDJUHXRg=\",\n{\n            'v': 0,\n            'f': \"0\",\n        },\n{\n            'v': -46.4492375,\n            'f': \"-46.4492375\",\n        },\n{\n            'v': -23.6734847,\n            'f': \"-23.6734847\",\n        },\n\"__DifXy9yPxgeRhOrDA9Iwu87Dmwf8X9MuslzAmevI9cM=\",\n\"2019-06-01 17:23:21.881002+00:00\",\ntrue,\n\"COPAGAZ\",\n{\n            'v': 2,\n            'f': \"2\",\n        },\n{\n            'v': 4.84,\n            'f': \"4.84\",\n        },\n\"15-30\",\n\"N/A\",\n{\n            'v': 69.98999786376953,\n            'f': \"69.98999786376953\",\n        },\n\"__DifXy9yPxgeRhOrDA9Iwu87Dmwf8X9MuslzAmevI9cM=|1559409801\"],\n [{\n            'v': 2,\n            'f': \"2\",\n        },\n\"__+0G1cwgYivqbBQl03GLI/qBJhP7z34gAaiKcDJUHXRg=\",\n{\n            'v': 0,\n            'f': \"0\",\n        },\n{\n            'v': -46.4492375,\n            'f': \"-46.4492375\",\n        },\n{\n            'v': -23.6734847,\n            'f': \"-23.6734847\",\n        },\n\"__DifXy9yPxgeRhOrDA9Iwu87Dmwf8X9MuslzAmevI9cM=\",\n\"2019-06-01 21:43:12.103002+00:00\",\ntrue,\n\"COPAGAZ\",\n{\n            'v': 3,\n            'f': \"3\",\n        },\n{\n            'v': 4.84,\n            'f': \"4.84\",\n        },\n\"15-30\",\n\"N/A\",\n{\n            'v': 64.98999786376953,\n            'f': \"64.98999786376953\",\n        },\n\"__DifXy9yPxgeRhOrDA9Iwu87Dmwf8X9MuslzAmevI9cM=|1559425392\"],\n [{\n            'v': 3,\n            'f': \"3\",\n        },\n\"__+0G1cwgYivqbBQl03GLI/qBJhP7z34gAaiKcDJUHXRg=\",\n{\n            'v': 0,\n            'f': \"0\",\n        },\n{\n            'v': -46.4624432,\n            'f': \"-46.4624432\",\n        },\n{\n            'v': -23.6834559,\n            'f': \"-23.6834559\",\n        },\n\"__DifXy9yPxgeRhOrDA9Iwu87Dmwf8X9MuslzAmevI9cM=\",\n\"2019-06-02 16:58:04.585006+00:00\",\nfalse,\n\"COPAGAZ\",\n{\n            'v': 3,\n            'f': \"3\",\n        },\n{\n            'v': 4.846153846153846,\n            'f': \"4.846153846153846\",\n        },\n\"15-30\",\n\"N/A\",\n{\n            'v': 69.98999786376953,\n            'f': \"69.98999786376953\",\n        },\n\"__DifXy9yPxgeRhOrDA9Iwu87Dmwf8X9MuslzAmevI9cM=|1559494684\"],\n [{\n            'v': 4,\n            'f': \"4\",\n        },\n\"__+0G1cwgYivqbBQl03GLI/qBJhP7z34gAaiKcDJUHXRg=\",\n{\n            'v': 0,\n            'f': \"0\",\n        },\n{\n            'v': -46.4444723,\n            'f': \"-46.4444723\",\n        },\n{\n            'v': -23.6876979,\n            'f': \"-23.6876979\",\n        },\n\"__DifXy9yPxgeRhOrDA9Iwu87Dmwf8X9MuslzAmevI9cM=\",\n\"2019-06-02 17:24:35.304002+00:00\",\nfalse,\n\"COPAGAZ\",\n{\n            'v': 3,\n            'f': \"3\",\n        },\n{\n            'v': 4.846153846153846,\n            'f': \"4.846153846153846\",\n        },\n\"15-30\",\n\"N/A\",\n{\n            'v': 69.98999786376953,\n            'f': \"69.98999786376953\",\n        },\n\"__DifXy9yPxgeRhOrDA9Iwu87Dmwf8X9MuslzAmevI9cM=|1559496275\"]],\n        columns: [[\"number\", \"index\"], [\"string\", \"DealerId\"], [\"number\", \"Conversion\"], [\"number\", \"long\"], [\"number\", \"lat\"], [\"string\", \"deviceid\"], [\"string\", \"EventTimestamp\"], [\"string\", \"DealerOpened\"], [\"string\", \"Distributor\"], [\"number\", \"Position\"], [\"number\", \"Quality\"], [\"string\", \"DealerETAGroup\"], [\"string\", \"RecommendationType\"], [\"number\", \"Price\"], [\"string\", \"SearchId\"]],\n        columnOptions: [{\"width\": \"1px\", \"className\": \"index_column\"}],\n        rowsPerPage: 25,\n        helpUrl: \"https://colab.research.google.com/notebooks/data_table.ipynb\",\n        suppressOutputScrolling: true,\n        minimumWidth: undefined,\n      });\n    ",
            "text/html": [
              "<div>\n",
              "<style scoped>\n",
              "    .dataframe tbody tr th:only-of-type {\n",
              "        vertical-align: middle;\n",
              "    }\n",
              "\n",
              "    .dataframe tbody tr th {\n",
              "        vertical-align: top;\n",
              "    }\n",
              "\n",
              "    .dataframe thead th {\n",
              "        text-align: right;\n",
              "    }\n",
              "</style>\n",
              "<table border=\"1\" class=\"dataframe\">\n",
              "  <thead>\n",
              "    <tr style=\"text-align: right;\">\n",
              "      <th></th>\n",
              "      <th>DealerId</th>\n",
              "      <th>Conversion</th>\n",
              "      <th>long</th>\n",
              "      <th>lat</th>\n",
              "      <th>deviceid</th>\n",
              "      <th>EventTimestamp</th>\n",
              "      <th>DealerOpened</th>\n",
              "      <th>Distributor</th>\n",
              "      <th>Position</th>\n",
              "      <th>Quality</th>\n",
              "      <th>DealerETAGroup</th>\n",
              "      <th>RecommendationType</th>\n",
              "      <th>Price</th>\n",
              "      <th>SearchId</th>\n",
              "    </tr>\n",
              "  </thead>\n",
              "  <tbody>\n",
              "    <tr>\n",
              "      <th>0</th>\n",
              "      <td>__+0G1cwgYivqbBQl03GLI/qBJhP7z34gAaiKcDJUHXRg=</td>\n",
              "      <td>0</td>\n",
              "      <td>-46.447070</td>\n",
              "      <td>-23.692437</td>\n",
              "      <td>__DgaD5Lhp22YQKyzbqGgd14I77qBO8szy1BHJ+EALcCQ=</td>\n",
              "      <td>2019-07-30 23:08:33.941002+00:00</td>\n",
              "      <td>False</td>\n",
              "      <td>COPAGAZ</td>\n",
              "      <td>7</td>\n",
              "      <td>4.950000</td>\n",
              "      <td>15-30</td>\n",
              "      <td>N/A</td>\n",
              "      <td>69.989998</td>\n",
              "      <td>__DgaD5Lhp22YQKyzbqGgd14I77qBO8szy1BHJ+EALcCQ=...</td>\n",
              "    </tr>\n",
              "    <tr>\n",
              "      <th>1</th>\n",
              "      <td>__+0G1cwgYivqbBQl03GLI/qBJhP7z34gAaiKcDJUHXRg=</td>\n",
              "      <td>0</td>\n",
              "      <td>-46.449238</td>\n",
              "      <td>-23.673485</td>\n",
              "      <td>__DifXy9yPxgeRhOrDA9Iwu87Dmwf8X9MuslzAmevI9cM=</td>\n",
              "      <td>2019-06-01 17:23:21.881002+00:00</td>\n",
              "      <td>True</td>\n",
              "      <td>COPAGAZ</td>\n",
              "      <td>2</td>\n",
              "      <td>4.840000</td>\n",
              "      <td>15-30</td>\n",
              "      <td>N/A</td>\n",
              "      <td>69.989998</td>\n",
              "      <td>__DifXy9yPxgeRhOrDA9Iwu87Dmwf8X9MuslzAmevI9cM=...</td>\n",
              "    </tr>\n",
              "    <tr>\n",
              "      <th>2</th>\n",
              "      <td>__+0G1cwgYivqbBQl03GLI/qBJhP7z34gAaiKcDJUHXRg=</td>\n",
              "      <td>0</td>\n",
              "      <td>-46.449238</td>\n",
              "      <td>-23.673485</td>\n",
              "      <td>__DifXy9yPxgeRhOrDA9Iwu87Dmwf8X9MuslzAmevI9cM=</td>\n",
              "      <td>2019-06-01 21:43:12.103002+00:00</td>\n",
              "      <td>True</td>\n",
              "      <td>COPAGAZ</td>\n",
              "      <td>3</td>\n",
              "      <td>4.840000</td>\n",
              "      <td>15-30</td>\n",
              "      <td>N/A</td>\n",
              "      <td>64.989998</td>\n",
              "      <td>__DifXy9yPxgeRhOrDA9Iwu87Dmwf8X9MuslzAmevI9cM=...</td>\n",
              "    </tr>\n",
              "    <tr>\n",
              "      <th>3</th>\n",
              "      <td>__+0G1cwgYivqbBQl03GLI/qBJhP7z34gAaiKcDJUHXRg=</td>\n",
              "      <td>0</td>\n",
              "      <td>-46.462443</td>\n",
              "      <td>-23.683456</td>\n",
              "      <td>__DifXy9yPxgeRhOrDA9Iwu87Dmwf8X9MuslzAmevI9cM=</td>\n",
              "      <td>2019-06-02 16:58:04.585006+00:00</td>\n",
              "      <td>False</td>\n",
              "      <td>COPAGAZ</td>\n",
              "      <td>3</td>\n",
              "      <td>4.846154</td>\n",
              "      <td>15-30</td>\n",
              "      <td>N/A</td>\n",
              "      <td>69.989998</td>\n",
              "      <td>__DifXy9yPxgeRhOrDA9Iwu87Dmwf8X9MuslzAmevI9cM=...</td>\n",
              "    </tr>\n",
              "    <tr>\n",
              "      <th>4</th>\n",
              "      <td>__+0G1cwgYivqbBQl03GLI/qBJhP7z34gAaiKcDJUHXRg=</td>\n",
              "      <td>0</td>\n",
              "      <td>-46.444472</td>\n",
              "      <td>-23.687698</td>\n",
              "      <td>__DifXy9yPxgeRhOrDA9Iwu87Dmwf8X9MuslzAmevI9cM=</td>\n",
              "      <td>2019-06-02 17:24:35.304002+00:00</td>\n",
              "      <td>False</td>\n",
              "      <td>COPAGAZ</td>\n",
              "      <td>3</td>\n",
              "      <td>4.846154</td>\n",
              "      <td>15-30</td>\n",
              "      <td>N/A</td>\n",
              "      <td>69.989998</td>\n",
              "      <td>__DifXy9yPxgeRhOrDA9Iwu87Dmwf8X9MuslzAmevI9cM=...</td>\n",
              "    </tr>\n",
              "  </tbody>\n",
              "</table>\n",
              "</div>"
            ],
            "text/plain": [
              "                                         DealerId  ...                                           SearchId\n",
              "0  __+0G1cwgYivqbBQl03GLI/qBJhP7z34gAaiKcDJUHXRg=  ...  __DgaD5Lhp22YQKyzbqGgd14I77qBO8szy1BHJ+EALcCQ=...\n",
              "1  __+0G1cwgYivqbBQl03GLI/qBJhP7z34gAaiKcDJUHXRg=  ...  __DifXy9yPxgeRhOrDA9Iwu87Dmwf8X9MuslzAmevI9cM=...\n",
              "2  __+0G1cwgYivqbBQl03GLI/qBJhP7z34gAaiKcDJUHXRg=  ...  __DifXy9yPxgeRhOrDA9Iwu87Dmwf8X9MuslzAmevI9cM=...\n",
              "3  __+0G1cwgYivqbBQl03GLI/qBJhP7z34gAaiKcDJUHXRg=  ...  __DifXy9yPxgeRhOrDA9Iwu87Dmwf8X9MuslzAmevI9cM=...\n",
              "4  __+0G1cwgYivqbBQl03GLI/qBJhP7z34gAaiKcDJUHXRg=  ...  __DifXy9yPxgeRhOrDA9Iwu87Dmwf8X9MuslzAmevI9cM=...\n",
              "\n",
              "[5 rows x 14 columns]"
            ]
          },
          "metadata": {},
          "execution_count": 7
        }
      ]
    },
    {
      "cell_type": "code",
      "metadata": {
        "id": "Zr0xuq64uBYs",
        "colab": {
          "base_uri": "https://localhost:8080/"
        },
        "outputId": "530e72bd-2b66-42ca-a722-e882644028bc"
      },
      "source": [
        "# Conferindo a Typagem dos atributos \n",
        "\n",
        "TrainingSet.info()"
      ],
      "execution_count": 8,
      "outputs": [
        {
          "output_type": "stream",
          "name": "stdout",
          "text": [
            "<class 'pandas.core.frame.DataFrame'>\n",
            "RangeIndex: 615932 entries, 0 to 615931\n",
            "Data columns (total 14 columns):\n",
            " #   Column              Non-Null Count   Dtype              \n",
            "---  ------              --------------   -----              \n",
            " 0   DealerId            615932 non-null  object             \n",
            " 1   Conversion          615932 non-null  int64              \n",
            " 2   long                615932 non-null  float64            \n",
            " 3   lat                 615932 non-null  float64            \n",
            " 4   deviceid            615932 non-null  object             \n",
            " 5   EventTimestamp      615932 non-null  datetime64[ns, UTC]\n",
            " 6   DealerOpened        615932 non-null  bool               \n",
            " 7   Distributor         615932 non-null  object             \n",
            " 8   Position            615932 non-null  int64              \n",
            " 9   Quality             615932 non-null  float64            \n",
            " 10  DealerETAGroup      615932 non-null  object             \n",
            " 11  RecommendationType  615247 non-null  object             \n",
            " 12  Price               615932 non-null  float64            \n",
            " 13  SearchId            615932 non-null  object             \n",
            "dtypes: bool(1), datetime64[ns, UTC](1), float64(4), int64(2), object(6)\n",
            "memory usage: 61.7+ MB\n"
          ]
        }
      ]
    },
    {
      "cell_type": "code",
      "metadata": {
        "id": "pMbjRNTTpwJT"
      },
      "source": [
        "# Tabela CityState\n",
        "\n",
        "CityState= client.query('''SELECT * FROM `chama-bi-recruitment.GeographyBrazil.CityState`''').to_dataframe()"
      ],
      "execution_count": 9,
      "outputs": []
    },
    {
      "cell_type": "code",
      "metadata": {
        "id": "kH0eLPxo5xIK",
        "colab": {
          "base_uri": "https://localhost:8080/"
        },
        "outputId": "184a5351-db38-4a3e-c986-fa61a1c48a2f"
      },
      "source": [
        "CityState.shape"
      ],
      "execution_count": 10,
      "outputs": [
        {
          "output_type": "execute_result",
          "data": {
            "text/plain": [
              "(5517, 4)"
            ]
          },
          "metadata": {},
          "execution_count": 10
        }
      ]
    },
    {
      "cell_type": "code",
      "metadata": {
        "id": "q14YWbM1rUlD",
        "colab": {
          "base_uri": "https://localhost:8080/",
          "height": 437
        },
        "outputId": "f23229c3-1641-4372-a080-2ec76d264c5a"
      },
      "source": [
        "# Visualizando o conjunto de dados CityState\n",
        "\n",
        "CityState.head(1)"
      ],
      "execution_count": 11,
      "outputs": [
        {
          "output_type": "execute_result",
          "data": {
            "application/vnd.google.colaboratory.module+javascript": "\n      import \"https://ssl.gstatic.com/colaboratory/data_table/a6224c040fa35dcf/data_table.js\";\n\n      window.createDataTable({\n        data: [[{\n            'v': 0,\n            'f': \"0\",\n        },\n{\n            'v': 2930,\n            'f': \"2930\",\n        },\n\"Acre\",\n\"Rodrigues Alves\",\n\"POLYGON((-72.805927 -7.687039, -72.806833 -7.686844, -72.806992 -7.686811, -72.860115 -7.67543, -72.914837 -7.663707, -72.930212 -7.678967, -72.946397 -7.689318, -72.953395 -7.681114, -72.96146 -7.682541, -72.977642 -7.674103, -72.991108 -7.671204, -73.000377 -7.673007, -73.005029 -7.670066, -73.018008 -7.672162, -73.032679 -7.669545, -73.038552 -7.664584, -73.182561 -7.724767, -73.216527 -7.755528, -73.256124 -7.791361, -73.307104 -7.777898, -73.307017 -7.77273, -73.301011 -7.765383, -73.302673 -7.752448, -73.318399 -7.742451, -73.338262 -7.730718, -73.3313 -7.710727, -73.341056 -7.710565, -73.35398 -7.723456, -73.361223 -7.722982, -73.367223 -7.732034, -73.367002 -7.737049, -73.374217 -7.743999, -73.385116 -7.744066, -73.385956 -7.740228, -73.397896 -7.746583, -73.402857 -7.743995, -73.412315 -7.75095, -73.422006 -7.766543, -73.43534 -7.766341, -73.443307 -7.772205, -73.45148 -7.773239, -73.454774 -7.766852, -73.461498 -7.768382, -73.462328 -7.765185, -73.476193 -7.757707, -73.485748 -7.759059, -73.490113 -7.751922, -73.497362 -7.747808, -73.498212 -7.738714, -73.503455 -7.732051, -73.518196 -7.725327, -73.534916 -7.728396, -73.543515 -7.714874, -73.67485 -7.740136, -73.691579 -7.767781, -73.684302 -7.77644, -73.682387 -7.790045, -73.687385 -7.821003, -73.684166 -7.844643, -73.689605 -7.85392, -73.700051 -7.869181, -73.7135 -7.87585, -73.742523 -7.873089, -73.756858 -7.858531, -73.761643 -7.858028, -73.766617 -7.870594, -73.753142 -7.892322, -73.770584 -7.89723, -73.772499 -7.902373, -73.751411 -7.923761, -73.74697 -7.935623, -73.746993 -7.952944, -73.73481 -7.961738, -73.73175 -7.968395, -73.729256 -7.96944, -73.717889 -7.96013, -73.698104 -7.960584, -73.689163 -7.971753, -73.678498 -8.004805, -73.663886 -8.008579, -73.649971 -8.002916, -73.640365 -8.008119, -73.624252 -8.028835, -73.623939 -8.039743, -73.629581 -8.05086, -73.424069 -8.032558, -73.397452 -8.028529, -73.398549 -8.022758, -73.389794 -8.009928, -73.387356 -7.997725, -73.374225 -7.987089, -73.368438 -7.988942, -73.358311 -7.983677, -73.342458 -7.981938, -73.330876 -7.987586, -73.327597 -7.98429, -73.320777 -7.992168, -73.292204 -7.97892, -73.26484 -7.950052, -73.257627 -7.949267, -73.248993 -7.935294, -73.237714 -7.938505, -73.232685 -7.927113, -73.212178 -7.909068, -73.203621 -7.910072, -73.199555 -7.901665, -73.183974 -7.902499, -73.169204 -7.893421, -73.16376 -7.897765, -73.153531 -7.899453, -73.134217 -7.895762, -73.130728 -7.89859, -73.107211 -7.88642, -73.104144 -7.888279, -73.092134 -7.883524, -73.105214 -7.897573, -73.10594 -7.906174, -73.116086 -7.922651, -73.115142 -7.931426, -73.096711 -7.941308, -73.088619 -7.933874, -73.074531 -7.943926, -73.052786 -7.941092, -73.043879 -7.934175, -73.032473 -7.930558, -72.996509 -7.937703, -72.993238 -7.941315, -72.967431 -7.9333, -72.962909 -7.944348, -72.948108 -7.943448, -72.92699 -7.929665, -72.923069 -7.922646, -72.893887 -7.926508, -72.8781 -7.916075, -72.875361 -7.918207, -72.865446 -7.915263, -72.853017 -7.907977, -72.849557 -7.910568, -72.839617 -7.907972, -72.836852 -7.912092, -72.832645 -7.911435, -72.821088 -7.90075, -72.810048 -7.901011, -72.806044 -7.898127, -72.803724 -7.902515, -72.803005 -7.905681, -72.797206 -7.904315, -72.795395 -7.897053, -72.781813 -7.895455, -72.777926 -7.882393, -72.768455 -7.876045, -72.764878 -7.879999, -72.760269 -7.87969, -72.756108 -7.870508, -72.749103 -7.86818, -72.746025 -7.870963, -72.749033 -7.881157, -72.742773 -7.882523, -72.741311 -7.869665, -72.727786 -7.869719, -72.725914 -7.862076, -72.735117 -7.858944, -72.725719 -7.851005, -72.720994 -7.851744, -72.714683 -7.86265, -72.709826 -7.864278, -72.702474 -7.855332, -72.717275 -7.855286, -72.716697 -7.844341, -72.700754 -7.843363, -72.692942 -7.848791, -72.691187 -7.843057, -72.685339 -7.839335, -72.68856 -7.833755, -72.679548 -7.825309, -72.661388 -7.833224, -72.658752 -7.825576, -72.645627 -7.822958, -72.64133 -7.81581, -72.616086 -7.813251, -72.616373 -7.807655, -72.625224 -7.798927, -72.628102 -7.808738, -72.632682 -7.811181, -72.638798 -7.789588, -72.645836 -7.785628, -72.636657 -7.784742, -72.620759 -7.776384, -72.612941 -7.783083, -72.608619 -7.780259, -72.612369 -7.771375, -72.641701 -7.772175, -72.625303 -7.762288, -72.624954 -7.756179, -72.644846 -7.734298, -72.644494 -7.725252, -72.644414 -7.723189, -72.640488 -7.692148, -72.644021 -7.67601, -72.650514 -7.677954, -72.652854 -7.693701, -72.723744 -7.721435, -72.730682 -7.724148, -72.733671 -7.722239, -72.74775 -7.71325, -72.780161 -7.692557, -72.805927 -7.687039))\"]],\n        columns: [[\"number\", \"index\"], [\"number\", \"CityId\"], [\"string\", \"State\"], [\"string\", \"City\"], [\"string\", \"Geography\"]],\n        columnOptions: [{\"width\": \"1px\", \"className\": \"index_column\"}],\n        rowsPerPage: 25,\n        helpUrl: \"https://colab.research.google.com/notebooks/data_table.ipynb\",\n        suppressOutputScrolling: true,\n        minimumWidth: undefined,\n      });\n    ",
            "text/html": [
              "<div>\n",
              "<style scoped>\n",
              "    .dataframe tbody tr th:only-of-type {\n",
              "        vertical-align: middle;\n",
              "    }\n",
              "\n",
              "    .dataframe tbody tr th {\n",
              "        vertical-align: top;\n",
              "    }\n",
              "\n",
              "    .dataframe thead th {\n",
              "        text-align: right;\n",
              "    }\n",
              "</style>\n",
              "<table border=\"1\" class=\"dataframe\">\n",
              "  <thead>\n",
              "    <tr style=\"text-align: right;\">\n",
              "      <th></th>\n",
              "      <th>CityId</th>\n",
              "      <th>State</th>\n",
              "      <th>City</th>\n",
              "      <th>Geography</th>\n",
              "    </tr>\n",
              "  </thead>\n",
              "  <tbody>\n",
              "    <tr>\n",
              "      <th>0</th>\n",
              "      <td>2930</td>\n",
              "      <td>Acre</td>\n",
              "      <td>Rodrigues Alves</td>\n",
              "      <td>POLYGON((-72.805927 -7.687039, -72.806833 -7.6...</td>\n",
              "    </tr>\n",
              "  </tbody>\n",
              "</table>\n",
              "</div>"
            ],
            "text/plain": [
              "   CityId  ...                                          Geography\n",
              "0    2930  ...  POLYGON((-72.805927 -7.687039, -72.806833 -7.6...\n",
              "\n",
              "[1 rows x 4 columns]"
            ]
          },
          "metadata": {},
          "execution_count": 11
        }
      ]
    },
    {
      "cell_type": "code",
      "metadata": {
        "id": "GiaeIKTTrbha",
        "colab": {
          "base_uri": "https://localhost:8080/"
        },
        "outputId": "0cd3ac3a-a3dc-442e-fc1d-1933d78f220c"
      },
      "source": [
        "# Conferindo a Typagem dos atributos \n",
        "\n",
        "CityState.info()"
      ],
      "execution_count": 12,
      "outputs": [
        {
          "output_type": "stream",
          "name": "stdout",
          "text": [
            "<class 'pandas.core.frame.DataFrame'>\n",
            "RangeIndex: 5517 entries, 0 to 5516\n",
            "Data columns (total 4 columns):\n",
            " #   Column     Non-Null Count  Dtype \n",
            "---  ------     --------------  ----- \n",
            " 0   CityId     5517 non-null   int64 \n",
            " 1   State      5517 non-null   object\n",
            " 2   City       5517 non-null   object\n",
            " 3   Geography  5516 non-null   object\n",
            "dtypes: int64(1), object(3)\n",
            "memory usage: 172.5+ KB\n"
          ]
        }
      ]
    },
    {
      "cell_type": "code",
      "metadata": {
        "id": "1sv1sTwx6c5U"
      },
      "source": [
        "# Salvando os conjuntos de dados localmente\n",
        "\n",
        "TrainingSet.to_csv(\"TrainingSet.csv\")\n",
        "CityState.to_csv(\"CityState.csv\")"
      ],
      "execution_count": 13,
      "outputs": []
    },
    {
      "cell_type": "markdown",
      "metadata": {
        "id": "cbLTG8UAvuKg"
      },
      "source": [
        "# Merge das TrainingSet e CitySate "
      ]
    },
    {
      "cell_type": "markdown",
      "metadata": {
        "id": "3ZR65UKkutoC"
      },
      "source": [
        "Ambas as tabelas apresentam dados geograficos a serem relacionados, entretanto, para isso sera necessário preparar as chaves de relacionamento de ambas as tabelas: \n",
        "\n",
        "- **DataSet TrainingSet** - Longuitude (long) e Latitude (lat) - Será criado um ponto geográrico no conjunto de dados;\n",
        "\n",
        "- **DataSet CityState** - haverá apenas uma transformação no campo Geography. Será renomeado e tipado como geometrico. \n",
        "\n",
        "Observação: Foi utilizado o pacote python \"geopandas\".\n",
        "\n"
      ]
    },
    {
      "cell_type": "markdown",
      "metadata": {
        "id": "J-UJ74gJxqIo"
      },
      "source": [
        "**DataSet TraininSet**"
      ]
    },
    {
      "cell_type": "markdown",
      "metadata": {
        "id": "HmD3xdpSvsSi"
      },
      "source": [
        "Inserido no conjunto de dados TrainingSet a localização de ponto"
      ]
    },
    {
      "cell_type": "code",
      "metadata": {
        "id": "ilGBGZX72AHo"
      },
      "source": [
        "# Definindo o conjunto de dados TrainingSet como GeodataFrame\n",
        "\n",
        "TrainingSet = geopandas.GeoDataFrame(TrainingSet, geometry=geopandas.points_from_xy(TrainingSet.long, TrainingSet.lat))"
      ],
      "execution_count": null,
      "outputs": []
    },
    {
      "cell_type": "code",
      "metadata": {
        "id": "DbH93R2-rv9y",
        "colab": {
          "base_uri": "https://localhost:8080/"
        },
        "outputId": "2456573f-448e-4448-c76e-6b4508d2cabb"
      },
      "source": [
        "# Visualizando o DataSet TrainingSet\n",
        "\n",
        "TrainingSet.info()"
      ],
      "execution_count": null,
      "outputs": [
        {
          "output_type": "stream",
          "text": [
            "<class 'geopandas.geodataframe.GeoDataFrame'>\n",
            "RangeIndex: 615932 entries, 0 to 615931\n",
            "Data columns (total 15 columns):\n",
            " #   Column              Non-Null Count   Dtype              \n",
            "---  ------              --------------   -----              \n",
            " 0   DealerId            615932 non-null  object             \n",
            " 1   Conversion          615932 non-null  int64              \n",
            " 2   long                615932 non-null  float64            \n",
            " 3   lat                 615932 non-null  float64            \n",
            " 4   deviceid            615932 non-null  object             \n",
            " 5   EventTimestamp      615932 non-null  datetime64[ns, UTC]\n",
            " 6   DealerOpened        615932 non-null  bool               \n",
            " 7   Distributor         615932 non-null  object             \n",
            " 8   Position            615932 non-null  int64              \n",
            " 9   Quality             615932 non-null  float64            \n",
            " 10  DealerETAGroup      615932 non-null  object             \n",
            " 11  RecommendationType  615247 non-null  object             \n",
            " 12  Price               615932 non-null  float64            \n",
            " 13  SearchId            615932 non-null  object             \n",
            " 14  geometry            615932 non-null  geometry           \n",
            "dtypes: bool(1), datetime64[ns, UTC](1), float64(4), geometry(1), int64(2), object(6)\n",
            "memory usage: 66.4+ MB\n"
          ],
          "name": "stdout"
        }
      ]
    },
    {
      "cell_type": "markdown",
      "metadata": {
        "id": "4psiI8ic11X1"
      },
      "source": [
        "**DataSet CityState**"
      ]
    },
    {
      "cell_type": "code",
      "metadata": {
        "id": "xsAbX7TUfJxw"
      },
      "source": [
        "# Definindo o conjunto de dados CityState como GeodataFrame\n",
        "\n",
        "CityState = geopandas.GeoDataFrame(CityState)"
      ],
      "execution_count": null,
      "outputs": []
    },
    {
      "cell_type": "code",
      "metadata": {
        "id": "o6mHxf_o2-vB"
      },
      "source": [
        "# Definindo o ponto geográfico \n",
        "\n",
        "CityState = CityState.rename(columns={'Geography':'geometry'})\n",
        "CityState['geometry'] = gpd.GeoSeries.from_wkt(CityState['geometry'])"
      ],
      "execution_count": null,
      "outputs": []
    },
    {
      "cell_type": "code",
      "metadata": {
        "id": "yeWsRQOZbk1C",
        "colab": {
          "base_uri": "https://localhost:8080/"
        },
        "outputId": "80c26450-19f4-4681-92a8-0ecfc6fced09"
      },
      "source": [
        "# Visualizando a type das tabela\n",
        "\n",
        "CityState.info()"
      ],
      "execution_count": null,
      "outputs": [
        {
          "output_type": "stream",
          "text": [
            "<class 'geopandas.geodataframe.GeoDataFrame'>\n",
            "RangeIndex: 5517 entries, 0 to 5516\n",
            "Data columns (total 4 columns):\n",
            " #   Column    Non-Null Count  Dtype   \n",
            "---  ------    --------------  -----   \n",
            " 0   CityId    5517 non-null   int64   \n",
            " 1   State     5517 non-null   object  \n",
            " 2   City      5517 non-null   object  \n",
            " 3   geometry  5516 non-null   geometry\n",
            "dtypes: geometry(1), int64(1), object(2)\n",
            "memory usage: 172.5+ KB\n"
          ],
          "name": "stdout"
        }
      ]
    },
    {
      "cell_type": "code",
      "metadata": {
        "id": "7jf5cCSFchYX",
        "colab": {
          "base_uri": "https://localhost:8080/"
        },
        "outputId": "a8caab56-46c1-41f6-8c68-32e48c4110a7"
      },
      "source": [
        "# Visualizando o conjunto de dados \n",
        "\n",
        "CityState.head(2)"
      ],
      "execution_count": null,
      "outputs": [
        {
          "output_type": "execute_result",
          "data": {
            "application/vnd.google.colaboratory.module+javascript": "\n      import \"https://ssl.gstatic.com/colaboratory/data_table/a6224c040fa35dcf/data_table.js\";\n\n      window.createDataTable({\n        data: [[{\n            'v': 0,\n            'f': \"0\",\n        },\n{\n            'v': 2930,\n            'f': \"2930\",\n        },\n\"Acre\",\n\"Rodrigues Alves\",\n\"POLYGON ((-72.805927 -7.687039, -72.806833 -7.686844, -72.80699199999999 -7.686811, -72.86011499999999 -7.67543, -72.91483700000001 -7.663707, -72.930212 -7.678967, -72.946397 -7.689318, -72.953395 -7.681114, -72.96146 -7.682541, -72.977642 -7.674103, -72.991108 -7.671204, -73.000377 -7.673007, -73.00502899999999 -7.670066, -73.01800799999999 -7.672162, -73.032679 -7.669545, -73.038552 -7.664584, -73.18256100000001 -7.724767, -73.216527 -7.755528, -73.256124 -7.791361, -73.307104 -7.777898, -73.307017 -7.77273, -73.301011 -7.765383, -73.302673 -7.752448, -73.318399 -7.742451, -73.338262 -7.730718, -73.3313 -7.710727, -73.34105599999999 -7.710565, -73.35398000000001 -7.723456, -73.361223 -7.722982, -73.367223 -7.732034, -73.367002 -7.737049, -73.374217 -7.743999, -73.385116 -7.744066, -73.38595599999999 -7.740228, -73.397896 -7.746583, -73.402857 -7.743995, -73.41231500000001 -7.75095, -73.422006 -7.766543, -73.43534 -7.766341, -73.443307 -7.772205, -73.45148 -7.773239, -73.454774 -7.766852, -73.46149800000001 -7.768382, -73.462328 -7.765185, -73.47619299999999 -7.757707, -73.485748 -7.759059, -73.49011299999999 -7.751922, -73.497362 -7.747808, -73.498212 -7.738714, -73.503455 -7.732051, -73.518196 -7.725327, -73.534916 -7.728396, -73.543515 -7.714874, -73.67485000000001 -7.740136, -73.691579 -7.767781, -73.684302 -7.77644, -73.68238700000001 -7.790045, -73.68738500000001 -7.821003, -73.684166 -7.844643, -73.689605 -7.85392, -73.700051 -7.869181, -73.7135 -7.87585, -73.74252300000001 -7.873089, -73.75685799999999 -7.858531, -73.76164300000001 -7.858028, -73.766617 -7.870594, -73.753142 -7.892322, -73.770584 -7.89723, -73.772499 -7.902373, -73.751411 -7.923761, -73.74697 -7.935623, -73.746993 -7.952944, -73.73481 -7.961738, -73.73175000000001 -7.968395, -73.72925600000001 -7.96944, -73.717889 -7.96013, -73.698104 -7.960584, -73.68916299999999 -7.971753, -73.678498 -8.004804999999999, -73.66388600000001 -8.008578999999999, -73.64997099999999 -8.002916000000001, -73.640365 -8.008119000000001, -73.624252 -8.028835000000001, -73.62393899999999 -8.039743, -73.629581 -8.05086, -73.424069 -8.032558, -73.397452 -8.028529000000001, -73.398549 -8.022758, -73.38979399999999 -8.009928, -73.387356 -7.997725, -73.374225 -7.987089, -73.368438 -7.988942, -73.358311 -7.983677, -73.34245799999999 -7.981938, -73.330876 -7.987586, -73.327597 -7.98429, -73.32077700000001 -7.992168, -73.292204 -7.97892, -73.26484000000001 -7.950052, -73.257627 -7.949267, -73.248993 -7.935294, -73.237714 -7.938505, -73.232685 -7.927113, -73.21217799999999 -7.909068, -73.203621 -7.910072, -73.199555 -7.901665, -73.18397400000001 -7.902499, -73.16920399999999 -7.893421, -73.16376 -7.897765, -73.153531 -7.899453, -73.13421700000001 -7.895762, -73.130728 -7.89859, -73.10721100000001 -7.88642, -73.10414400000001 -7.888279, -73.092134 -7.883524, -73.105214 -7.897573, -73.10594 -7.906174, -73.116086 -7.922651, -73.11514200000001 -7.931426, -73.096711 -7.941308, -73.08861899999999 -7.933874, -73.07453099999999 -7.943926, -73.052786 -7.941092, -73.043879 -7.934175, -73.032473 -7.930558, -72.996509 -7.937703, -72.99323800000001 -7.941315, -72.967431 -7.9333, -72.962909 -7.944348, -72.948108 -7.943448, -72.92699 -7.929665, -72.923069 -7.922646, -72.89388700000001 -7.926508, -72.8781 -7.916075, -72.875361 -7.918207, -72.86544600000001 -7.915263, -72.85301699999999 -7.907977, -72.849557 -7.910568, -72.839617 -7.907972, -72.83685199999999 -7.912092, -72.832645 -7.911435, -72.821088 -7.90075, -72.81004799999999 -7.901011, -72.806044 -7.898127, -72.803724 -7.902515, -72.803005 -7.905681, -72.797206 -7.904315, -72.795395 -7.897053, -72.781813 -7.895455, -72.77792599999999 -7.882393, -72.768455 -7.876045, -72.764878 -7.879999, -72.76026899999999 -7.87969, -72.756108 -7.870508, -72.74910300000001 -7.86818, -72.746025 -7.870963, -72.749033 -7.881157, -72.742773 -7.882523, -72.741311 -7.869665, -72.72778599999999 -7.869719, -72.725914 -7.862076, -72.735117 -7.858944, -72.725719 -7.851005, -72.720994 -7.851744, -72.71468299999999 -7.86265, -72.70982600000001 -7.864278, -72.702474 -7.855332, -72.717275 -7.855286, -72.716697 -7.844341, -72.700754 -7.843363, -72.692942 -7.848791, -72.691187 -7.843057, -72.685339 -7.839335, -72.68856 -7.833755, -72.679548 -7.825309, -72.661388 -7.833224, -72.65875200000001 -7.825576, -72.645627 -7.822958, -72.64133 -7.81581, -72.616086 -7.813251, -72.616373 -7.807655, -72.625224 -7.798927, -72.628102 -7.808738, -72.632682 -7.811181, -72.63879799999999 -7.789588, -72.645836 -7.785628, -72.636657 -7.784742, -72.62075900000001 -7.776384, -72.61294100000001 -7.783083, -72.608619 -7.780259, -72.612369 -7.771375, -72.641701 -7.772175, -72.625303 -7.762288, -72.624954 -7.756179, -72.644846 -7.734298, -72.64449399999999 -7.725252, -72.644414 -7.723189, -72.640488 -7.692148, -72.644021 -7.67601, -72.650514 -7.677954, -72.652854 -7.693701, -72.723744 -7.721435, -72.730682 -7.724148, -72.733671 -7.722239, -72.74775 -7.71325, -72.78016100000001 -7.692557, -72.805927 -7.687039))\"],\n [{\n            'v': 1,\n            'f': \"1\",\n        },\n{\n            'v': 2920,\n            'f': \"2920\",\n        },\n\"Acre\",\n\"Jord\\u00e3o\",\n\"POLYGON ((-71.55529799999999 -8.647394, -71.56644900000001 -8.647786999999999, -71.57427199999999 -8.656955999999999, -71.583894 -8.653661, -71.601249 -8.66019, -71.603577 -8.663639, -71.601107 -8.673673000000001, -71.607311 -8.677479999999999, -71.610255 -8.67698, -71.60916 -8.668281, -71.614075 -8.664737000000001, -71.626347 -8.677479, -71.61885700000001 -8.689560999999999, -71.62295899999999 -8.690889, -71.62769400000001 -8.687848000000001, -71.63587800000001 -8.688272, -71.641875 -8.698200999999999, -71.64711800000001 -8.694654, -71.650983 -8.69575, -71.65919599999999 -8.706318, -71.669871 -8.699035, -71.68150199999999 -8.700590999999999, -71.681786 -8.707611, -71.674283 -8.717447, -71.692266 -8.719191, -71.692667 -8.729205, -71.70008900000001 -8.727653999999999, -71.708529 -8.730216, -71.712953 -8.72204, -71.71762200000001 -8.725656000000001, -71.71755400000001 -8.735673999999999, -71.712423 -8.741749, -71.718013 -8.740679, -71.719004 -8.747598999999999, -71.726685 -8.749229, -71.729131 -8.755763999999999, -71.73956800000001 -8.754706000000001, -71.740713 -8.763169, -71.750461 -8.764408, -71.752295 -8.769722, -71.749606 -8.776210000000001, -71.763684 -8.78397, -71.764737 -8.798985999999999, -71.78241 -8.814182000000001, -71.785466 -8.813119, -71.78736600000001 -8.804902999999999, -71.796404 -8.805885, -71.794444 -8.816601, -71.81280700000001 -8.82175, -71.81094 -8.830399999999999, -71.816868 -8.825063, -71.82764 -8.823324, -71.83111 -8.827836, -71.84056 -8.822013, -71.848219 -8.825507999999999, -71.852109 -8.815134, -71.86069999999999 -8.821154, -71.87200799999999 -8.817043, -71.879435 -8.8102, -71.887044 -8.808268999999999, -71.892949 -8.811593999999999, -71.897127 -8.804354999999999, -71.907777 -8.806611999999999, -71.90856700000001 -8.799306, -71.914209 -8.798887000000001, -71.91770099999999 -8.788284000000001, -71.92494499999999 -8.794124, -71.92745600000001 -8.790314, -71.95690999999999 -8.784936, -71.967958 -8.778297999999999, -71.98316 -8.785104, -71.989693 -8.796189999999999, -71.992665 -8.793865, -72.00447200000001 -8.801264, -72.009443 -8.800084999999999, -72.01875200000001 -8.804966, -72.033923 -8.823074999999999, -72.044408 -8.830422, -72.05009699999999 -8.83244, -72.05345699999999 -8.838791000000001, -72.07253900000001 -8.840714999999999, -72.080873 -8.853706000000001, -72.079142 -8.867125, -72.04400699999999 -8.900407, -72.05379600000001 -8.933980999999999, -72.036235 -8.944819000000001, -72.02846599999999 -8.973082, -72.043012 -9.048276, -72.06332 -9.179423, -72.04462700000001 -9.203498, -72.05356399999999 -9.217518999999999, -72.07004499999999 -9.243366, -72.08204600000001 -9.263615, -72.15593800000001 -9.383324, -72.20849800000001 -9.405631, -72.251542 -9.450218, -72.25695399999999 -9.4627, -72.27592 -9.487301, -72.299331 -9.504187, -72.37123099999999 -9.508875, -72.37115900000001 -9.514478, -72.368402 -9.513692000000001, -72.373108 -9.520041000000001, -72.365585 -9.520941000000001, -72.361891 -9.530996, -72.354274 -9.540411000000001, -72.344826 -9.545284000000001, -72.330001 -9.533567, -72.320387 -9.542001000000001, -72.312973 -9.543989, -72.298643 -9.534323000000001, -72.28319500000001 -9.539887, -72.28800099999999 -9.600917000000001, -72.270529 -9.615012999999999, -72.25846799999999 -9.610968, -72.253638 -9.612296000000001, -72.252357 -9.61693, -72.259308 -9.640653, -72.25283 -9.65137, -72.246025 -9.654494, -72.247224 -9.662985000000001, -72.25225 -9.675947000000001, -72.25136500000001 -9.690553, -72.264419 -9.713521999999999, -72.26239 -9.726478, -72.271225 -9.742625, -72.269164 -9.749746999999999, -72.252107 -9.754216, -72.24369 -9.766106000000001, -72.23722100000001 -9.761984999999999, -72.22750000000001 -9.762314, -72.214995 -9.774403, -72.201858 -9.774425000000001, -72.175804 -9.782280999999999, -72.153156 -9.796932999999999, -72.110589 -9.762937000000001, -72.0898 -9.757504000000001, -72.034918 -9.743145999999999, -72.038607 -9.766697000000001, -72.036475 -9.765793, -72.00843 -9.753906000000001, -71.99162200000001 -9.716658000000001, -71.95266100000001 -9.713911, -71.929243 -9.722258, -71.920052 -9.685559, -71.88431 -9.667289, -71.88481400000001 -9.652981, -71.869708 -9.636734000000001, -71.835718 -9.622292, -71.83863599999999 -9.600657999999999, -71.834851 -9.593602000000001, -71.826645 -9.591886000000001, -71.820757 -9.578984999999999, -71.80771300000001 -9.566405, -71.80876000000001 -9.558420999999999, -71.810951 -9.553851, -71.80573800000001 -9.538891, -71.809382 -9.530611, -71.80042899999999 -9.528314, -71.794307 -9.522178, -71.802111 -9.504958999999999, -71.792805 -9.496689, -71.792176 -9.486394000000001, -71.788005 -9.482968, -71.778909 -9.483385, -71.775572 -9.47955, -71.75901 -9.470853, -71.750553 -9.459885, -71.75080800000001 -9.452641, -71.746942 -9.446948000000001, -71.73657900000001 -9.449545000000001, -71.73764199999999 -9.443398999999999, -71.731095 -9.441209000000001, -71.72971 -9.428599, -71.72372 -9.426403000000001, -71.726387 -9.412243999999999, -71.72240600000001 -9.400515, -71.723619 -9.38547, -71.73288599999999 -9.368264999999999, -71.729443 -9.366797, -71.72641299999999 -9.358091, -71.730857 -9.355209, -71.724287 -9.344474999999999, -71.71779600000001 -9.343918, -71.715321 -9.329491000000001, -71.71894899999999 -9.326510000000001, -71.715255 -9.320952999999999, -71.718104 -9.320024, -71.71389499999999 -9.3164, -71.715341 -9.313026000000001, -71.711538 -9.308493, -71.703754 -9.307002000000001, -71.704931 -9.303133000000001, -71.698807 -9.299289999999999, -71.69439199999999 -9.280108, -71.702676 -9.273904, -71.697847 -9.270109, -71.69962 -9.266966, -71.69223700000001 -9.267929000000001, -71.683989 -9.259451, -71.677993 -9.260783, -71.680964 -9.256607000000001, -71.673202 -9.257894, -71.669618 -9.251018, -71.65742299999999 -9.246079, -71.658371 -9.239140000000001, -71.655556 -9.236558, -71.649102 -9.239647, -71.64517499999999 -9.218237999999999, -71.641255 -9.217653, -71.638993 -9.210416, -71.64425900000001 -9.205961, -71.638603 -9.205476000000001, -71.637466 -9.198990999999999, -71.633325 -9.20209, -71.629712 -9.205247999999999, -71.630472 -9.196527, -71.61495600000001 -9.187924000000001, -71.624623 -9.181623999999999, -71.61805699999999 -9.165293, -71.6206 -9.158868999999999, -71.618533 -9.153999000000001, -71.62297 -9.153003, -71.62670300000001 -9.144406, -71.611199 -9.128959, -71.605071 -9.128154, -71.615267 -9.117785, -71.60584900000001 -9.113640999999999, -71.60333 -9.099035000000001, -71.61009799999999 -9.094920999999999, -71.60857300000001 -9.091627000000001, -71.60503300000001 -9.094343, -71.603894 -9.091543, -71.612016 -9.087624, -71.605069 -9.087206999999999, -71.610405 -9.080441, -71.603109 -9.072566999999999, -71.596962 -9.072903, -71.591184 -9.063262999999999, -71.59665099999999 -9.062346, -71.594483 -9.059554, -71.59799700000001 -9.057218000000001, -71.59679199999999 -9.053307999999999, -71.601899 -9.043473000000001, -71.595624 -9.030004999999999, -71.598287 -9.023844, -71.592303 -9.022307, -71.59427100000001 -9.013605999999999, -71.585869 -9.007056, -71.586102 -8.998513000000001, -71.58144900000001 -8.99366, -71.58516400000001 -8.986586000000001, -71.578322 -8.984147999999999, -71.574926 -8.978146000000001, -71.56943699999999 -8.97988, -71.5675 -8.96799, -71.57386700000001 -8.961539999999999, -71.563822 -8.946985, -71.55687399999999 -8.946068, -71.554879 -8.942717999999999, -71.548979 -8.944485, -71.547642 -8.93411, -71.544169 -8.937906999999999, -71.54330299999999 -8.931888000000001, -71.540345 -8.938021000000001, -71.537577 -8.937426, -71.53372 -8.928559999999999, -71.53634099999999 -8.924769, -71.52776900000001 -8.914472999999999, -71.527469 -8.909238999999999, -71.518933 -8.908507999999999, -71.51465899999999 -8.902803, -71.508532 -8.905974000000001, -71.50558100000001 -8.900086, -71.500754 -8.904007999999999, -71.500236 -8.896934, -71.49527999999999 -8.890560000000001, -71.48524399999999 -8.893992000000001, -71.481942 -8.883006, -71.48898800000001 -8.881066000000001, -71.50089199999999 -8.869763000000001, -71.525514 -8.872896000000001, -71.53809800000001 -8.859726999999999, -71.552796 -8.850770000000001, -71.61578900000001 -8.858055999999999, -71.619951 -8.838967, -71.61848999999999 -8.825263, -71.61415 -8.818550999999999, -71.59726000000001 -8.804345, -71.590884 -8.787538, -71.58070499999999 -8.778525999999999, -71.580943 -8.772112, -71.57383 -8.757320999999999, -71.56656 -8.753954, -71.555279 -8.741766, -71.54184100000001 -8.737596, -71.545269 -8.708784, -71.55398099999999 -8.703108, -71.554283 -8.692152, -71.559325 -8.679572, -71.55713900000001 -8.668941, -71.55879299999999 -8.656404999999999, -71.55529799999999 -8.647394))\"]],\n        columns: [[\"number\", \"index\"], [\"number\", \"CityId\"], [\"string\", \"State\"], [\"string\", \"City\"], [\"string\", \"geometry\"]],\n        columnOptions: [{\"width\": \"1px\", \"className\": \"index_column\"}],\n        rowsPerPage: 25,\n        helpUrl: \"https://colab.research.google.com/notebooks/data_table.ipynb\",\n        suppressOutputScrolling: true,\n        minimumWidth: undefined,\n      });\n    ",
            "text/html": [
              "<div>\n",
              "<style scoped>\n",
              "    .dataframe tbody tr th:only-of-type {\n",
              "        vertical-align: middle;\n",
              "    }\n",
              "\n",
              "    .dataframe tbody tr th {\n",
              "        vertical-align: top;\n",
              "    }\n",
              "\n",
              "    .dataframe thead th {\n",
              "        text-align: right;\n",
              "    }\n",
              "</style>\n",
              "<table border=\"1\" class=\"dataframe\">\n",
              "  <thead>\n",
              "    <tr style=\"text-align: right;\">\n",
              "      <th></th>\n",
              "      <th>CityId</th>\n",
              "      <th>State</th>\n",
              "      <th>City</th>\n",
              "      <th>geometry</th>\n",
              "    </tr>\n",
              "  </thead>\n",
              "  <tbody>\n",
              "    <tr>\n",
              "      <th>0</th>\n",
              "      <td>2930</td>\n",
              "      <td>Acre</td>\n",
              "      <td>Rodrigues Alves</td>\n",
              "      <td>POLYGON ((-72.80593 -7.68704, -72.80683 -7.686...</td>\n",
              "    </tr>\n",
              "    <tr>\n",
              "      <th>1</th>\n",
              "      <td>2920</td>\n",
              "      <td>Acre</td>\n",
              "      <td>Jordão</td>\n",
              "      <td>POLYGON ((-71.55530 -8.64739, -71.56645 -8.647...</td>\n",
              "    </tr>\n",
              "  </tbody>\n",
              "</table>\n",
              "</div>"
            ],
            "text/plain": [
              "   CityId  ...                                           geometry\n",
              "0    2930  ...  POLYGON ((-72.80593 -7.68704, -72.80683 -7.686...\n",
              "1    2920  ...  POLYGON ((-71.55530 -8.64739, -71.56645 -8.647...\n",
              "\n",
              "[2 rows x 4 columns]"
            ]
          },
          "metadata": {
            "tags": []
          },
          "execution_count": 19
        }
      ]
    },
    {
      "cell_type": "markdown",
      "metadata": {
        "id": "xKEeIe5D3QoD"
      },
      "source": [
        "**Merge das Tabelas TraininSet x CityState"
      ]
    },
    {
      "cell_type": "code",
      "metadata": {
        "id": "j6W5p_OyHalV"
      },
      "source": [
        "# Dataframe após merge das tabealas\n",
        "\n",
        "df = geopandas.sjoin(TrainingSet,CityState, how=\"left\", op='intersects')"
      ],
      "execution_count": null,
      "outputs": []
    },
    {
      "cell_type": "code",
      "metadata": {
        "id": "1_LTVMMTJXaj",
        "colab": {
          "base_uri": "https://localhost:8080/"
        },
        "outputId": "a20d2e1f-579f-4de0-f5fa-2a4bd0be5f20"
      },
      "source": [
        "df.info()"
      ],
      "execution_count": null,
      "outputs": [
        {
          "output_type": "stream",
          "text": [
            "<class 'geopandas.geodataframe.GeoDataFrame'>\n",
            "Int64Index: 615932 entries, 0 to 615931\n",
            "Data columns (total 19 columns):\n",
            " #   Column              Non-Null Count   Dtype              \n",
            "---  ------              --------------   -----              \n",
            " 0   DealerId            615932 non-null  object             \n",
            " 1   Conversion          615932 non-null  int64              \n",
            " 2   long                615932 non-null  float64            \n",
            " 3   lat                 615932 non-null  float64            \n",
            " 4   deviceid            615932 non-null  object             \n",
            " 5   EventTimestamp      615932 non-null  datetime64[ns, UTC]\n",
            " 6   DealerOpened        615932 non-null  bool               \n",
            " 7   Distributor         615932 non-null  object             \n",
            " 8   Position            615932 non-null  int64              \n",
            " 9   Quality             615932 non-null  float64            \n",
            " 10  DealerETAGroup      615932 non-null  object             \n",
            " 11  RecommendationType  615247 non-null  object             \n",
            " 12  Price               615932 non-null  float64            \n",
            " 13  SearchId            615932 non-null  object             \n",
            " 14  geometry            615932 non-null  geometry           \n",
            " 15  index_right         615847 non-null  float64            \n",
            " 16  CityId              615847 non-null  float64            \n",
            " 17  State               615847 non-null  object             \n",
            " 18  City                615847 non-null  object             \n",
            "dtypes: bool(1), datetime64[ns, UTC](1), float64(6), geometry(1), int64(2), object(8)\n",
            "memory usage: 89.9+ MB\n"
          ],
          "name": "stdout"
        }
      ]
    },
    {
      "cell_type": "markdown",
      "metadata": {
        "id": "nx7wwUDavUwl"
      },
      "source": [
        "# Pré-tratamento dos dados"
      ]
    },
    {
      "cell_type": "markdown",
      "metadata": {
        "id": "Ot4TQM2w2EHc"
      },
      "source": [
        "Dropando Missing\n",
        "\n",
        "Ao analisar a função seguir, nota-se valor nulos na variáveis RecomendationTypy e com atributos relacionado do dataset CitySate. Nesses casos, decidiu-se pela exclusão das linhas com valores nulos."
      ]
    },
    {
      "cell_type": "code",
      "metadata": {
        "colab": {
          "base_uri": "https://localhost:8080/"
        },
        "id": "9dP4yi-239mS",
        "outputId": "93cf223e-f87a-42c8-92da-04c78d93c8fc"
      },
      "source": [
        "# Verificando a frequência com valores nulos\n",
        "\n",
        "df.isna().sum()"
      ],
      "execution_count": null,
      "outputs": [
        {
          "output_type": "execute_result",
          "data": {
            "text/plain": [
              "DealerId                0\n",
              "Conversion              0\n",
              "long                    0\n",
              "lat                     0\n",
              "deviceid                0\n",
              "EventTimestamp          0\n",
              "DealerOpened            0\n",
              "Distributor             0\n",
              "Position                0\n",
              "Quality                 0\n",
              "DealerETAGroup          0\n",
              "RecommendationType    685\n",
              "Price                   0\n",
              "SearchId                0\n",
              "geometry                0\n",
              "index_right            85\n",
              "CityId                 85\n",
              "State                  85\n",
              "City                   85\n",
              "dtype: int64"
            ]
          },
          "metadata": {
            "tags": []
          },
          "execution_count": 29
        }
      ]
    },
    {
      "cell_type": "code",
      "metadata": {
        "id": "kWEFJjJm4xGG"
      },
      "source": [
        "# dropando todas as linhas com valores nulos\n",
        "\n",
        "df.dropna(inplace=True) "
      ],
      "execution_count": null,
      "outputs": []
    },
    {
      "cell_type": "code",
      "metadata": {
        "id": "rbZqtaZ0AMOJ",
        "colab": {
          "base_uri": "https://localhost:8080/"
        },
        "outputId": "aabc6f05-e09a-4314-dce4-cd4cf98a50d4"
      },
      "source": [
        "df.isna().sum()"
      ],
      "execution_count": null,
      "outputs": [
        {
          "output_type": "execute_result",
          "data": {
            "text/plain": [
              "DealerId              0\n",
              "Conversion            0\n",
              "long                  0\n",
              "lat                   0\n",
              "deviceid              0\n",
              "EventTimestamp        0\n",
              "DealerOpened          0\n",
              "Distributor           0\n",
              "Position              0\n",
              "Quality               0\n",
              "DealerETAGroup        0\n",
              "RecommendationType    0\n",
              "Price                 0\n",
              "SearchId              0\n",
              "geometry              0\n",
              "index_right           0\n",
              "CityId                0\n",
              "State                 0\n",
              "City                  0\n",
              "dtype: int64"
            ]
          },
          "metadata": {
            "tags": []
          },
          "execution_count": 23
        }
      ]
    },
    {
      "cell_type": "code",
      "metadata": {
        "id": "FlWz_YjiBSse",
        "colab": {
          "base_uri": "https://localhost:8080/",
          "height": 377
        },
        "outputId": "bd62de30-f00b-4837-8e90-b38c6683549b"
      },
      "source": [
        "# Visualizando o DataFrame \n",
        "\n",
        "df.head()"
      ],
      "execution_count": null,
      "outputs": [
        {
          "output_type": "execute_result",
          "data": {
            "application/vnd.google.colaboratory.module+javascript": "\n      import \"https://ssl.gstatic.com/colaboratory/data_table/a6224c040fa35dcf/data_table.js\";\n\n      window.createDataTable({\n        data: [[{\n            'v': 0,\n            'f': \"0\",\n        },\n\"__+0G1cwgYivqbBQl03GLI/qBJhP7z34gAaiKcDJUHXRg=\",\n{\n            'v': 0,\n            'f': \"0\",\n        },\n{\n            'v': -46.4470699,\n            'f': \"-46.4470699\",\n        },\n{\n            'v': -23.692436999999998,\n            'f': \"-23.692436999999998\",\n        },\n\"__DgaD5Lhp22YQKyzbqGgd14I77qBO8szy1BHJ+EALcCQ=\",\n\"2019-07-30 23:08:33.941002+00:00\",\nfalse,\n\"COPAGAZ\",\n{\n            'v': 7,\n            'f': \"7\",\n        },\n{\n            'v': 4.95,\n            'f': \"4.95\",\n        },\n\"15-30\",\n\"N/A\",\n{\n            'v': 69.98999786376953,\n            'f': \"69.98999786376953\",\n        },\n\"__DgaD5Lhp22YQKyzbqGgd14I77qBO8szy1BHJ+EALcCQ=|1564528113\",\n\"POINT (-46.4470699 -23.692437)\",\n{\n            'v': 2418.0,\n            'f': \"2418.0\",\n        },\n{\n            'v': 326.0,\n            'f': \"326.0\",\n        },\n\"Sao Paulo\",\n\"Mau\\u00e1\"],\n [{\n            'v': 1,\n            'f': \"1\",\n        },\n\"__+0G1cwgYivqbBQl03GLI/qBJhP7z34gAaiKcDJUHXRg=\",\n{\n            'v': 0,\n            'f': \"0\",\n        },\n{\n            'v': -46.4492375,\n            'f': \"-46.4492375\",\n        },\n{\n            'v': -23.6734847,\n            'f': \"-23.6734847\",\n        },\n\"__DifXy9yPxgeRhOrDA9Iwu87Dmwf8X9MuslzAmevI9cM=\",\n\"2019-06-01 17:23:21.881002+00:00\",\ntrue,\n\"COPAGAZ\",\n{\n            'v': 2,\n            'f': \"2\",\n        },\n{\n            'v': 4.84,\n            'f': \"4.84\",\n        },\n\"15-30\",\n\"N/A\",\n{\n            'v': 69.98999786376953,\n            'f': \"69.98999786376953\",\n        },\n\"__DifXy9yPxgeRhOrDA9Iwu87Dmwf8X9MuslzAmevI9cM=|1559409801\",\n\"POINT (-46.4492375 -23.6734847)\",\n{\n            'v': 2418.0,\n            'f': \"2418.0\",\n        },\n{\n            'v': 326.0,\n            'f': \"326.0\",\n        },\n\"Sao Paulo\",\n\"Mau\\u00e1\"],\n [{\n            'v': 2,\n            'f': \"2\",\n        },\n\"__+0G1cwgYivqbBQl03GLI/qBJhP7z34gAaiKcDJUHXRg=\",\n{\n            'v': 0,\n            'f': \"0\",\n        },\n{\n            'v': -46.4492375,\n            'f': \"-46.4492375\",\n        },\n{\n            'v': -23.6734847,\n            'f': \"-23.6734847\",\n        },\n\"__DifXy9yPxgeRhOrDA9Iwu87Dmwf8X9MuslzAmevI9cM=\",\n\"2019-06-01 21:43:12.103002+00:00\",\ntrue,\n\"COPAGAZ\",\n{\n            'v': 3,\n            'f': \"3\",\n        },\n{\n            'v': 4.84,\n            'f': \"4.84\",\n        },\n\"15-30\",\n\"N/A\",\n{\n            'v': 64.98999786376953,\n            'f': \"64.98999786376953\",\n        },\n\"__DifXy9yPxgeRhOrDA9Iwu87Dmwf8X9MuslzAmevI9cM=|1559425392\",\n\"POINT (-46.4492375 -23.6734847)\",\n{\n            'v': 2418.0,\n            'f': \"2418.0\",\n        },\n{\n            'v': 326.0,\n            'f': \"326.0\",\n        },\n\"Sao Paulo\",\n\"Mau\\u00e1\"],\n [{\n            'v': 3,\n            'f': \"3\",\n        },\n\"__+0G1cwgYivqbBQl03GLI/qBJhP7z34gAaiKcDJUHXRg=\",\n{\n            'v': 0,\n            'f': \"0\",\n        },\n{\n            'v': -46.4624432,\n            'f': \"-46.4624432\",\n        },\n{\n            'v': -23.6834559,\n            'f': \"-23.6834559\",\n        },\n\"__DifXy9yPxgeRhOrDA9Iwu87Dmwf8X9MuslzAmevI9cM=\",\n\"2019-06-02 16:58:04.585006+00:00\",\nfalse,\n\"COPAGAZ\",\n{\n            'v': 3,\n            'f': \"3\",\n        },\n{\n            'v': 4.846153846153846,\n            'f': \"4.846153846153846\",\n        },\n\"15-30\",\n\"N/A\",\n{\n            'v': 69.98999786376953,\n            'f': \"69.98999786376953\",\n        },\n\"__DifXy9yPxgeRhOrDA9Iwu87Dmwf8X9MuslzAmevI9cM=|1559494684\",\n\"POINT (-46.4624432 -23.6834559)\",\n{\n            'v': 2418.0,\n            'f': \"2418.0\",\n        },\n{\n            'v': 326.0,\n            'f': \"326.0\",\n        },\n\"Sao Paulo\",\n\"Mau\\u00e1\"],\n [{\n            'v': 4,\n            'f': \"4\",\n        },\n\"__+0G1cwgYivqbBQl03GLI/qBJhP7z34gAaiKcDJUHXRg=\",\n{\n            'v': 0,\n            'f': \"0\",\n        },\n{\n            'v': -46.4444723,\n            'f': \"-46.4444723\",\n        },\n{\n            'v': -23.6876979,\n            'f': \"-23.6876979\",\n        },\n\"__DifXy9yPxgeRhOrDA9Iwu87Dmwf8X9MuslzAmevI9cM=\",\n\"2019-06-02 17:24:35.304002+00:00\",\nfalse,\n\"COPAGAZ\",\n{\n            'v': 3,\n            'f': \"3\",\n        },\n{\n            'v': 4.846153846153846,\n            'f': \"4.846153846153846\",\n        },\n\"15-30\",\n\"N/A\",\n{\n            'v': 69.98999786376953,\n            'f': \"69.98999786376953\",\n        },\n\"__DifXy9yPxgeRhOrDA9Iwu87Dmwf8X9MuslzAmevI9cM=|1559496275\",\n\"POINT (-46.4444723 -23.6876979)\",\n{\n            'v': 2418.0,\n            'f': \"2418.0\",\n        },\n{\n            'v': 326.0,\n            'f': \"326.0\",\n        },\n\"Sao Paulo\",\n\"Mau\\u00e1\"]],\n        columns: [[\"number\", \"index\"], [\"string\", \"DealerId\"], [\"number\", \"Conversion\"], [\"number\", \"long\"], [\"number\", \"lat\"], [\"string\", \"deviceid\"], [\"string\", \"EventTimestamp\"], [\"string\", \"DealerOpened\"], [\"string\", \"Distributor\"], [\"number\", \"Position\"], [\"number\", \"Quality\"], [\"string\", \"DealerETAGroup\"], [\"string\", \"RecommendationType\"], [\"number\", \"Price\"], [\"string\", \"SearchId\"], [\"string\", \"geometry\"], [\"number\", \"index_right\"], [\"number\", \"CityId\"], [\"string\", \"State\"], [\"string\", \"City\"]],\n        columnOptions: [{\"width\": \"1px\", \"className\": \"index_column\"}],\n        rowsPerPage: 25,\n        helpUrl: \"https://colab.research.google.com/notebooks/data_table.ipynb\",\n        suppressOutputScrolling: true,\n        minimumWidth: undefined,\n      });\n    ",
            "text/html": [
              "<div>\n",
              "<style scoped>\n",
              "    .dataframe tbody tr th:only-of-type {\n",
              "        vertical-align: middle;\n",
              "    }\n",
              "\n",
              "    .dataframe tbody tr th {\n",
              "        vertical-align: top;\n",
              "    }\n",
              "\n",
              "    .dataframe thead th {\n",
              "        text-align: right;\n",
              "    }\n",
              "</style>\n",
              "<table border=\"1\" class=\"dataframe\">\n",
              "  <thead>\n",
              "    <tr style=\"text-align: right;\">\n",
              "      <th></th>\n",
              "      <th>DealerId</th>\n",
              "      <th>Conversion</th>\n",
              "      <th>long</th>\n",
              "      <th>lat</th>\n",
              "      <th>deviceid</th>\n",
              "      <th>EventTimestamp</th>\n",
              "      <th>DealerOpened</th>\n",
              "      <th>Distributor</th>\n",
              "      <th>Position</th>\n",
              "      <th>Quality</th>\n",
              "      <th>DealerETAGroup</th>\n",
              "      <th>RecommendationType</th>\n",
              "      <th>Price</th>\n",
              "      <th>SearchId</th>\n",
              "      <th>geometry</th>\n",
              "      <th>index_right</th>\n",
              "      <th>CityId</th>\n",
              "      <th>State</th>\n",
              "      <th>City</th>\n",
              "    </tr>\n",
              "  </thead>\n",
              "  <tbody>\n",
              "    <tr>\n",
              "      <th>0</th>\n",
              "      <td>__+0G1cwgYivqbBQl03GLI/qBJhP7z34gAaiKcDJUHXRg=</td>\n",
              "      <td>0</td>\n",
              "      <td>-46.447070</td>\n",
              "      <td>-23.692437</td>\n",
              "      <td>__DgaD5Lhp22YQKyzbqGgd14I77qBO8szy1BHJ+EALcCQ=</td>\n",
              "      <td>2019-07-30 23:08:33.941002+00:00</td>\n",
              "      <td>False</td>\n",
              "      <td>COPAGAZ</td>\n",
              "      <td>7</td>\n",
              "      <td>4.950000</td>\n",
              "      <td>15-30</td>\n",
              "      <td>N/A</td>\n",
              "      <td>69.989998</td>\n",
              "      <td>__DgaD5Lhp22YQKyzbqGgd14I77qBO8szy1BHJ+EALcCQ=...</td>\n",
              "      <td>POINT (-46.44707 -23.69244)</td>\n",
              "      <td>2418.0</td>\n",
              "      <td>326.0</td>\n",
              "      <td>Sao Paulo</td>\n",
              "      <td>Mauá</td>\n",
              "    </tr>\n",
              "    <tr>\n",
              "      <th>1</th>\n",
              "      <td>__+0G1cwgYivqbBQl03GLI/qBJhP7z34gAaiKcDJUHXRg=</td>\n",
              "      <td>0</td>\n",
              "      <td>-46.449238</td>\n",
              "      <td>-23.673485</td>\n",
              "      <td>__DifXy9yPxgeRhOrDA9Iwu87Dmwf8X9MuslzAmevI9cM=</td>\n",
              "      <td>2019-06-01 17:23:21.881002+00:00</td>\n",
              "      <td>True</td>\n",
              "      <td>COPAGAZ</td>\n",
              "      <td>2</td>\n",
              "      <td>4.840000</td>\n",
              "      <td>15-30</td>\n",
              "      <td>N/A</td>\n",
              "      <td>69.989998</td>\n",
              "      <td>__DifXy9yPxgeRhOrDA9Iwu87Dmwf8X9MuslzAmevI9cM=...</td>\n",
              "      <td>POINT (-46.44924 -23.67348)</td>\n",
              "      <td>2418.0</td>\n",
              "      <td>326.0</td>\n",
              "      <td>Sao Paulo</td>\n",
              "      <td>Mauá</td>\n",
              "    </tr>\n",
              "    <tr>\n",
              "      <th>2</th>\n",
              "      <td>__+0G1cwgYivqbBQl03GLI/qBJhP7z34gAaiKcDJUHXRg=</td>\n",
              "      <td>0</td>\n",
              "      <td>-46.449238</td>\n",
              "      <td>-23.673485</td>\n",
              "      <td>__DifXy9yPxgeRhOrDA9Iwu87Dmwf8X9MuslzAmevI9cM=</td>\n",
              "      <td>2019-06-01 21:43:12.103002+00:00</td>\n",
              "      <td>True</td>\n",
              "      <td>COPAGAZ</td>\n",
              "      <td>3</td>\n",
              "      <td>4.840000</td>\n",
              "      <td>15-30</td>\n",
              "      <td>N/A</td>\n",
              "      <td>64.989998</td>\n",
              "      <td>__DifXy9yPxgeRhOrDA9Iwu87Dmwf8X9MuslzAmevI9cM=...</td>\n",
              "      <td>POINT (-46.44924 -23.67348)</td>\n",
              "      <td>2418.0</td>\n",
              "      <td>326.0</td>\n",
              "      <td>Sao Paulo</td>\n",
              "      <td>Mauá</td>\n",
              "    </tr>\n",
              "    <tr>\n",
              "      <th>3</th>\n",
              "      <td>__+0G1cwgYivqbBQl03GLI/qBJhP7z34gAaiKcDJUHXRg=</td>\n",
              "      <td>0</td>\n",
              "      <td>-46.462443</td>\n",
              "      <td>-23.683456</td>\n",
              "      <td>__DifXy9yPxgeRhOrDA9Iwu87Dmwf8X9MuslzAmevI9cM=</td>\n",
              "      <td>2019-06-02 16:58:04.585006+00:00</td>\n",
              "      <td>False</td>\n",
              "      <td>COPAGAZ</td>\n",
              "      <td>3</td>\n",
              "      <td>4.846154</td>\n",
              "      <td>15-30</td>\n",
              "      <td>N/A</td>\n",
              "      <td>69.989998</td>\n",
              "      <td>__DifXy9yPxgeRhOrDA9Iwu87Dmwf8X9MuslzAmevI9cM=...</td>\n",
              "      <td>POINT (-46.46244 -23.68346)</td>\n",
              "      <td>2418.0</td>\n",
              "      <td>326.0</td>\n",
              "      <td>Sao Paulo</td>\n",
              "      <td>Mauá</td>\n",
              "    </tr>\n",
              "    <tr>\n",
              "      <th>4</th>\n",
              "      <td>__+0G1cwgYivqbBQl03GLI/qBJhP7z34gAaiKcDJUHXRg=</td>\n",
              "      <td>0</td>\n",
              "      <td>-46.444472</td>\n",
              "      <td>-23.687698</td>\n",
              "      <td>__DifXy9yPxgeRhOrDA9Iwu87Dmwf8X9MuslzAmevI9cM=</td>\n",
              "      <td>2019-06-02 17:24:35.304002+00:00</td>\n",
              "      <td>False</td>\n",
              "      <td>COPAGAZ</td>\n",
              "      <td>3</td>\n",
              "      <td>4.846154</td>\n",
              "      <td>15-30</td>\n",
              "      <td>N/A</td>\n",
              "      <td>69.989998</td>\n",
              "      <td>__DifXy9yPxgeRhOrDA9Iwu87Dmwf8X9MuslzAmevI9cM=...</td>\n",
              "      <td>POINT (-46.44447 -23.68770)</td>\n",
              "      <td>2418.0</td>\n",
              "      <td>326.0</td>\n",
              "      <td>Sao Paulo</td>\n",
              "      <td>Mauá</td>\n",
              "    </tr>\n",
              "  </tbody>\n",
              "</table>\n",
              "</div>"
            ],
            "text/plain": [
              "                                         DealerId  Conversion  ...      State  City\n",
              "0  __+0G1cwgYivqbBQl03GLI/qBJhP7z34gAaiKcDJUHXRg=           0  ...  Sao Paulo  Mauá\n",
              "1  __+0G1cwgYivqbBQl03GLI/qBJhP7z34gAaiKcDJUHXRg=           0  ...  Sao Paulo  Mauá\n",
              "2  __+0G1cwgYivqbBQl03GLI/qBJhP7z34gAaiKcDJUHXRg=           0  ...  Sao Paulo  Mauá\n",
              "3  __+0G1cwgYivqbBQl03GLI/qBJhP7z34gAaiKcDJUHXRg=           0  ...  Sao Paulo  Mauá\n",
              "4  __+0G1cwgYivqbBQl03GLI/qBJhP7z34gAaiKcDJUHXRg=           0  ...  Sao Paulo  Mauá\n",
              "\n",
              "[5 rows x 19 columns]"
            ]
          },
          "metadata": {
            "tags": []
          },
          "execution_count": 24
        }
      ]
    },
    {
      "cell_type": "code",
      "metadata": {
        "id": "xWFWvA8zA-Xt"
      },
      "source": [
        "# removendo algumas colunas \n",
        "\n",
        "cols_to_drop = [\"long\",\"lat\",\"index_right\",\"CityId\"]\n",
        "df = df.drop(cols_to_drop, axis=1)"
      ],
      "execution_count": null,
      "outputs": []
    },
    {
      "cell_type": "markdown",
      "metadata": {
        "id": "_o65DgnPvbZ4"
      },
      "source": [
        "## Tratando EventTimestamp\n",
        "\n",
        "Essa variável representa a data da lista ofertada. Nesse primeiro momento, será criado algumas variaveis derivadas da data que pode ser utilizada posteriormente. "
      ]
    },
    {
      "cell_type": "code",
      "metadata": {
        "id": "eXH2DEXZveMH"
      },
      "source": [
        "# Criando as variáveis \"Dia_da_semana\", \"dia_mes\", \"mes\", \"ano\" e \"hora\" respectivamente\n",
        "\n",
        "#date = datetime.strptime(str_date, '%d/%m/%Y').date()\n",
        "df['date'] = df['EventTimestamp'].dt.strftime('%d/%m/%Y')\n",
        "df['dia_da_semana'] = df['EventTimestamp'].dt.strftime(\"%A\")\n",
        "df['dia_mes'] = df['EventTimestamp'].dt.strftime(\"%d\")\n",
        "df['mes'] = df['EventTimestamp'].dt.strftime(\"%B\")\n",
        "df['ano'] = df['EventTimestamp'].dt.year\n",
        "df['hora'] = df['EventTimestamp'].dt.strftime(\"%H\")"
      ],
      "execution_count": null,
      "outputs": []
    },
    {
      "cell_type": "code",
      "metadata": {
        "colab": {
          "base_uri": "https://localhost:8080/",
          "height": 400
        },
        "id": "SA5Kmj3salB3",
        "outputId": "bd467b16-9768-49e9-ce2c-8b01998ac622"
      },
      "source": [
        "df.head()"
      ],
      "execution_count": null,
      "outputs": [
        {
          "output_type": "execute_result",
          "data": {
            "text/html": [
              "<div>\n",
              "<style scoped>\n",
              "    .dataframe tbody tr th:only-of-type {\n",
              "        vertical-align: middle;\n",
              "    }\n",
              "\n",
              "    .dataframe tbody tr th {\n",
              "        vertical-align: top;\n",
              "    }\n",
              "\n",
              "    .dataframe thead th {\n",
              "        text-align: right;\n",
              "    }\n",
              "</style>\n",
              "<table border=\"1\" class=\"dataframe\">\n",
              "  <thead>\n",
              "    <tr style=\"text-align: right;\">\n",
              "      <th></th>\n",
              "      <th>DealerId</th>\n",
              "      <th>Conversion</th>\n",
              "      <th>deviceid</th>\n",
              "      <th>EventTimestamp</th>\n",
              "      <th>DealerOpened</th>\n",
              "      <th>Distributor</th>\n",
              "      <th>Position</th>\n",
              "      <th>Quality</th>\n",
              "      <th>DealerETAGroup</th>\n",
              "      <th>RecommendationType</th>\n",
              "      <th>Price</th>\n",
              "      <th>SearchId</th>\n",
              "      <th>geometry</th>\n",
              "      <th>State</th>\n",
              "      <th>City</th>\n",
              "      <th>date</th>\n",
              "      <th>dia_da_semana</th>\n",
              "      <th>dia_mes</th>\n",
              "      <th>mes</th>\n",
              "      <th>ano</th>\n",
              "      <th>hora</th>\n",
              "    </tr>\n",
              "  </thead>\n",
              "  <tbody>\n",
              "    <tr>\n",
              "      <th>0</th>\n",
              "      <td>__+0G1cwgYivqbBQl03GLI/qBJhP7z34gAaiKcDJUHXRg=</td>\n",
              "      <td>0</td>\n",
              "      <td>__DgaD5Lhp22YQKyzbqGgd14I77qBO8szy1BHJ+EALcCQ=</td>\n",
              "      <td>2019-07-30 23:08:33.941002+00:00</td>\n",
              "      <td>False</td>\n",
              "      <td>COPAGAZ</td>\n",
              "      <td>7</td>\n",
              "      <td>4.950000</td>\n",
              "      <td>15-30</td>\n",
              "      <td>N/A</td>\n",
              "      <td>69.989998</td>\n",
              "      <td>__DgaD5Lhp22YQKyzbqGgd14I77qBO8szy1BHJ+EALcCQ=...</td>\n",
              "      <td>POINT (-46.44707 -23.69244)</td>\n",
              "      <td>Sao Paulo</td>\n",
              "      <td>Mauá</td>\n",
              "      <td>30/07/2019</td>\n",
              "      <td>Tuesday</td>\n",
              "      <td>30</td>\n",
              "      <td>July</td>\n",
              "      <td>2019</td>\n",
              "      <td>23</td>\n",
              "    </tr>\n",
              "    <tr>\n",
              "      <th>1</th>\n",
              "      <td>__+0G1cwgYivqbBQl03GLI/qBJhP7z34gAaiKcDJUHXRg=</td>\n",
              "      <td>0</td>\n",
              "      <td>__DifXy9yPxgeRhOrDA9Iwu87Dmwf8X9MuslzAmevI9cM=</td>\n",
              "      <td>2019-06-01 17:23:21.881002+00:00</td>\n",
              "      <td>True</td>\n",
              "      <td>COPAGAZ</td>\n",
              "      <td>2</td>\n",
              "      <td>4.840000</td>\n",
              "      <td>15-30</td>\n",
              "      <td>N/A</td>\n",
              "      <td>69.989998</td>\n",
              "      <td>__DifXy9yPxgeRhOrDA9Iwu87Dmwf8X9MuslzAmevI9cM=...</td>\n",
              "      <td>POINT (-46.44924 -23.67348)</td>\n",
              "      <td>Sao Paulo</td>\n",
              "      <td>Mauá</td>\n",
              "      <td>01/06/2019</td>\n",
              "      <td>Saturday</td>\n",
              "      <td>01</td>\n",
              "      <td>June</td>\n",
              "      <td>2019</td>\n",
              "      <td>17</td>\n",
              "    </tr>\n",
              "    <tr>\n",
              "      <th>2</th>\n",
              "      <td>__+0G1cwgYivqbBQl03GLI/qBJhP7z34gAaiKcDJUHXRg=</td>\n",
              "      <td>0</td>\n",
              "      <td>__DifXy9yPxgeRhOrDA9Iwu87Dmwf8X9MuslzAmevI9cM=</td>\n",
              "      <td>2019-06-01 21:43:12.103002+00:00</td>\n",
              "      <td>True</td>\n",
              "      <td>COPAGAZ</td>\n",
              "      <td>3</td>\n",
              "      <td>4.840000</td>\n",
              "      <td>15-30</td>\n",
              "      <td>N/A</td>\n",
              "      <td>64.989998</td>\n",
              "      <td>__DifXy9yPxgeRhOrDA9Iwu87Dmwf8X9MuslzAmevI9cM=...</td>\n",
              "      <td>POINT (-46.44924 -23.67348)</td>\n",
              "      <td>Sao Paulo</td>\n",
              "      <td>Mauá</td>\n",
              "      <td>01/06/2019</td>\n",
              "      <td>Saturday</td>\n",
              "      <td>01</td>\n",
              "      <td>June</td>\n",
              "      <td>2019</td>\n",
              "      <td>21</td>\n",
              "    </tr>\n",
              "    <tr>\n",
              "      <th>3</th>\n",
              "      <td>__+0G1cwgYivqbBQl03GLI/qBJhP7z34gAaiKcDJUHXRg=</td>\n",
              "      <td>0</td>\n",
              "      <td>__DifXy9yPxgeRhOrDA9Iwu87Dmwf8X9MuslzAmevI9cM=</td>\n",
              "      <td>2019-06-02 16:58:04.585006+00:00</td>\n",
              "      <td>False</td>\n",
              "      <td>COPAGAZ</td>\n",
              "      <td>3</td>\n",
              "      <td>4.846154</td>\n",
              "      <td>15-30</td>\n",
              "      <td>N/A</td>\n",
              "      <td>69.989998</td>\n",
              "      <td>__DifXy9yPxgeRhOrDA9Iwu87Dmwf8X9MuslzAmevI9cM=...</td>\n",
              "      <td>POINT (-46.46244 -23.68346)</td>\n",
              "      <td>Sao Paulo</td>\n",
              "      <td>Mauá</td>\n",
              "      <td>02/06/2019</td>\n",
              "      <td>Sunday</td>\n",
              "      <td>02</td>\n",
              "      <td>June</td>\n",
              "      <td>2019</td>\n",
              "      <td>16</td>\n",
              "    </tr>\n",
              "    <tr>\n",
              "      <th>4</th>\n",
              "      <td>__+0G1cwgYivqbBQl03GLI/qBJhP7z34gAaiKcDJUHXRg=</td>\n",
              "      <td>0</td>\n",
              "      <td>__DifXy9yPxgeRhOrDA9Iwu87Dmwf8X9MuslzAmevI9cM=</td>\n",
              "      <td>2019-06-02 17:24:35.304002+00:00</td>\n",
              "      <td>False</td>\n",
              "      <td>COPAGAZ</td>\n",
              "      <td>3</td>\n",
              "      <td>4.846154</td>\n",
              "      <td>15-30</td>\n",
              "      <td>N/A</td>\n",
              "      <td>69.989998</td>\n",
              "      <td>__DifXy9yPxgeRhOrDA9Iwu87Dmwf8X9MuslzAmevI9cM=...</td>\n",
              "      <td>POINT (-46.44447 -23.68770)</td>\n",
              "      <td>Sao Paulo</td>\n",
              "      <td>Mauá</td>\n",
              "      <td>02/06/2019</td>\n",
              "      <td>Sunday</td>\n",
              "      <td>02</td>\n",
              "      <td>June</td>\n",
              "      <td>2019</td>\n",
              "      <td>17</td>\n",
              "    </tr>\n",
              "  </tbody>\n",
              "</table>\n",
              "</div>"
            ],
            "text/plain": [
              "                                         DealerId  Conversion  ...   ano hora\n",
              "0  __+0G1cwgYivqbBQl03GLI/qBJhP7z34gAaiKcDJUHXRg=           0  ...  2019   23\n",
              "1  __+0G1cwgYivqbBQl03GLI/qBJhP7z34gAaiKcDJUHXRg=           0  ...  2019   17\n",
              "2  __+0G1cwgYivqbBQl03GLI/qBJhP7z34gAaiKcDJUHXRg=           0  ...  2019   21\n",
              "3  __+0G1cwgYivqbBQl03GLI/qBJhP7z34gAaiKcDJUHXRg=           0  ...  2019   16\n",
              "4  __+0G1cwgYivqbBQl03GLI/qBJhP7z34gAaiKcDJUHXRg=           0  ...  2019   17\n",
              "\n",
              "[5 rows x 21 columns]"
            ]
          },
          "metadata": {
            "tags": []
          },
          "execution_count": 31
        }
      ]
    },
    {
      "cell_type": "markdown",
      "metadata": {
        "id": "GcjFmqLJ9KYh"
      },
      "source": [
        "# Análise Exploratorio dos Dados\n",
        "\n",
        "<p align = \"justify\"> Esta seção apresenta algumas estatísticas relacionadas às três dimensões da granularidade do DataFrame (usuário, revendedor e lista de cotações). O objetivo principal é entender a distribuição de atributos de forma granular por meio de análises exploratórias e comparar as informações com variáveis ​​de \"transformação\" quando possível.</p>\n",
        "\n",
        "**Dados do Usuário**\n",
        "\n",
        "- long                  - Longitude of the user's location\n",
        "- lat                   - Latitude of the user's location\n",
        "- deviceid              - Identificado único do usuario\n",
        "\n",
        "**Dados do Revendedor**-\n",
        "\n",
        "- DealerId              - Identificado único de um revendedor\n",
        "- DealerOpened          - Se o revendedor estava aberto ou fechado. Revendedor - fechados não conseguem vender\n",
        "- Distributor           - A marca da garrafa de gás\n",
        "- Position              - Posição do item na lista\n",
        "- Quality               - Índice de qualidade com base nas avaliações do usuário\n",
        "- DealerETAGroup        - O tempo estimado de entrega\n",
        "- RecommendationType    - Um emblema atribuído para destacar boas ofertas\n",
        "- Price                 - Preço da garrafa de gás\n",
        "\n",
        "**Dados da Lista**\n",
        "\n",
        "- SearchId              - Identificador único da lista de ofertas\n",
        "- EventTimestamp        - O carimbo de data / hora UTC da lista de ofertas\n",
        "- Conversion            - Booleano para se o usuário converteu"
      ]
    },
    {
      "cell_type": "markdown",
      "metadata": {
        "id": "Iv1qQljOWdY0"
      },
      "source": [
        "### Dados do Usuário"
      ]
    },
    {
      "cell_type": "markdown",
      "metadata": {
        "id": "Nqcz0tS0WgRE"
      },
      "source": [
        "deviceid\n",
        "\n",
        "No geral, do conjunto de dados tem 19472 usuarios que utilizadaram aplicativos. Na tabela a seguir, é possível verificar a quantidade de conversões (compras) por usuários."
      ]
    },
    {
      "cell_type": "code",
      "metadata": {
        "id": "TGxbeDnRuvMu"
      },
      "source": [
        "# Criando uma tabela auxiliar por usuário\n",
        "dfus = df.groupby(['deviceid','State','City'], as_index=False)\n",
        "dfus = dfus.agg({'Conversion':'sum','date':'min'})\n",
        "dfus.columns = list(map(''.join, dfus .columns.values))"
      ],
      "execution_count": null,
      "outputs": []
    },
    {
      "cell_type": "code",
      "metadata": {
        "id": "UKGX89rvvMoF"
      },
      "source": [
        "dfus"
      ],
      "execution_count": null,
      "outputs": []
    },
    {
      "cell_type": "markdown",
      "metadata": {
        "id": "GcTnqnWdYT7h"
      },
      "source": [
        "Analisando a tabela abaixo, evidencia que quase 14% dos usuarios fizeram compras no app. "
      ]
    },
    {
      "cell_type": "code",
      "metadata": {
        "colab": {
          "base_uri": "https://localhost:8080/"
        },
        "id": "D3w4cAGmXbnw",
        "outputId": "6de9158a-0087-4eb2-d9ca-039e60a7db0e"
      },
      "source": [
        "# Distribuição dos usuários por quantidade de conversão. \n",
        "dfus.Conversion.value_counts(normalize=True)"
      ],
      "execution_count": null,
      "outputs": [
        {
          "output_type": "execute_result",
          "data": {
            "text/plain": [
              "0    0.864972\n",
              "1    0.133124\n",
              "2    0.001853\n",
              "4    0.000051\n",
              "Name: Conversion, dtype: float64"
            ]
          },
          "metadata": {
            "tags": []
          },
          "execution_count": 60
        }
      ]
    },
    {
      "cell_type": "code",
      "metadata": {
        "colab": {
          "base_uri": "https://localhost:8080/"
        },
        "id": "A3Qi9CoqYmlf",
        "outputId": "748619a4-b88f-4c01-889e-4f3230f1cabc"
      },
      "source": [
        "# Substituindo conversões 2 e 4 por 1 no conjunto de dados principal (df)\n",
        "\n",
        "df.Conversion.replace(2, 1, inplace=True)\n",
        "df.Conversion.replace(4, 1, inplace=True)\n",
        "df.Conversion.replace(3, 1, inplace=True)\n",
        "df.Conversion.value_counts(normalize=True)"
      ],
      "execution_count": null,
      "outputs": [
        {
          "output_type": "execute_result",
          "data": {
            "text/plain": [
              "0    0.995671\n",
              "1    0.004329\n",
              "Name: Conversion, dtype: float64"
            ]
          },
          "metadata": {
            "tags": []
          },
          "execution_count": 61
        }
      ]
    },
    {
      "cell_type": "markdown",
      "metadata": {
        "id": "sr5sW0nv9j9N"
      },
      "source": [
        "Cerca 82,34% dos usuários estão localizados no estado de São Paulo"
      ]
    },
    {
      "cell_type": "code",
      "metadata": {
        "id": "DCon0BDGZ7JK",
        "colab": {
          "base_uri": "https://localhost:8080/"
        },
        "outputId": "0dac4236-bec2-4af1-fa8d-9cb7aa86e398"
      },
      "source": [
        "# Distribuição dos usuários por estado \n",
        "dfus.State.value_counts(normalize=True)"
      ],
      "execution_count": null,
      "outputs": [
        {
          "output_type": "execute_result",
          "data": {
            "text/plain": [
              "Sao Paulo            0.823650\n",
              "Minas Gerais         0.106829\n",
              "Rio Grande do Sul    0.051459\n",
              "Paraná               0.014151\n",
              "Distrito Federal     0.003911\n",
              "Name: State, dtype: float64"
            ]
          },
          "metadata": {
            "tags": []
          },
          "execution_count": 62
        }
      ]
    },
    {
      "cell_type": "code",
      "metadata": {
        "id": "hiOmjjVrbHSA"
      },
      "source": [
        "# Criando variáveis binarias no conjunto de dados transformado (dft)\n",
        "dft = df\n",
        "#dft = pd.get_dummies(df, columns = ['State'])"
      ],
      "execution_count": null,
      "outputs": []
    },
    {
      "cell_type": "markdown",
      "metadata": {
        "id": "dMItwoXK-NvW"
      },
      "source": [
        "42,38% dos clientes estão localizado no municipio de São Paulo, no geral 27 cidades representam quase 98% dos usuários do conjunto de dados analisando. "
      ]
    },
    {
      "cell_type": "code",
      "metadata": {
        "id": "4ah59U_j9yWm"
      },
      "source": [
        "# Distribuição dos usuários por Cidade\n",
        "dfus_cid = pd.DataFrame(dfus.City.value_counts(normalize=True))\n",
        "dfus_cid  = dfus_cid.sort_values(by='City',ascending=False)\n",
        "dfus_cid[\"cumpercentage\"] = dfus_cid[\"City\"].cumsum()/dfus_cid[\"City\"].sum()*100"
      ],
      "execution_count": null,
      "outputs": []
    },
    {
      "cell_type": "code",
      "metadata": {
        "id": "m1pksZdeCvyd",
        "colab": {
          "base_uri": "https://localhost:8080/",
          "height": 964
        },
        "outputId": "1709483b-3039-4ce0-b96e-5f7ee456ca6f"
      },
      "source": [
        "# Gerando o gráfico de paretro com distribuição de usuários por Cidade\n",
        "\n",
        "from matplotlib.ticker import PercentFormatter\n",
        "\n",
        "fig, ax = plt.subplots(figsize=(30,15))\n",
        "ax.bar(dfus_cid.index, dfus_cid[\"City\"], color=\"C0\")\n",
        "ax2 = ax.twinx()\n",
        "ax2.plot(dfus_cid.index, dfus_cid[\"cumpercentage\"], color=\"C1\", marker=\"D\", ms=7)\n",
        "ax2.yaxis.set_major_formatter(PercentFormatter())\n",
        "\n",
        "# Configurações dos eixos \n",
        "ax.tick_params(axis=\"y\", colors=\"C0\")\n",
        "ax2.tick_params(axis=\"y\", colors=\"C1\")\n",
        "ax2.set_ylim([0,110])\n",
        "\n",
        "# Ajusta a inclinação dos labels do eixo x\n",
        "for tick in ax.get_xticklabels():\n",
        "    tick.set_rotation(45)\n",
        "\n",
        "# Finalmente mostra o grafico definido acima\n",
        "plt.legend() \n",
        "plt.show()\n"
      ],
      "execution_count": null,
      "outputs": [
        {
          "output_type": "stream",
          "text": [
            "No handles with labels found to put in legend.\n"
          ],
          "name": "stderr"
        },
        {
          "output_type": "display_data",
          "data": {
            "image/png": "[encoded data removed]",
            "text/plain": [
              "<Figure size 2160x1080 with 2 Axes>"
            ]
          },
          "metadata": {
            "tags": []
          }
        }
      ]
    },
    {
      "cell_type": "code",
      "metadata": {
        "id": "hwqvDmDnCEbr",
        "colab": {
          "base_uri": "https://localhost:8080/",
          "height": 633
        },
        "outputId": "605d5ffb-235d-47f7-c98d-d7126da6fa84"
      },
      "source": [
        "dfus_cid"
      ],
      "execution_count": null,
      "outputs": [
        {
          "output_type": "execute_result",
          "data": {
            "application/vnd.google.colaboratory.module+javascript": "\n      import \"https://ssl.gstatic.com/colaboratory/data_table/a6224c040fa35dcf/data_table.js\";\n\n      window.createDataTable({\n        data: [[\"Sao Paulo\",\n{\n            'v': 0.42391807749704113,\n            'f': \"0.42391807749704113\",\n        },\n{\n            'v': 42.391807749704114,\n            'f': \"42.391807749704114\",\n        }],\n [\"Belo Horizonte\",\n{\n            'v': 0.0658673390624196,\n            'f': \"0.0658673390624196\",\n        },\n{\n            'v': 48.978541655946074,\n            'f': \"48.978541655946074\",\n        }],\n [\"Osasco\",\n{\n            'v': 0.06514691504142438,\n            'f': \"0.06514691504142438\",\n        },\n{\n            'v': 55.49323316008851,\n            'f': \"55.49323316008851\",\n        }],\n [\"Carapicu\\u00edba\",\n{\n            'v': 0.061236041784593215,\n            'f': \"0.061236041784593215\",\n        },\n{\n            'v': 61.616837338547825,\n            'f': \"61.616837338547825\",\n        }],\n [\"Porto Alegre\",\n{\n            'v': 0.045335254464055987,\n            'f': \"0.045335254464055987\",\n        },\n{\n            'v': 66.15036278495342,\n            'f': \"66.15036278495342\",\n        }],\n [\"Embu\",\n{\n            'v': 0.0353007770287655,\n            'f': \"0.0353007770287655\",\n        },\n{\n            'v': 69.68044048782997,\n            'f': \"69.68044048782997\",\n        }],\n [\"Praia Grande\",\n{\n            'v': 0.030103432305871456,\n            'f': \"0.030103432305871456\",\n        },\n{\n            'v': 72.69078371841712,\n            'f': \"72.69078371841712\",\n        }],\n [\"Tabo\\u00e3o da Serra\",\n{\n            'v': 0.028765501981166057,\n            'f': \"0.028765501981166057\",\n        },\n{\n            'v': 75.56733391653371,\n            'f': \"75.56733391653371\",\n        }],\n [\"Guarulhos\",\n{\n            'v': 0.02500900530026244,\n            'f': \"0.02500900530026244\",\n        },\n{\n            'v': 78.06823444655996,\n            'f': \"78.06823444655996\",\n        }],\n [\"Contagem\",\n{\n            'v': 0.02480316986569238,\n            'f': \"0.02480316986569238\",\n        },\n{\n            'v': 80.5485514331292,\n            'f': \"80.5485514331292\",\n        }],\n [\"Diadema\",\n{\n            'v': 0.022127309216281584,\n            'f': \"0.022127309216281584\",\n        },\n{\n            'v': 82.76128235475736,\n            'f': \"82.76128235475736\",\n        }],\n [\"Santo Andr\\u00e9\",\n{\n            'v': 0.0195029074255133,\n            'f': \"0.0195029074255133\",\n        },\n{\n            'v': 84.71157309730869,\n            'f': \"84.71157309730869\",\n        }],\n [\"S\\u00e3o Bernardo do Campo\",\n{\n            'v': 0.017393094221170174,\n            'f': \"0.017393094221170174\",\n        },\n{\n            'v': 86.4508825194257,\n            'f': \"86.4508825194257\",\n        }],\n [\"Mau\\u00e1\",\n{\n            'v': 0.017290176503885143,\n            'f': \"0.017290176503885143\",\n        },\n{\n            'v': 88.17990016981422,\n            'f': \"88.17990016981422\",\n        }],\n [\"S\\u00e3o Vicente\",\n{\n            'v': 0.014665774713116864,\n            'f': \"0.014665774713116864\",\n        },\n{\n            'v': 89.6464776411259,\n            'f': \"89.6464776411259\",\n        }],\n [\"Santos\",\n{\n            'v': 0.014665774713116864,\n            'f': \"0.014665774713116864\",\n        },\n{\n            'v': 91.11305511243759,\n            'f': \"91.11305511243759\",\n        }],\n [\"Barueri\",\n{\n            'v': 0.013842432974836618,\n            'f': \"0.013842432974836618\",\n        },\n{\n            'v': 92.49729840992126,\n            'f': \"92.49729840992126\",\n        }],\n [\"Curitiba\",\n{\n            'v': 0.013070550095198889,\n            'f': \"0.013070550095198889\",\n        },\n{\n            'v': 93.80435341944114,\n            'f': \"93.80435341944114\",\n        }],\n [\"S\\u00e3o Caetano do Sul\",\n{\n            'v': 0.012298667215561158,\n            'f': \"0.012298667215561158\",\n        },\n{\n            'v': 95.03422014099726,\n            'f': \"95.03422014099726\",\n        }],\n [\"Betim\",\n{\n            'v': 0.010651983739000668,\n            'f': \"0.010651983739000668\",\n        },\n{\n            'v': 96.09941851489732,\n            'f': \"96.09941851489732\",\n        }],\n [\"Bras\\u00edlia\",\n{\n            'v': 0.003910873256831164,\n            'f': \"0.003910873256831164\",\n        },\n{\n            'v': 96.49050584058044,\n            'f': \"96.49050584058044\",\n        }],\n [\"Cotia\",\n{\n            'v': 0.0036021201049760716,\n            'f': \"0.0036021201049760716\",\n        },\n{\n            'v': 96.85071785107804,\n            'f': \"96.85071785107804\",\n        }],\n [\"Itapevi\",\n{\n            'v': 0.0032419080944784645,\n            'f': \"0.0032419080944784645\",\n        },\n{\n            'v': 97.17490866052589,\n            'f': \"97.17490866052589\",\n        }],\n [\"Itapecerica da Serra\",\n{\n            'v': 0.002778778366695827,\n            'f': \"0.002778778366695827\",\n        },\n{\n            'v': 97.45278649719548,\n            'f': \"97.45278649719548\",\n        }],\n [\"Ribeir\\u00e3o Pires\",\n{\n            'v': 0.002315648638913189,\n            'f': \"0.002315648638913189\",\n        },\n{\n            'v': 97.6843513610868,\n            'f': \"97.6843513610868\",\n        }],\n [\"Canoas\",\n{\n            'v': 0.002006895487058097,\n            'f': \"0.002006895487058097\",\n        },\n{\n            'v': 97.88504090979261,\n            'f': \"97.88504090979261\",\n        }],\n [\"Ibirit\\u00e9\",\n{\n            'v': 0.0018010600524880358,\n            'f': \"0.0018010600524880358\",\n        },\n{\n            'v': 98.06514691504141,\n            'f': \"98.06514691504141\",\n        }],\n [\"Mogi das Cruzes\",\n{\n            'v': 0.001492306900632944,\n            'f': \"0.001492306900632944\",\n        },\n{\n            'v': 98.2143776051047,\n            'f': \"98.2143776051047\",\n        }],\n [\"Ribeir\\u00e3o das Neves\",\n{\n            'v': 0.0013893891833479134,\n            'f': \"0.0013893891833479134\",\n        },\n{\n            'v': 98.3533165234395,\n            'f': \"98.3533165234395\",\n        }],\n [\"Guaruj\\u00e1\",\n{\n            'v': 0.001132094890135337,\n            'f': \"0.001132094890135337\",\n        },\n{\n            'v': 98.46652601245303,\n            'f': \"98.46652601245303\",\n        }],\n [\"Po\\u00e1\",\n{\n            'v': 0.001132094890135337,\n            'f': \"0.001132094890135337\",\n        },\n{\n            'v': 98.57973550146657,\n            'f': \"98.57973550146657\",\n        }],\n [\"Franco da Rocha\",\n{\n            'v': 0.001132094890135337,\n            'f': \"0.001132094890135337\",\n        },\n{\n            'v': 98.6929449904801,\n            'f': \"98.6929449904801\",\n        }],\n [\"Viam\\u00e3o\",\n{\n            'v': 0.0010806360314928214,\n            'f': \"0.0010806360314928214\",\n        },\n{\n            'v': 98.80100859362938,\n            'f': \"98.80100859362938\",\n        }],\n [\"Cachoeirinha\",\n{\n            'v': 0.0010806360314928214,\n            'f': \"0.0010806360314928214\",\n        },\n{\n            'v': 98.90907219677865,\n            'f': \"98.90907219677865\",\n        }],\n [\"Santa Luzia\",\n{\n            'v': 0.000977718314207791,\n            'f': \"0.000977718314207791\",\n        },\n{\n            'v': 99.00684402819944,\n            'f': \"99.00684402819944\",\n        }],\n [\"Colombo\",\n{\n            'v': 0.0009262594555652755,\n            'f': \"0.0009262594555652755\",\n        },\n{\n            'v': 99.09946997375596,\n            'f': \"99.09946997375596\",\n        }],\n [\"Jandira\",\n{\n            'v': 0.0009262594555652755,\n            'f': \"0.0009262594555652755\",\n        },\n{\n            'v': 99.19209591931248,\n            'f': \"99.19209591931248\",\n        }],\n [\"Alvorada\",\n{\n            'v': 0.0008748005969227603,\n            'f': \"0.0008748005969227603\",\n        },\n{\n            'v': 99.27957597900476,\n            'f': \"99.27957597900476\",\n        }],\n [\"Santana de Parna\\u00edba\",\n{\n            'v': 0.000823341738280245,\n            'f': \"0.000823341738280245\",\n        },\n{\n            'v': 99.36191015283279,\n            'f': \"99.36191015283279\",\n        }],\n [\"Itaquaquecetuba\",\n{\n            'v': 0.000823341738280245,\n            'f': \"0.000823341738280245\",\n        },\n{\n            'v': 99.44424432666081,\n            'f': \"99.44424432666081\",\n        }],\n [\"Ferraz de Vasconcelos\",\n{\n            'v': 0.0006175063037101837,\n            'f': \"0.0006175063037101837\",\n        },\n{\n            'v': 99.50599495703183,\n            'f': \"99.50599495703183\",\n        }],\n [\"Campinas\",\n{\n            'v': 0.0006175063037101837,\n            'f': \"0.0006175063037101837\",\n        },\n{\n            'v': 99.56774558740284,\n            'f': \"99.56774558740284\",\n        }],\n [\"Suzano\",\n{\n            'v': 0.00046312972778263776,\n            'f': \"0.00046312972778263776\",\n        },\n{\n            'v': 99.6140585601811,\n            'f': \"99.6140585601811\",\n        }],\n [\"Sete Lagoas\",\n{\n            'v': 0.00046312972778263776,\n            'f': \"0.00046312972778263776\",\n        },\n{\n            'v': 99.66037153295937,\n            'f': \"99.66037153295937\",\n        }],\n [\"Sabar\\u00e1\",\n{\n            'v': 0.0003602120104976072,\n            'f': \"0.0003602120104976072\",\n        },\n{\n            'v': 99.69639273400914,\n            'f': \"99.69639273400914\",\n        }],\n [\"Gravata\\u00ed\",\n{\n            'v': 0.0003602120104976072,\n            'f': \"0.0003602120104976072\",\n        },\n{\n            'v': 99.7324139350589,\n            'f': \"99.7324139350589\",\n        }],\n [\"S\\u00e3o Roque\",\n{\n            'v': 0.00030875315185509186,\n            'f': \"0.00030875315185509186\",\n        },\n{\n            'v': 99.7632892502444,\n            'f': \"99.7632892502444\",\n        }],\n [\"Esteio\",\n{\n            'v': 0.00030875315185509186,\n            'f': \"0.00030875315185509186\",\n        },\n{\n            'v': 99.79416456542991,\n            'f': \"99.79416456542991\",\n        }],\n [\"Cajamar\",\n{\n            'v': 0.00020583543457006125,\n            'f': \"0.00020583543457006125\",\n        },\n{\n            'v': 99.81474810888692,\n            'f': \"99.81474810888692\",\n        }],\n [\"Sapucaia do Sul\",\n{\n            'v': 0.00020583543457006125,\n            'f': \"0.00020583543457006125\",\n        },\n{\n            'v': 99.83533165234392,\n            'f': \"99.83533165234392\",\n        }],\n [\"Vespasiano\",\n{\n            'v': 0.00020583543457006125,\n            'f': \"0.00020583543457006125\",\n        },\n{\n            'v': 99.85591519580093,\n            'f': \"99.85591519580093\",\n        }],\n [\"Francisco Morato\",\n{\n            'v': 0.00020583543457006125,\n            'f': \"0.00020583543457006125\",\n        },\n{\n            'v': 99.87649873925794,\n            'f': \"99.87649873925794\",\n        }],\n [\"Sarzedo\",\n{\n            'v': 0.00015437657592754593,\n            'f': \"0.00015437657592754593\",\n        },\n{\n            'v': 99.8919363968507,\n            'f': \"99.8919363968507\",\n        }],\n [\"Campo Bom\",\n{\n            'v': 0.00010291771728503062,\n            'f': \"0.00010291771728503062\",\n        },\n{\n            'v': 99.9022281685792,\n            'f': \"99.9022281685792\",\n        }],\n [\"S\\u00e3o Jos\\u00e9 dos Pinhais\",\n{\n            'v': 0.00010291771728503062,\n            'f': \"0.00010291771728503062\",\n        },\n{\n            'v': 99.9125199403077,\n            'f': \"99.9125199403077\",\n        }],\n [\"Esmeraldas\",\n{\n            'v': 0.00010291771728503062,\n            'f': \"0.00010291771728503062\",\n        },\n{\n            'v': 99.9228117120362,\n            'f': \"99.9228117120362\",\n        }],\n [\"Caieiras\",\n{\n            'v': 0.00010291771728503062,\n            'f': \"0.00010291771728503062\",\n        },\n{\n            'v': 99.9331034837647,\n            'f': \"99.9331034837647\",\n        }],\n [\"Rio Grande da Serra\",\n{\n            'v': 0.00010291771728503062,\n            'f': \"0.00010291771728503062\",\n        },\n{\n            'v': 99.9433952554932,\n            'f': \"99.9433952554932\",\n        }],\n [\"Vargem Grande Paulista\",\n{\n            'v': 5.145885864251531e-05,\n            'f': \"5.145885864251531e-05\",\n        },\n{\n            'v': 99.94854114135745,\n            'f': \"99.94854114135745\",\n        }],\n [\"Cubat\\u00e3o\",\n{\n            'v': 5.145885864251531e-05,\n            'f': \"5.145885864251531e-05\",\n        },\n{\n            'v': 99.9536870272217,\n            'f': \"99.9536870272217\",\n        }],\n [\"Mairinque\",\n{\n            'v': 5.145885864251531e-05,\n            'f': \"5.145885864251531e-05\",\n        },\n{\n            'v': 99.95883291308596,\n            'f': \"99.95883291308596\",\n        }],\n [\"Mongagu\\u00e1\",\n{\n            'v': 5.145885864251531e-05,\n            'f': \"5.145885864251531e-05\",\n        },\n{\n            'v': 99.96397879895021,\n            'f': \"99.96397879895021\",\n        }],\n [\"Brumadinho\",\n{\n            'v': 5.145885864251531e-05,\n            'f': \"5.145885864251531e-05\",\n        },\n{\n            'v': 99.96912468481447,\n            'f': \"99.96912468481447\",\n        }],\n [\"S\\u00e3o Leopoldo\",\n{\n            'v': 5.145885864251531e-05,\n            'f': \"5.145885864251531e-05\",\n        },\n{\n            'v': 99.97427057067873,\n            'f': \"99.97427057067873\",\n        }],\n [\"Jundia\\u00ed\",\n{\n            'v': 5.145885864251531e-05,\n            'f': \"5.145885864251531e-05\",\n        },\n{\n            'v': 99.97941645654298,\n            'f': \"99.97941645654298\",\n        }],\n [\"Campo Limpo Paulista\",\n{\n            'v': 5.145885864251531e-05,\n            'f': \"5.145885864251531e-05\",\n        },\n{\n            'v': 99.98456234240723,\n            'f': \"99.98456234240723\",\n        }],\n [\"Novo Hamburgo\",\n{\n            'v': 5.145885864251531e-05,\n            'f': \"5.145885864251531e-05\",\n        },\n{\n            'v': 99.9897082282715,\n            'f': \"99.9897082282715\",\n        }],\n [\"Arauc\\u00e1ria\",\n{\n            'v': 5.145885864251531e-05,\n            'f': \"5.145885864251531e-05\",\n        },\n{\n            'v': 99.99485411413575,\n            'f': \"99.99485411413575\",\n        }],\n [\"It\\u00e1polis\",\n{\n            'v': 5.145885864251531e-05,\n            'f': \"5.145885864251531e-05\",\n        },\n{\n            'v': 100.0,\n            'f': \"100.0\",\n        }]],\n        columns: [[\"string\", \"index\"], [\"number\", \"City\"], [\"number\", \"cumpercentage\"]],\n        columnOptions: [{\"width\": \"1px\", \"className\": \"index_column\"}],\n        rowsPerPage: 25,\n        helpUrl: \"https://colab.research.google.com/notebooks/data_table.ipynb\",\n        suppressOutputScrolling: true,\n        minimumWidth: undefined,\n      });\n    ",
            "text/html": [
              "<div>\n",
              "<style scoped>\n",
              "    .dataframe tbody tr th:only-of-type {\n",
              "        vertical-align: middle;\n",
              "    }\n",
              "\n",
              "    .dataframe tbody tr th {\n",
              "        vertical-align: top;\n",
              "    }\n",
              "\n",
              "    .dataframe thead th {\n",
              "        text-align: right;\n",
              "    }\n",
              "</style>\n",
              "<table border=\"1\" class=\"dataframe\">\n",
              "  <thead>\n",
              "    <tr style=\"text-align: right;\">\n",
              "      <th></th>\n",
              "      <th>City</th>\n",
              "      <th>cumpercentage</th>\n",
              "    </tr>\n",
              "  </thead>\n",
              "  <tbody>\n",
              "    <tr>\n",
              "      <th>Sao Paulo</th>\n",
              "      <td>0.423918</td>\n",
              "      <td>42.391808</td>\n",
              "    </tr>\n",
              "    <tr>\n",
              "      <th>Belo Horizonte</th>\n",
              "      <td>0.065867</td>\n",
              "      <td>48.978542</td>\n",
              "    </tr>\n",
              "    <tr>\n",
              "      <th>Osasco</th>\n",
              "      <td>0.065147</td>\n",
              "      <td>55.493233</td>\n",
              "    </tr>\n",
              "    <tr>\n",
              "      <th>Carapicuíba</th>\n",
              "      <td>0.061236</td>\n",
              "      <td>61.616837</td>\n",
              "    </tr>\n",
              "    <tr>\n",
              "      <th>Porto Alegre</th>\n",
              "      <td>0.045335</td>\n",
              "      <td>66.150363</td>\n",
              "    </tr>\n",
              "    <tr>\n",
              "      <th>...</th>\n",
              "      <td>...</td>\n",
              "      <td>...</td>\n",
              "    </tr>\n",
              "    <tr>\n",
              "      <th>Jundiaí</th>\n",
              "      <td>0.000051</td>\n",
              "      <td>99.979416</td>\n",
              "    </tr>\n",
              "    <tr>\n",
              "      <th>Campo Limpo Paulista</th>\n",
              "      <td>0.000051</td>\n",
              "      <td>99.984562</td>\n",
              "    </tr>\n",
              "    <tr>\n",
              "      <th>Novo Hamburgo</th>\n",
              "      <td>0.000051</td>\n",
              "      <td>99.989708</td>\n",
              "    </tr>\n",
              "    <tr>\n",
              "      <th>Araucária</th>\n",
              "      <td>0.000051</td>\n",
              "      <td>99.994854</td>\n",
              "    </tr>\n",
              "    <tr>\n",
              "      <th>Itápolis</th>\n",
              "      <td>0.000051</td>\n",
              "      <td>100.000000</td>\n",
              "    </tr>\n",
              "  </tbody>\n",
              "</table>\n",
              "<p>69 rows × 2 columns</p>\n",
              "</div>"
            ],
            "text/plain": [
              "                          City  cumpercentage\n",
              "Sao Paulo             0.423918      42.391808\n",
              "Belo Horizonte        0.065867      48.978542\n",
              "Osasco                0.065147      55.493233\n",
              "Carapicuíba           0.061236      61.616837\n",
              "Porto Alegre          0.045335      66.150363\n",
              "...                        ...            ...\n",
              "Jundiaí               0.000051      99.979416\n",
              "Campo Limpo Paulista  0.000051      99.984562\n",
              "Novo Hamburgo         0.000051      99.989708\n",
              "Araucária             0.000051      99.994854\n",
              "Itápolis              0.000051     100.000000\n",
              "\n",
              "[69 rows x 2 columns]"
            ]
          },
          "metadata": {
            "tags": []
          },
          "execution_count": 66
        }
      ]
    },
    {
      "cell_type": "markdown",
      "metadata": {
        "id": "g4-k-EQXaebe"
      },
      "source": [
        "### Dados do Revendedor\n",
        "\n",
        "Nessa etapa os revendedores serão agrupados por estado, para entendimento do perfil e preços médio praticados nas listas ofertadas.\n",
        "\n",
        "No caso dos revendedores, tem três variáveis que pode haver alterações de uma anuncio (lista) para outro. Nesta analise de revendedores, serão deixadas de fora, mas na sequência, transformadas em variáveis binarias no dataframe transformação (dft).\n"
      ]
    },
    {
      "cell_type": "code",
      "metadata": {
        "id": "5wy9nhEXXMos"
      },
      "source": [
        "# Criando uma tabela auxiliar por revendedor\n",
        "\n",
        "dfrev= df.groupby(['DealerId',\"State\"], as_index=False)\n",
        "dfrev= dfrev.agg({'Conversion':'sum',\n",
        "                  'date':'min',\n",
        "                  'Price':[\"mean\"],\n",
        "                  'Quality':[\"mean\"],\n",
        "                  'Position':[\"mean\"]})\n",
        "dfrev.columns = list(map(''.join, dfrev.columns.values))\n"
      ],
      "execution_count": null,
      "outputs": []
    },
    {
      "cell_type": "markdown",
      "metadata": {
        "id": "o29ddWG6vur6"
      },
      "source": [
        " No geral, no conjunto de dados têm 1834 revendedores. "
      ]
    },
    {
      "cell_type": "code",
      "metadata": {
        "id": "pt54ipBdsqA-",
        "colab": {
          "base_uri": "https://localhost:8080/"
        },
        "outputId": "c094cb83-b3eb-4d9e-f02d-6123a28c106b"
      },
      "source": [
        "dfrev.info()"
      ],
      "execution_count": null,
      "outputs": [
        {
          "output_type": "stream",
          "text": [
            "<class 'pandas.core.frame.DataFrame'>\n",
            "Int64Index: 1834 entries, 0 to 1833\n",
            "Data columns (total 7 columns):\n",
            " #   Column         Non-Null Count  Dtype  \n",
            "---  ------         --------------  -----  \n",
            " 0   DealerId       1834 non-null   object \n",
            " 1   State          1834 non-null   object \n",
            " 2   Conversionsum  1834 non-null   int64  \n",
            " 3   datemin        1834 non-null   object \n",
            " 4   Pricemean      1834 non-null   float64\n",
            " 5   Qualitymean    1834 non-null   float64\n",
            " 6   Positionmean   1834 non-null   float64\n",
            "dtypes: float64(3), int64(1), object(3)\n",
            "memory usage: 114.6+ KB\n"
          ],
          "name": "stdout"
        }
      ]
    },
    {
      "cell_type": "code",
      "metadata": {
        "id": "0S_Ifh-Fm0Gu",
        "colab": {
          "base_uri": "https://localhost:8080/",
          "height": 194
        },
        "outputId": "a47d7319-c2aa-4759-aac9-bdbf3aaa761b"
      },
      "source": [
        "dfrev.head()"
      ],
      "execution_count": null,
      "outputs": [
        {
          "output_type": "execute_result",
          "data": {
            "application/vnd.google.colaboratory.module+javascript": "\n      import \"https://ssl.gstatic.com/colaboratory/data_table/a6224c040fa35dcf/data_table.js\";\n\n      window.createDataTable({\n        data: [[{\n            'v': 0,\n            'f': \"0\",\n        },\n\"__+0G1cwgYivqbBQl03GLI/qBJhP7z34gAaiKcDJUHXRg=\",\n\"Sao Paulo\",\n{\n            'v': 0,\n            'f': \"0\",\n        },\n\"01/06/2019\",\n{\n            'v': 69.66747508754418,\n            'f': \"69.66747508754418\",\n        },\n{\n            'v': 4.920090618595674,\n            'f': \"4.920090618595674\",\n        },\n{\n            'v': 4.712031558185404,\n            'f': \"4.712031558185404\",\n        }],\n [{\n            'v': 1,\n            'f': \"1\",\n        },\n\"__+8XmsU3LLXtVj5SyXHYY0D64RynJANGeifXDiUFzDc8=\",\n\"Minas Gerais\",\n{\n            'v': 0,\n            'f': \"0\",\n        },\n\"01/06/2019\",\n{\n            'v': 80.0,\n            'f': \"80.0\",\n        },\n{\n            'v': 4.882758725922684,\n            'f': \"4.882758725922684\",\n        },\n{\n            'v': 6.724137931034483,\n            'f': \"6.724137931034483\",\n        }],\n [{\n            'v': 2,\n            'f': \"2\",\n        },\n\"__+AX16Klw83OSwUSI3XJu71zUjBYvgWx6cTReL4VTbRE=\",\n\"Minas Gerais\",\n{\n            'v': 0,\n            'f': \"0\",\n        },\n\"01/07/2019\",\n{\n            'v': 84.61937511444086,\n            'f': \"84.61937511444086\",\n        },\n{\n            'v': 5.0,\n            'f': \"5.0\",\n        },\n{\n            'v': 8.53125,\n            'f': \"8.53125\",\n        }],\n [{\n            'v': 3,\n            'f': \"3\",\n        },\n\"__+FOaLWh6YMAqnXW3e2ksrWs8n24EwmkNZNefrpfdBxI=\",\n\"Sao Paulo\",\n{\n            'v': 0,\n            'f': \"0\",\n        },\n\"01/06/2019\",\n{\n            'v': 66.49609385967254,\n            'f': \"66.49609385967254\",\n        },\n{\n            'v': 4.590401755911963,\n            'f': \"4.590401755911963\",\n        },\n{\n            'v': 3.765625,\n            'f': \"3.765625\",\n        }],\n [{\n            'v': 4,\n            'f': \"4\",\n        },\n\"__+Ggvnlp+IvfHyK2PxT2NBIhYNuwl5yzEJzPjSjI04AQ=\",\n\"Minas Gerais\",\n{\n            'v': 0,\n            'f': \"0\",\n        },\n\"01/06/2019\",\n{\n            'v': 83.0,\n            'f': \"83.0\",\n        },\n{\n            'v': 4.199999867529963,\n            'f': \"4.199999867529963\",\n        },\n{\n            'v': 9.752161383285303,\n            'f': \"9.752161383285303\",\n        }]],\n        columns: [[\"number\", \"index\"], [\"string\", \"DealerId\"], [\"string\", \"State\"], [\"number\", \"Conversionsum\"], [\"string\", \"datemin\"], [\"number\", \"Pricemean\"], [\"number\", \"Qualitymean\"], [\"number\", \"Positionmean\"]],\n        columnOptions: [{\"width\": \"1px\", \"className\": \"index_column\"}],\n        rowsPerPage: 25,\n        helpUrl: \"https://colab.research.google.com/notebooks/data_table.ipynb\",\n        suppressOutputScrolling: true,\n        minimumWidth: undefined,\n      });\n    ",
            "text/html": [
              "<div>\n",
              "<style scoped>\n",
              "    .dataframe tbody tr th:only-of-type {\n",
              "        vertical-align: middle;\n",
              "    }\n",
              "\n",
              "    .dataframe tbody tr th {\n",
              "        vertical-align: top;\n",
              "    }\n",
              "\n",
              "    .dataframe thead th {\n",
              "        text-align: right;\n",
              "    }\n",
              "</style>\n",
              "<table border=\"1\" class=\"dataframe\">\n",
              "  <thead>\n",
              "    <tr style=\"text-align: right;\">\n",
              "      <th></th>\n",
              "      <th>DealerId</th>\n",
              "      <th>State</th>\n",
              "      <th>Conversionsum</th>\n",
              "      <th>datemin</th>\n",
              "      <th>Pricemean</th>\n",
              "      <th>Qualitymean</th>\n",
              "      <th>Positionmean</th>\n",
              "    </tr>\n",
              "  </thead>\n",
              "  <tbody>\n",
              "    <tr>\n",
              "      <th>0</th>\n",
              "      <td>__+0G1cwgYivqbBQl03GLI/qBJhP7z34gAaiKcDJUHXRg=</td>\n",
              "      <td>Sao Paulo</td>\n",
              "      <td>0</td>\n",
              "      <td>01/06/2019</td>\n",
              "      <td>69.667475</td>\n",
              "      <td>4.920091</td>\n",
              "      <td>4.712032</td>\n",
              "    </tr>\n",
              "    <tr>\n",
              "      <th>1</th>\n",
              "      <td>__+8XmsU3LLXtVj5SyXHYY0D64RynJANGeifXDiUFzDc8=</td>\n",
              "      <td>Minas Gerais</td>\n",
              "      <td>0</td>\n",
              "      <td>01/06/2019</td>\n",
              "      <td>80.000000</td>\n",
              "      <td>4.882759</td>\n",
              "      <td>6.724138</td>\n",
              "    </tr>\n",
              "    <tr>\n",
              "      <th>2</th>\n",
              "      <td>__+AX16Klw83OSwUSI3XJu71zUjBYvgWx6cTReL4VTbRE=</td>\n",
              "      <td>Minas Gerais</td>\n",
              "      <td>0</td>\n",
              "      <td>01/07/2019</td>\n",
              "      <td>84.619375</td>\n",
              "      <td>5.000000</td>\n",
              "      <td>8.531250</td>\n",
              "    </tr>\n",
              "    <tr>\n",
              "      <th>3</th>\n",
              "      <td>__+FOaLWh6YMAqnXW3e2ksrWs8n24EwmkNZNefrpfdBxI=</td>\n",
              "      <td>Sao Paulo</td>\n",
              "      <td>0</td>\n",
              "      <td>01/06/2019</td>\n",
              "      <td>66.496094</td>\n",
              "      <td>4.590402</td>\n",
              "      <td>3.765625</td>\n",
              "    </tr>\n",
              "    <tr>\n",
              "      <th>4</th>\n",
              "      <td>__+Ggvnlp+IvfHyK2PxT2NBIhYNuwl5yzEJzPjSjI04AQ=</td>\n",
              "      <td>Minas Gerais</td>\n",
              "      <td>0</td>\n",
              "      <td>01/06/2019</td>\n",
              "      <td>83.000000</td>\n",
              "      <td>4.200000</td>\n",
              "      <td>9.752161</td>\n",
              "    </tr>\n",
              "  </tbody>\n",
              "</table>\n",
              "</div>"
            ],
            "text/plain": [
              "                                         DealerId  ... Positionmean\n",
              "0  __+0G1cwgYivqbBQl03GLI/qBJhP7z34gAaiKcDJUHXRg=  ...     4.712032\n",
              "1  __+8XmsU3LLXtVj5SyXHYY0D64RynJANGeifXDiUFzDc8=  ...     6.724138\n",
              "2  __+AX16Klw83OSwUSI3XJu71zUjBYvgWx6cTReL4VTbRE=  ...     8.531250\n",
              "3  __+FOaLWh6YMAqnXW3e2ksrWs8n24EwmkNZNefrpfdBxI=  ...     3.765625\n",
              "4  __+Ggvnlp+IvfHyK2PxT2NBIhYNuwl5yzEJzPjSjI04AQ=  ...     9.752161\n",
              "\n",
              "[5 rows x 7 columns]"
            ]
          },
          "metadata": {
            "tags": []
          },
          "execution_count": 70
        }
      ]
    },
    {
      "cell_type": "markdown",
      "metadata": {
        "id": "2j7pvz5fkk9Y"
      },
      "source": [
        "Como era de espera, a maioria dos revendedores são do estado de São Paulo (80%). "
      ]
    },
    {
      "cell_type": "code",
      "metadata": {
        "id": "0OBJH9xSjlrI",
        "colab": {
          "base_uri": "https://localhost:8080/"
        },
        "outputId": "7b6efaaf-1299-49c4-9329-c38beefdf517"
      },
      "source": [
        "# Distribuição dos revendedores por estado \n",
        "\n",
        "dfrev.State.value_counts(normalize=True)"
      ],
      "execution_count": null,
      "outputs": [
        {
          "output_type": "execute_result",
          "data": {
            "text/plain": [
              "Sao Paulo            0.799891\n",
              "Minas Gerais         0.101963\n",
              "Rio Grande do Sul    0.045802\n",
              "Paraná               0.035442\n",
              "Distrito Federal     0.016903\n",
              "Name: State, dtype: float64"
            ]
          },
          "metadata": {
            "tags": []
          },
          "execution_count": 74
        }
      ]
    },
    {
      "cell_type": "markdown",
      "metadata": {
        "id": "fjzEQ5sTmHQu"
      },
      "source": [
        "A tabela a seguir, expoe a distribuição média dos preço por estado. A maior média observada foi identificada no Distrito Federal, com preço médio de R\\$ 74,55, sendo seguido por São Paulo com preço médio de R\\$ 73,78. "
      ]
    },
    {
      "cell_type": "code",
      "metadata": {
        "id": "xV9ZlU04bbyv",
        "colab": {
          "base_uri": "https://localhost:8080/",
          "height": 269
        },
        "outputId": "bb2f92a1-a066-4c02-b00f-31ef3aa2c563"
      },
      "source": [
        "# Estatística descritiva por estado (Preço)\n",
        "\n",
        "resumo = dfrev.groupby('State').agg({'Pricemean':['mean','std', 'min','median','max','count']})\n",
        "resumo"
      ],
      "execution_count": null,
      "outputs": [
        {
          "output_type": "execute_result",
          "data": {
            "text/html": [
              "<div>\n",
              "<style scoped>\n",
              "    .dataframe tbody tr th:only-of-type {\n",
              "        vertical-align: middle;\n",
              "    }\n",
              "\n",
              "    .dataframe tbody tr th {\n",
              "        vertical-align: top;\n",
              "    }\n",
              "\n",
              "    .dataframe thead tr th {\n",
              "        text-align: left;\n",
              "    }\n",
              "\n",
              "    .dataframe thead tr:last-of-type th {\n",
              "        text-align: right;\n",
              "    }\n",
              "</style>\n",
              "<table border=\"1\" class=\"dataframe\">\n",
              "  <thead>\n",
              "    <tr>\n",
              "      <th></th>\n",
              "      <th colspan=\"6\" halign=\"left\">Pricemean</th>\n",
              "    </tr>\n",
              "    <tr>\n",
              "      <th></th>\n",
              "      <th>mean</th>\n",
              "      <th>std</th>\n",
              "      <th>min</th>\n",
              "      <th>median</th>\n",
              "      <th>max</th>\n",
              "      <th>count</th>\n",
              "    </tr>\n",
              "    <tr>\n",
              "      <th>State</th>\n",
              "      <th></th>\n",
              "      <th></th>\n",
              "      <th></th>\n",
              "      <th></th>\n",
              "      <th></th>\n",
              "      <th></th>\n",
              "    </tr>\n",
              "  </thead>\n",
              "  <tbody>\n",
              "    <tr>\n",
              "      <th>Distrito Federal</th>\n",
              "      <td>74.551802</td>\n",
              "      <td>7.892131</td>\n",
              "      <td>60.000000</td>\n",
              "      <td>72.000000</td>\n",
              "      <td>92.083333</td>\n",
              "      <td>31</td>\n",
              "    </tr>\n",
              "    <tr>\n",
              "      <th>Minas Gerais</th>\n",
              "      <td>73.228410</td>\n",
              "      <td>4.902978</td>\n",
              "      <td>64.603522</td>\n",
              "      <td>72.464673</td>\n",
              "      <td>89.000000</td>\n",
              "      <td>187</td>\n",
              "    </tr>\n",
              "    <tr>\n",
              "      <th>Paraná</th>\n",
              "      <td>72.427130</td>\n",
              "      <td>4.368684</td>\n",
              "      <td>64.978571</td>\n",
              "      <td>71.500000</td>\n",
              "      <td>84.998125</td>\n",
              "      <td>65</td>\n",
              "    </tr>\n",
              "    <tr>\n",
              "      <th>Rio Grande do Sul</th>\n",
              "      <td>72.597566</td>\n",
              "      <td>4.066296</td>\n",
              "      <td>66.337391</td>\n",
              "      <td>71.816421</td>\n",
              "      <td>84.002397</td>\n",
              "      <td>84</td>\n",
              "    </tr>\n",
              "    <tr>\n",
              "      <th>Sao Paulo</th>\n",
              "      <td>73.784913</td>\n",
              "      <td>6.972647</td>\n",
              "      <td>23.300000</td>\n",
              "      <td>72.780440</td>\n",
              "      <td>120.000000</td>\n",
              "      <td>1467</td>\n",
              "    </tr>\n",
              "  </tbody>\n",
              "</table>\n",
              "</div>"
            ],
            "text/plain": [
              "                   Pricemean                                                  \n",
              "                        mean       std        min     median         max count\n",
              "State                                                                         \n",
              "Distrito Federal   74.551802  7.892131  60.000000  72.000000   92.083333    31\n",
              "Minas Gerais       73.228410  4.902978  64.603522  72.464673   89.000000   187\n",
              "Paraná             72.427130  4.368684  64.978571  71.500000   84.998125    65\n",
              "Rio Grande do Sul  72.597566  4.066296  66.337391  71.816421   84.002397    84\n",
              "Sao Paulo          73.784913  6.972647  23.300000  72.780440  120.000000  1467"
            ]
          },
          "metadata": {
            "tags": []
          },
          "execution_count": 75
        }
      ]
    },
    {
      "cell_type": "markdown",
      "metadata": {
        "id": "O0QDjLgloIF2"
      },
      "source": [
        "Ao analisar o número medio de conversão (total de conversão), nota-se uma maior média no estado do Rio Grande do Sul. Em todos os estados, 50% dos revendedores não tiveram conversão de vendas. "
      ]
    },
    {
      "cell_type": "code",
      "metadata": {
        "id": "KluOcpb4nxfV",
        "colab": {
          "base_uri": "https://localhost:8080/",
          "height": 269
        },
        "outputId": "6b935e2a-c3d8-41ef-95a5-eb678d89c478"
      },
      "source": [
        "# Estatística descritiva por estado (Conversion)\n",
        "\n",
        "resumo = dfrev.groupby('State').agg({'Conversionsum':['mean','std', 'min','median','max','count']})\n",
        "resumo"
      ],
      "execution_count": null,
      "outputs": [
        {
          "output_type": "execute_result",
          "data": {
            "text/html": [
              "<div>\n",
              "<style scoped>\n",
              "    .dataframe tbody tr th:only-of-type {\n",
              "        vertical-align: middle;\n",
              "    }\n",
              "\n",
              "    .dataframe tbody tr th {\n",
              "        vertical-align: top;\n",
              "    }\n",
              "\n",
              "    .dataframe thead tr th {\n",
              "        text-align: left;\n",
              "    }\n",
              "\n",
              "    .dataframe thead tr:last-of-type th {\n",
              "        text-align: right;\n",
              "    }\n",
              "</style>\n",
              "<table border=\"1\" class=\"dataframe\">\n",
              "  <thead>\n",
              "    <tr>\n",
              "      <th></th>\n",
              "      <th colspan=\"6\" halign=\"left\">Conversionsum</th>\n",
              "    </tr>\n",
              "    <tr>\n",
              "      <th></th>\n",
              "      <th>mean</th>\n",
              "      <th>std</th>\n",
              "      <th>min</th>\n",
              "      <th>median</th>\n",
              "      <th>max</th>\n",
              "      <th>count</th>\n",
              "    </tr>\n",
              "    <tr>\n",
              "      <th>State</th>\n",
              "      <th></th>\n",
              "      <th></th>\n",
              "      <th></th>\n",
              "      <th></th>\n",
              "      <th></th>\n",
              "      <th></th>\n",
              "    </tr>\n",
              "  </thead>\n",
              "  <tbody>\n",
              "    <tr>\n",
              "      <th>Distrito Federal</th>\n",
              "      <td>0.193548</td>\n",
              "      <td>0.401610</td>\n",
              "      <td>0</td>\n",
              "      <td>0</td>\n",
              "      <td>1</td>\n",
              "      <td>31</td>\n",
              "    </tr>\n",
              "    <tr>\n",
              "      <th>Minas Gerais</th>\n",
              "      <td>1.347594</td>\n",
              "      <td>2.720300</td>\n",
              "      <td>0</td>\n",
              "      <td>0</td>\n",
              "      <td>18</td>\n",
              "      <td>187</td>\n",
              "    </tr>\n",
              "    <tr>\n",
              "      <th>Paraná</th>\n",
              "      <td>0.492308</td>\n",
              "      <td>1.404491</td>\n",
              "      <td>0</td>\n",
              "      <td>0</td>\n",
              "      <td>9</td>\n",
              "      <td>65</td>\n",
              "    </tr>\n",
              "    <tr>\n",
              "      <th>Rio Grande do Sul</th>\n",
              "      <td>2.071429</td>\n",
              "      <td>4.433676</td>\n",
              "      <td>0</td>\n",
              "      <td>0</td>\n",
              "      <td>19</td>\n",
              "      <td>84</td>\n",
              "    </tr>\n",
              "    <tr>\n",
              "      <th>Sao Paulo</th>\n",
              "      <td>1.498978</td>\n",
              "      <td>3.119357</td>\n",
              "      <td>0</td>\n",
              "      <td>0</td>\n",
              "      <td>36</td>\n",
              "      <td>1467</td>\n",
              "    </tr>\n",
              "  </tbody>\n",
              "</table>\n",
              "</div>"
            ],
            "text/plain": [
              "                  Conversionsum                               \n",
              "                           mean       std min median max count\n",
              "State                                                         \n",
              "Distrito Federal       0.193548  0.401610   0      0   1    31\n",
              "Minas Gerais           1.347594  2.720300   0      0  18   187\n",
              "Paraná                 0.492308  1.404491   0      0   9    65\n",
              "Rio Grande do Sul      2.071429  4.433676   0      0  19    84\n",
              "Sao Paulo              1.498978  3.119357   0      0  36  1467"
            ]
          },
          "metadata": {
            "tags": []
          },
          "execution_count": 49
        }
      ]
    },
    {
      "cell_type": "markdown",
      "metadata": {
        "id": "XL3LmDD0pVZm"
      },
      "source": [
        "A matriz de correlação abaixo exibe os coeficientes de correlação dos indicadores por revendedor, nota-se que: \n",
        "\n",
        "- a maior correlação absoluta observada foi entre preço (Pricemean) e total de conversão (Conversionsum), indicando quanto menor o preço praticado pelo revendendor maior o número de conversões. \n",
        "- A variável \"Quality\", apresentou uma correlação fraca com conversão, mas sinal positivo. Isso pressupoe que, quanto maior for avaliação do revendedor mais ele converte venda. \n",
        "- o indicador position, e altamente correlacionado com preço. A correlação dessa variável com total de conversão (ConvesionSum) tambem foi negativa. "
      ]
    },
    {
      "cell_type": "code",
      "metadata": {
        "id": "5HzFjFmVqcLk",
        "colab": {
          "base_uri": "https://localhost:8080/"
        },
        "outputId": "003efe97-4553-4530-af61-b6d777157e34"
      },
      "source": [
        "dfrev.corr()"
      ],
      "execution_count": null,
      "outputs": [
        {
          "output_type": "execute_result",
          "data": {
            "application/vnd.google.colaboratory.module+javascript": "\n      import \"https://ssl.gstatic.com/colaboratory/data_table/a6224c040fa35dcf/data_table.js\";\n\n      window.createDataTable({\n        data: [[\"Conversionsum\",\n{\n            'v': 1.0,\n            'f': \"1.0\",\n        },\n{\n            'v': -0.23288058259691471,\n            'f': \"-0.23288058259691471\",\n        },\n{\n            'v': 0.053827560386159816,\n            'f': \"0.053827560386159816\",\n        },\n{\n            'v': -0.09491281050407539,\n            'f': \"-0.09491281050407539\",\n        }],\n [\"Pricemean\",\n{\n            'v': -0.23288058259691471,\n            'f': \"-0.23288058259691471\",\n        },\n{\n            'v': 1.0,\n            'f': \"1.0\",\n        },\n{\n            'v': -0.019942269957666712,\n            'f': \"-0.019942269957666712\",\n        },\n{\n            'v': 0.43827801767161945,\n            'f': \"0.43827801767161945\",\n        }],\n [\"Qualitymean\",\n{\n            'v': 0.053827560386159816,\n            'f': \"0.053827560386159816\",\n        },\n{\n            'v': -0.019942269957666712,\n            'f': \"-0.019942269957666712\",\n        },\n{\n            'v': 1.0,\n            'f': \"1.0\",\n        },\n{\n            'v': -0.14804445902379462,\n            'f': \"-0.14804445902379462\",\n        }],\n [\"Positionmean\",\n{\n            'v': -0.09491281050407539,\n            'f': \"-0.09491281050407539\",\n        },\n{\n            'v': 0.43827801767161945,\n            'f': \"0.43827801767161945\",\n        },\n{\n            'v': -0.14804445902379462,\n            'f': \"-0.14804445902379462\",\n        },\n{\n            'v': 1.0,\n            'f': \"1.0\",\n        }]],\n        columns: [[\"string\", \"index\"], [\"number\", \"Conversionsum\"], [\"number\", \"Pricemean\"], [\"number\", \"Qualitymean\"], [\"number\", \"Positionmean\"]],\n        columnOptions: [{\"width\": \"1px\", \"className\": \"index_column\"}],\n        rowsPerPage: 25,\n        helpUrl: \"https://colab.research.google.com/notebooks/data_table.ipynb\",\n        suppressOutputScrolling: true,\n        minimumWidth: undefined,\n      });\n    ",
            "text/html": [
              "<div>\n",
              "<style scoped>\n",
              "    .dataframe tbody tr th:only-of-type {\n",
              "        vertical-align: middle;\n",
              "    }\n",
              "\n",
              "    .dataframe tbody tr th {\n",
              "        vertical-align: top;\n",
              "    }\n",
              "\n",
              "    .dataframe thead th {\n",
              "        text-align: right;\n",
              "    }\n",
              "</style>\n",
              "<table border=\"1\" class=\"dataframe\">\n",
              "  <thead>\n",
              "    <tr style=\"text-align: right;\">\n",
              "      <th></th>\n",
              "      <th>Conversionsum</th>\n",
              "      <th>Pricemean</th>\n",
              "      <th>Qualitymean</th>\n",
              "      <th>Positionmean</th>\n",
              "    </tr>\n",
              "  </thead>\n",
              "  <tbody>\n",
              "    <tr>\n",
              "      <th>Conversionsum</th>\n",
              "      <td>1.000000</td>\n",
              "      <td>-0.232881</td>\n",
              "      <td>0.053828</td>\n",
              "      <td>-0.094913</td>\n",
              "    </tr>\n",
              "    <tr>\n",
              "      <th>Pricemean</th>\n",
              "      <td>-0.232881</td>\n",
              "      <td>1.000000</td>\n",
              "      <td>-0.019942</td>\n",
              "      <td>0.438278</td>\n",
              "    </tr>\n",
              "    <tr>\n",
              "      <th>Qualitymean</th>\n",
              "      <td>0.053828</td>\n",
              "      <td>-0.019942</td>\n",
              "      <td>1.000000</td>\n",
              "      <td>-0.148044</td>\n",
              "    </tr>\n",
              "    <tr>\n",
              "      <th>Positionmean</th>\n",
              "      <td>-0.094913</td>\n",
              "      <td>0.438278</td>\n",
              "      <td>-0.148044</td>\n",
              "      <td>1.000000</td>\n",
              "    </tr>\n",
              "  </tbody>\n",
              "</table>\n",
              "</div>"
            ],
            "text/plain": [
              "               Conversionsum  Pricemean  Qualitymean  Positionmean\n",
              "Conversionsum       1.000000  -0.232881     0.053828     -0.094913\n",
              "Pricemean          -0.232881   1.000000    -0.019942      0.438278\n",
              "Qualitymean         0.053828  -0.019942     1.000000     -0.148044\n",
              "Positionmean       -0.094913   0.438278    -0.148044      1.000000"
            ]
          },
          "metadata": {
            "tags": []
          },
          "execution_count": 113
        }
      ]
    },
    {
      "cell_type": "code",
      "metadata": {
        "id": "bai14LSuh6Xo",
        "colab": {
          "base_uri": "https://localhost:8080/"
        },
        "outputId": "c7b10b1f-3214-41a3-fe77-f318600c1b2b"
      },
      "source": [
        "# Matriz de correlação \n",
        "\n",
        "plt.figure(figsize=(25,12))\n",
        "p = sns.heatmap(data=dfrev.corr(method='pearson'), annot=True)"
      ],
      "execution_count": null,
      "outputs": [
        {
          "output_type": "display_data",
          "data": {
            "image/png": "[encoded data removed]",
            "text/plain": [
              "<Figure size 1800x864 with 2 Axes>"
            ]
          },
          "metadata": {
            "tags": [],
            "needs_background": "light"
          }
        }
      ]
    },
    {
      "cell_type": "markdown",
      "metadata": {
        "id": "J-pxewMJeIfJ"
      },
      "source": [
        " Transformação Binarias das variáveis para base do modelo preditivo: \n",
        " \n",
        "- DealerETAGroup\n",
        "- RecommendationType "
      ]
    },
    {
      "cell_type": "code",
      "metadata": {
        "id": "pZxEKgRPeHQg"
      },
      "source": [
        "dft = pd.get_dummies(dft, columns = ['DealerETAGroup','Distributor','RecommendationType'])"
      ],
      "execution_count": null,
      "outputs": []
    },
    {
      "cell_type": "markdown",
      "metadata": {
        "id": "dL2Revt0e414"
      },
      "source": [
        "### Dados da Lista\n",
        "\n",
        "A ideia nessa etapa é semelhante ao que se fez na seção \"Dados do Revendedor\". Inicialmente, criar uma tabela com as listas e respectivas média de preços, quality e posição, além de avaliar a distribuição das listas por estado. "
      ]
    },
    {
      "cell_type": "code",
      "metadata": {
        "id": "Wm_-zLsqfCeo"
      },
      "source": [
        "# Criando uma tabela auxiliar das Listas\n",
        "dflist= df.groupby(['SearchId',\"State\",\"date\",\"dia_da_semana\",\"dia_mes\",\"mes\",\"hora\",\"ano\"], as_index=False)\n",
        "dflist= dflist.agg({'Conversion':'sum',\n",
        "                  'Price':[\"mean\"],\n",
        "                  'Quality':[\"mean\"],\n",
        "                  'Position':[\"mean\"]})\n",
        "dflist.columns = list(map(''.join, dflist.columns.values))"
      ],
      "execution_count": null,
      "outputs": []
    },
    {
      "cell_type": "code",
      "metadata": {
        "id": "8I6MVA5Kfd1X",
        "colab": {
          "base_uri": "https://localhost:8080/"
        },
        "outputId": "cdf54c2d-4454-469f-de13-f6e90f0b5be4"
      },
      "source": [
        "dflist.head()"
      ],
      "execution_count": null,
      "outputs": [
        {
          "output_type": "execute_result",
          "data": {
            "application/vnd.google.colaboratory.module+javascript": "\n      import \"https://ssl.gstatic.com/colaboratory/data_table/a6224c040fa35dcf/data_table.js\";\n\n      window.createDataTable({\n        data: [[{\n            'v': 0,\n            'f': \"0\",\n        },\n\"__++NJUeirtx5aLEGXp/83/0gJ7UtC4vhTzoEVtoNOQt4=|1566655431167\",\n\"Sao Paulo\",\n\"24/08/2019\",\n\"Saturday\",\n\"24\",\n\"August\",\n\"14\",\n{\n            'v': 2019,\n            'f': \"2019\",\n        },\n{\n            'v': 0,\n            'f': \"0\",\n        },\n{\n            'v': 72.971,\n            'f': \"72.971\",\n        },\n{\n            'v': 4.730000019073486,\n            'f': \"4.730000019073486\",\n        },\n{\n            'v': 4.5,\n            'f': \"4.5\",\n        }],\n [{\n            'v': 1,\n            'f': \"1\",\n        },\n\"__++T9Zhx4sTzT4q3MVRejipG2RSY+lDK4xHAHCn929ls=|1560379970687\",\n\"Rio Grande do Sul\",\n\"12/06/2019\",\n\"Wednesday\",\n\"12\",\n\"June\",\n\"22\",\n{\n            'v': 2019,\n            'f': \"2019\",\n        },\n{\n            'v': 1,\n            'f': \"1\",\n        },\n{\n            'v': 71.999,\n            'f': \"71.999\",\n        },\n{\n            'v': 4.560000085830689,\n            'f': \"4.560000085830689\",\n        },\n{\n            'v': 4.5,\n            'f': \"4.5\",\n        }],\n [{\n            'v': 2,\n            'f': \"2\",\n        },\n\"__++T9Zhx4sTzT4q3MVRejipG2RSY+lDK4xHAHCn929ls=|1561499545172\",\n\"Rio Grande do Sul\",\n\"25/06/2019\",\n\"Tuesday\",\n\"25\",\n\"June\",\n\"21\",\n{\n            'v': 2019,\n            'f': \"2019\",\n        },\n{\n            'v': 1,\n            'f': \"1\",\n        },\n{\n            'v': 70.066,\n            'f': \"70.066\",\n        },\n{\n            'v': 4.600000047683716,\n            'f': \"4.600000047683716\",\n        },\n{\n            'v': 4.5,\n            'f': \"4.5\",\n        }],\n [{\n            'v': 3,\n            'f': \"3\",\n        },\n\"__++ZUTc6QzI0LR1zqWhO+mrFOdTYTxjtoCx/1u00zGUA=|1562354110445\",\n\"Sao Paulo\",\n\"05/07/2019\",\n\"Friday\",\n\"05\",\n\"July\",\n\"19\",\n{\n            'v': 2019,\n            'f': \"2019\",\n        },\n{\n            'v': 1,\n            'f': \"1\",\n        },\n{\n            'v': 71.43555555555557,\n            'f': \"71.43555555555557\",\n        },\n{\n            'v': 4.499999991169682,\n            'f': \"4.499999991169682\",\n        },\n{\n            'v': 13.0,\n            'f': \"13.0\",\n        }],\n [{\n            'v': 4,\n            'f': \"4\",\n        },\n\"__++c79jNZqUobJxlJ3btmFMU2aiN08U/GsIMl08qWm84=|1561732341947\",\n\"Rio Grande do Sul\",\n\"28/06/2019\",\n\"Friday\",\n\"28\",\n\"June\",\n\"14\",\n{\n            'v': 2019,\n            'f': \"2019\",\n        },\n{\n            'v': 0,\n            'f': \"0\",\n        },\n{\n            'v': 71.65285714285714,\n            'f': \"71.65285714285714\",\n        },\n{\n            'v': 4.585714340209961,\n            'f': \"4.585714340209961\",\n        },\n{\n            'v': 3.0,\n            'f': \"3.0\",\n        }]],\n        columns: [[\"number\", \"index\"], [\"string\", \"SearchId\"], [\"string\", \"State\"], [\"string\", \"date\"], [\"string\", \"dia_da_semana\"], [\"string\", \"dia_mes\"], [\"string\", \"mes\"], [\"string\", \"hora\"], [\"number\", \"ano\"], [\"number\", \"Conversionsum\"], [\"number\", \"Pricemean\"], [\"number\", \"Qualitymean\"], [\"number\", \"Positionmean\"]],\n        columnOptions: [{\"width\": \"1px\", \"className\": \"index_column\"}],\n        rowsPerPage: 25,\n        helpUrl: \"https://colab.research.google.com/notebooks/data_table.ipynb\",\n        suppressOutputScrolling: true,\n        minimumWidth: undefined,\n      });\n    ",
            "text/html": [
              "<div>\n",
              "<style scoped>\n",
              "    .dataframe tbody tr th:only-of-type {\n",
              "        vertical-align: middle;\n",
              "    }\n",
              "\n",
              "    .dataframe tbody tr th {\n",
              "        vertical-align: top;\n",
              "    }\n",
              "\n",
              "    .dataframe thead th {\n",
              "        text-align: right;\n",
              "    }\n",
              "</style>\n",
              "<table border=\"1\" class=\"dataframe\">\n",
              "  <thead>\n",
              "    <tr style=\"text-align: right;\">\n",
              "      <th></th>\n",
              "      <th>SearchId</th>\n",
              "      <th>State</th>\n",
              "      <th>date</th>\n",
              "      <th>dia_da_semana</th>\n",
              "      <th>dia_mes</th>\n",
              "      <th>mes</th>\n",
              "      <th>hora</th>\n",
              "      <th>ano</th>\n",
              "      <th>Conversionsum</th>\n",
              "      <th>Pricemean</th>\n",
              "      <th>Qualitymean</th>\n",
              "      <th>Positionmean</th>\n",
              "    </tr>\n",
              "  </thead>\n",
              "  <tbody>\n",
              "    <tr>\n",
              "      <th>0</th>\n",
              "      <td>__++NJUeirtx5aLEGXp/83/0gJ7UtC4vhTzoEVtoNOQt4=...</td>\n",
              "      <td>Sao Paulo</td>\n",
              "      <td>24/08/2019</td>\n",
              "      <td>Saturday</td>\n",
              "      <td>24</td>\n",
              "      <td>August</td>\n",
              "      <td>14</td>\n",
              "      <td>2019</td>\n",
              "      <td>0</td>\n",
              "      <td>72.971000</td>\n",
              "      <td>4.730000</td>\n",
              "      <td>4.5</td>\n",
              "    </tr>\n",
              "    <tr>\n",
              "      <th>1</th>\n",
              "      <td>__++T9Zhx4sTzT4q3MVRejipG2RSY+lDK4xHAHCn929ls=...</td>\n",
              "      <td>Rio Grande do Sul</td>\n",
              "      <td>12/06/2019</td>\n",
              "      <td>Wednesday</td>\n",
              "      <td>12</td>\n",
              "      <td>June</td>\n",
              "      <td>22</td>\n",
              "      <td>2019</td>\n",
              "      <td>1</td>\n",
              "      <td>71.999000</td>\n",
              "      <td>4.560000</td>\n",
              "      <td>4.5</td>\n",
              "    </tr>\n",
              "    <tr>\n",
              "      <th>2</th>\n",
              "      <td>__++T9Zhx4sTzT4q3MVRejipG2RSY+lDK4xHAHCn929ls=...</td>\n",
              "      <td>Rio Grande do Sul</td>\n",
              "      <td>25/06/2019</td>\n",
              "      <td>Tuesday</td>\n",
              "      <td>25</td>\n",
              "      <td>June</td>\n",
              "      <td>21</td>\n",
              "      <td>2019</td>\n",
              "      <td>1</td>\n",
              "      <td>70.066000</td>\n",
              "      <td>4.600000</td>\n",
              "      <td>4.5</td>\n",
              "    </tr>\n",
              "    <tr>\n",
              "      <th>3</th>\n",
              "      <td>__++ZUTc6QzI0LR1zqWhO+mrFOdTYTxjtoCx/1u00zGUA=...</td>\n",
              "      <td>Sao Paulo</td>\n",
              "      <td>05/07/2019</td>\n",
              "      <td>Friday</td>\n",
              "      <td>05</td>\n",
              "      <td>July</td>\n",
              "      <td>19</td>\n",
              "      <td>2019</td>\n",
              "      <td>1</td>\n",
              "      <td>71.435556</td>\n",
              "      <td>4.500000</td>\n",
              "      <td>13.0</td>\n",
              "    </tr>\n",
              "    <tr>\n",
              "      <th>4</th>\n",
              "      <td>__++c79jNZqUobJxlJ3btmFMU2aiN08U/GsIMl08qWm84=...</td>\n",
              "      <td>Rio Grande do Sul</td>\n",
              "      <td>28/06/2019</td>\n",
              "      <td>Friday</td>\n",
              "      <td>28</td>\n",
              "      <td>June</td>\n",
              "      <td>14</td>\n",
              "      <td>2019</td>\n",
              "      <td>0</td>\n",
              "      <td>71.652857</td>\n",
              "      <td>4.585714</td>\n",
              "      <td>3.0</td>\n",
              "    </tr>\n",
              "  </tbody>\n",
              "</table>\n",
              "</div>"
            ],
            "text/plain": [
              "                                            SearchId  ... Positionmean\n",
              "0  __++NJUeirtx5aLEGXp/83/0gJ7UtC4vhTzoEVtoNOQt4=...  ...          4.5\n",
              "1  __++T9Zhx4sTzT4q3MVRejipG2RSY+lDK4xHAHCn929ls=...  ...          4.5\n",
              "2  __++T9Zhx4sTzT4q3MVRejipG2RSY+lDK4xHAHCn929ls=...  ...          4.5\n",
              "3  __++ZUTc6QzI0LR1zqWhO+mrFOdTYTxjtoCx/1u00zGUA=...  ...         13.0\n",
              "4  __++c79jNZqUobJxlJ3btmFMU2aiN08U/GsIMl08qWm84=...  ...          3.0\n",
              "\n",
              "[5 rows x 12 columns]"
            ]
          },
          "metadata": {
            "tags": []
          },
          "execution_count": 117
        }
      ]
    },
    {
      "cell_type": "code",
      "metadata": {
        "id": "hrVlE6nnjMoS",
        "colab": {
          "base_uri": "https://localhost:8080/"
        },
        "outputId": "b7d66317-e7a7-4ca4-8546-748b77169924"
      },
      "source": [
        "dflist.info()"
      ],
      "execution_count": null,
      "outputs": [
        {
          "output_type": "stream",
          "text": [
            "<class 'pandas.core.frame.DataFrame'>\n",
            "Int64Index: 40656 entries, 0 to 40655\n",
            "Data columns (total 12 columns):\n",
            " #   Column         Non-Null Count  Dtype  \n",
            "---  ------         --------------  -----  \n",
            " 0   SearchId       40656 non-null  object \n",
            " 1   State          40656 non-null  object \n",
            " 2   date           40656 non-null  object \n",
            " 3   dia_da_semana  40656 non-null  object \n",
            " 4   dia_mes        40656 non-null  object \n",
            " 5   mes            40656 non-null  object \n",
            " 6   hora           40656 non-null  object \n",
            " 7   ano            40656 non-null  int64  \n",
            " 8   Conversionsum  40656 non-null  int64  \n",
            " 9   Pricemean      40656 non-null  float64\n",
            " 10  Qualitymean    40656 non-null  float64\n",
            " 11  Positionmean   40656 non-null  float64\n",
            "dtypes: float64(3), int64(2), object(7)\n",
            "memory usage: 4.0+ MB\n"
          ],
          "name": "stdout"
        }
      ]
    },
    {
      "cell_type": "markdown",
      "metadata": {
        "id": "XoE5Z-XGkJ_H"
      },
      "source": [
        "Frequência de Lista por Estado"
      ]
    },
    {
      "cell_type": "code",
      "metadata": {
        "id": "ZrPUOn1Ygfke",
        "colab": {
          "base_uri": "https://localhost:8080/"
        },
        "outputId": "9faf578c-41e6-4153-b186-6b87cf953c2e"
      },
      "source": [
        "# Distribuição das listas por estado \n",
        "dflist.State.value_counts(normalize=True)"
      ],
      "execution_count": null,
      "outputs": [
        {
          "output_type": "execute_result",
          "data": {
            "text/plain": [
              "Sao Paulo            0.780229\n",
              "Minas Gerais         0.144284\n",
              "Rio Grande do Sul    0.062574\n",
              "Paraná               0.010552\n",
              "Distrito Federal     0.002361\n",
              "Name: State, dtype: float64"
            ]
          },
          "metadata": {
            "tags": []
          },
          "execution_count": 119
        }
      ]
    },
    {
      "cell_type": "markdown",
      "metadata": {
        "id": "yR_SPckwkIFK"
      },
      "source": [
        "**Preço Médio** - Estatística descritivas das Listas por estado"
      ]
    },
    {
      "cell_type": "code",
      "metadata": {
        "id": "z8Xcpi5tgqKM",
        "colab": {
          "base_uri": "https://localhost:8080/"
        },
        "outputId": "fa09c76a-b41d-49b5-8756-d3725d68dce7"
      },
      "source": [
        "# Estatística descritiva por estado (Preço) por Lista\n",
        "resumo = dflist.groupby('State').agg({'Pricemean':['mean','std', 'min','median','max','count']})\n",
        "resumo"
      ],
      "execution_count": null,
      "outputs": [
        {
          "output_type": "execute_result",
          "data": {
            "text/html": [
              "<div>\n",
              "<style scoped>\n",
              "    .dataframe tbody tr th:only-of-type {\n",
              "        vertical-align: middle;\n",
              "    }\n",
              "\n",
              "    .dataframe tbody tr th {\n",
              "        vertical-align: top;\n",
              "    }\n",
              "\n",
              "    .dataframe thead tr th {\n",
              "        text-align: left;\n",
              "    }\n",
              "\n",
              "    .dataframe thead tr:last-of-type th {\n",
              "        text-align: right;\n",
              "    }\n",
              "</style>\n",
              "<table border=\"1\" class=\"dataframe\">\n",
              "  <thead>\n",
              "    <tr>\n",
              "      <th></th>\n",
              "      <th colspan=\"6\" halign=\"left\">Pricemean</th>\n",
              "    </tr>\n",
              "    <tr>\n",
              "      <th></th>\n",
              "      <th>mean</th>\n",
              "      <th>std</th>\n",
              "      <th>min</th>\n",
              "      <th>median</th>\n",
              "      <th>max</th>\n",
              "      <th>count</th>\n",
              "    </tr>\n",
              "    <tr>\n",
              "      <th>State</th>\n",
              "      <th></th>\n",
              "      <th></th>\n",
              "      <th></th>\n",
              "      <th></th>\n",
              "      <th></th>\n",
              "      <th></th>\n",
              "    </tr>\n",
              "  </thead>\n",
              "  <tbody>\n",
              "    <tr>\n",
              "      <th>Distrito Federal</th>\n",
              "      <td>80.814265</td>\n",
              "      <td>6.008394</td>\n",
              "      <td>72.856429</td>\n",
              "      <td>81.642500</td>\n",
              "      <td>95.500000</td>\n",
              "      <td>96</td>\n",
              "    </tr>\n",
              "    <tr>\n",
              "      <th>Minas Gerais</th>\n",
              "      <td>72.904586</td>\n",
              "      <td>1.795835</td>\n",
              "      <td>67.083000</td>\n",
              "      <td>73.072679</td>\n",
              "      <td>81.747500</td>\n",
              "      <td>5866</td>\n",
              "    </tr>\n",
              "    <tr>\n",
              "      <th>Paraná</th>\n",
              "      <td>75.157556</td>\n",
              "      <td>2.029015</td>\n",
              "      <td>68.966667</td>\n",
              "      <td>75.369000</td>\n",
              "      <td>79.422222</td>\n",
              "      <td>429</td>\n",
              "    </tr>\n",
              "    <tr>\n",
              "      <th>Rio Grande do Sul</th>\n",
              "      <td>71.540786</td>\n",
              "      <td>2.128731</td>\n",
              "      <td>65.393333</td>\n",
              "      <td>71.288889</td>\n",
              "      <td>79.000000</td>\n",
              "      <td>2544</td>\n",
              "    </tr>\n",
              "    <tr>\n",
              "      <th>Sao Paulo</th>\n",
              "      <td>73.928033</td>\n",
              "      <td>5.050188</td>\n",
              "      <td>40.956000</td>\n",
              "      <td>72.878421</td>\n",
              "      <td>95.963333</td>\n",
              "      <td>31721</td>\n",
              "    </tr>\n",
              "  </tbody>\n",
              "</table>\n",
              "</div>"
            ],
            "text/plain": [
              "                   Pricemean                                                  \n",
              "                        mean       std        min     median        max  count\n",
              "State                                                                         \n",
              "Distrito Federal   80.814265  6.008394  72.856429  81.642500  95.500000     96\n",
              "Minas Gerais       72.904586  1.795835  67.083000  73.072679  81.747500   5866\n",
              "Paraná             75.157556  2.029015  68.966667  75.369000  79.422222    429\n",
              "Rio Grande do Sul  71.540786  2.128731  65.393333  71.288889  79.000000   2544\n",
              "Sao Paulo          73.928033  5.050188  40.956000  72.878421  95.963333  31721"
            ]
          },
          "metadata": {
            "tags": []
          },
          "execution_count": 120
        }
      ]
    },
    {
      "cell_type": "markdown",
      "metadata": {
        "id": "vFLaLmzAkUn7"
      },
      "source": [
        "**Conversion** - Estatística descritivas das Listas por estado"
      ]
    },
    {
      "cell_type": "code",
      "metadata": {
        "id": "Nm27b0EahC3c",
        "colab": {
          "base_uri": "https://localhost:8080/"
        },
        "outputId": "46f9dcc5-17c8-451e-903a-b52479083091"
      },
      "source": [
        "# Estatística descritiva por estado (Conversion) por Lista\n",
        "resumo = dflist.groupby('State').agg({'Conversionsum':['mean','std', 'min','median','max','count']})\n",
        "resumo"
      ],
      "execution_count": null,
      "outputs": [
        {
          "output_type": "execute_result",
          "data": {
            "text/html": [
              "<div>\n",
              "<style scoped>\n",
              "    .dataframe tbody tr th:only-of-type {\n",
              "        vertical-align: middle;\n",
              "    }\n",
              "\n",
              "    .dataframe tbody tr th {\n",
              "        vertical-align: top;\n",
              "    }\n",
              "\n",
              "    .dataframe thead tr th {\n",
              "        text-align: left;\n",
              "    }\n",
              "\n",
              "    .dataframe thead tr:last-of-type th {\n",
              "        text-align: right;\n",
              "    }\n",
              "</style>\n",
              "<table border=\"1\" class=\"dataframe\">\n",
              "  <thead>\n",
              "    <tr>\n",
              "      <th></th>\n",
              "      <th colspan=\"6\" halign=\"left\">Conversionsum</th>\n",
              "    </tr>\n",
              "    <tr>\n",
              "      <th></th>\n",
              "      <th>mean</th>\n",
              "      <th>std</th>\n",
              "      <th>min</th>\n",
              "      <th>median</th>\n",
              "      <th>max</th>\n",
              "      <th>count</th>\n",
              "    </tr>\n",
              "    <tr>\n",
              "      <th>State</th>\n",
              "      <th></th>\n",
              "      <th></th>\n",
              "      <th></th>\n",
              "      <th></th>\n",
              "      <th></th>\n",
              "      <th></th>\n",
              "    </tr>\n",
              "  </thead>\n",
              "  <tbody>\n",
              "    <tr>\n",
              "      <th>Distrito Federal</th>\n",
              "      <td>0.062500</td>\n",
              "      <td>0.243332</td>\n",
              "      <td>0</td>\n",
              "      <td>0</td>\n",
              "      <td>1</td>\n",
              "      <td>96</td>\n",
              "    </tr>\n",
              "    <tr>\n",
              "      <th>Minas Gerais</th>\n",
              "      <td>0.042959</td>\n",
              "      <td>0.202783</td>\n",
              "      <td>0</td>\n",
              "      <td>0</td>\n",
              "      <td>1</td>\n",
              "      <td>5866</td>\n",
              "    </tr>\n",
              "    <tr>\n",
              "      <th>Paraná</th>\n",
              "      <td>0.074592</td>\n",
              "      <td>0.263039</td>\n",
              "      <td>0</td>\n",
              "      <td>0</td>\n",
              "      <td>1</td>\n",
              "      <td>429</td>\n",
              "    </tr>\n",
              "    <tr>\n",
              "      <th>Rio Grande do Sul</th>\n",
              "      <td>0.068396</td>\n",
              "      <td>0.252474</td>\n",
              "      <td>0</td>\n",
              "      <td>0</td>\n",
              "      <td>1</td>\n",
              "      <td>2544</td>\n",
              "    </tr>\n",
              "    <tr>\n",
              "      <th>Sao Paulo</th>\n",
              "      <td>0.069323</td>\n",
              "      <td>0.254379</td>\n",
              "      <td>0</td>\n",
              "      <td>0</td>\n",
              "      <td>2</td>\n",
              "      <td>31721</td>\n",
              "    </tr>\n",
              "  </tbody>\n",
              "</table>\n",
              "</div>"
            ],
            "text/plain": [
              "                  Conversionsum                                \n",
              "                           mean       std min median max  count\n",
              "State                                                          \n",
              "Distrito Federal       0.062500  0.243332   0      0   1     96\n",
              "Minas Gerais           0.042959  0.202783   0      0   1   5866\n",
              "Paraná                 0.074592  0.263039   0      0   1    429\n",
              "Rio Grande do Sul      0.068396  0.252474   0      0   1   2544\n",
              "Sao Paulo              0.069323  0.254379   0      0   2  31721"
            ]
          },
          "metadata": {
            "tags": []
          },
          "execution_count": 121
        }
      ]
    },
    {
      "cell_type": "code",
      "metadata": {
        "id": "GjUDoYlIlaNI",
        "colab": {
          "base_uri": "https://localhost:8080/"
        },
        "outputId": "24539ddd-e59b-41ce-ba91-924b82de32f7"
      },
      "source": [
        "dflist.head()"
      ],
      "execution_count": null,
      "outputs": [
        {
          "output_type": "execute_result",
          "data": {
            "application/vnd.google.colaboratory.module+javascript": "\n      import \"https://ssl.gstatic.com/colaboratory/data_table/a6224c040fa35dcf/data_table.js\";\n\n      window.createDataTable({\n        data: [[{\n            'v': 0,\n            'f': \"0\",\n        },\n\"__++NJUeirtx5aLEGXp/83/0gJ7UtC4vhTzoEVtoNOQt4=|1566655431167\",\n\"Sao Paulo\",\n\"24/08/2019\",\n\"Saturday\",\n\"24\",\n\"August\",\n\"14\",\n{\n            'v': 2019,\n            'f': \"2019\",\n        },\n{\n            'v': 0,\n            'f': \"0\",\n        },\n{\n            'v': 72.971,\n            'f': \"72.971\",\n        },\n{\n            'v': 4.730000019073486,\n            'f': \"4.730000019073486\",\n        },\n{\n            'v': 4.5,\n            'f': \"4.5\",\n        }],\n [{\n            'v': 1,\n            'f': \"1\",\n        },\n\"__++T9Zhx4sTzT4q3MVRejipG2RSY+lDK4xHAHCn929ls=|1560379970687\",\n\"Rio Grande do Sul\",\n\"12/06/2019\",\n\"Wednesday\",\n\"12\",\n\"June\",\n\"22\",\n{\n            'v': 2019,\n            'f': \"2019\",\n        },\n{\n            'v': 1,\n            'f': \"1\",\n        },\n{\n            'v': 71.999,\n            'f': \"71.999\",\n        },\n{\n            'v': 4.560000085830689,\n            'f': \"4.560000085830689\",\n        },\n{\n            'v': 4.5,\n            'f': \"4.5\",\n        }],\n [{\n            'v': 2,\n            'f': \"2\",\n        },\n\"__++T9Zhx4sTzT4q3MVRejipG2RSY+lDK4xHAHCn929ls=|1561499545172\",\n\"Rio Grande do Sul\",\n\"25/06/2019\",\n\"Tuesday\",\n\"25\",\n\"June\",\n\"21\",\n{\n            'v': 2019,\n            'f': \"2019\",\n        },\n{\n            'v': 1,\n            'f': \"1\",\n        },\n{\n            'v': 70.066,\n            'f': \"70.066\",\n        },\n{\n            'v': 4.600000047683716,\n            'f': \"4.600000047683716\",\n        },\n{\n            'v': 4.5,\n            'f': \"4.5\",\n        }],\n [{\n            'v': 3,\n            'f': \"3\",\n        },\n\"__++ZUTc6QzI0LR1zqWhO+mrFOdTYTxjtoCx/1u00zGUA=|1562354110445\",\n\"Sao Paulo\",\n\"05/07/2019\",\n\"Friday\",\n\"05\",\n\"July\",\n\"19\",\n{\n            'v': 2019,\n            'f': \"2019\",\n        },\n{\n            'v': 1,\n            'f': \"1\",\n        },\n{\n            'v': 71.43555555555557,\n            'f': \"71.43555555555557\",\n        },\n{\n            'v': 4.499999991169682,\n            'f': \"4.499999991169682\",\n        },\n{\n            'v': 13.0,\n            'f': \"13.0\",\n        }],\n [{\n            'v': 4,\n            'f': \"4\",\n        },\n\"__++c79jNZqUobJxlJ3btmFMU2aiN08U/GsIMl08qWm84=|1561732341947\",\n\"Rio Grande do Sul\",\n\"28/06/2019\",\n\"Friday\",\n\"28\",\n\"June\",\n\"14\",\n{\n            'v': 2019,\n            'f': \"2019\",\n        },\n{\n            'v': 0,\n            'f': \"0\",\n        },\n{\n            'v': 71.65285714285714,\n            'f': \"71.65285714285714\",\n        },\n{\n            'v': 4.585714340209961,\n            'f': \"4.585714340209961\",\n        },\n{\n            'v': 3.0,\n            'f': \"3.0\",\n        }]],\n        columns: [[\"number\", \"index\"], [\"string\", \"SearchId\"], [\"string\", \"State\"], [\"string\", \"date\"], [\"string\", \"dia_da_semana\"], [\"string\", \"dia_mes\"], [\"string\", \"mes\"], [\"string\", \"hora\"], [\"number\", \"ano\"], [\"number\", \"Conversionsum\"], [\"number\", \"Pricemean\"], [\"number\", \"Qualitymean\"], [\"number\", \"Positionmean\"]],\n        columnOptions: [{\"width\": \"1px\", \"className\": \"index_column\"}],\n        rowsPerPage: 25,\n        helpUrl: \"https://colab.research.google.com/notebooks/data_table.ipynb\",\n        suppressOutputScrolling: true,\n        minimumWidth: undefined,\n      });\n    ",
            "text/html": [
              "<div>\n",
              "<style scoped>\n",
              "    .dataframe tbody tr th:only-of-type {\n",
              "        vertical-align: middle;\n",
              "    }\n",
              "\n",
              "    .dataframe tbody tr th {\n",
              "        vertical-align: top;\n",
              "    }\n",
              "\n",
              "    .dataframe thead th {\n",
              "        text-align: right;\n",
              "    }\n",
              "</style>\n",
              "<table border=\"1\" class=\"dataframe\">\n",
              "  <thead>\n",
              "    <tr style=\"text-align: right;\">\n",
              "      <th></th>\n",
              "      <th>SearchId</th>\n",
              "      <th>State</th>\n",
              "      <th>date</th>\n",
              "      <th>dia_da_semana</th>\n",
              "      <th>dia_mes</th>\n",
              "      <th>mes</th>\n",
              "      <th>hora</th>\n",
              "      <th>ano</th>\n",
              "      <th>Conversionsum</th>\n",
              "      <th>Pricemean</th>\n",
              "      <th>Qualitymean</th>\n",
              "      <th>Positionmean</th>\n",
              "    </tr>\n",
              "  </thead>\n",
              "  <tbody>\n",
              "    <tr>\n",
              "      <th>0</th>\n",
              "      <td>__++NJUeirtx5aLEGXp/83/0gJ7UtC4vhTzoEVtoNOQt4=...</td>\n",
              "      <td>Sao Paulo</td>\n",
              "      <td>24/08/2019</td>\n",
              "      <td>Saturday</td>\n",
              "      <td>24</td>\n",
              "      <td>August</td>\n",
              "      <td>14</td>\n",
              "      <td>2019</td>\n",
              "      <td>0</td>\n",
              "      <td>72.971000</td>\n",
              "      <td>4.730000</td>\n",
              "      <td>4.5</td>\n",
              "    </tr>\n",
              "    <tr>\n",
              "      <th>1</th>\n",
              "      <td>__++T9Zhx4sTzT4q3MVRejipG2RSY+lDK4xHAHCn929ls=...</td>\n",
              "      <td>Rio Grande do Sul</td>\n",
              "      <td>12/06/2019</td>\n",
              "      <td>Wednesday</td>\n",
              "      <td>12</td>\n",
              "      <td>June</td>\n",
              "      <td>22</td>\n",
              "      <td>2019</td>\n",
              "      <td>1</td>\n",
              "      <td>71.999000</td>\n",
              "      <td>4.560000</td>\n",
              "      <td>4.5</td>\n",
              "    </tr>\n",
              "    <tr>\n",
              "      <th>2</th>\n",
              "      <td>__++T9Zhx4sTzT4q3MVRejipG2RSY+lDK4xHAHCn929ls=...</td>\n",
              "      <td>Rio Grande do Sul</td>\n",
              "      <td>25/06/2019</td>\n",
              "      <td>Tuesday</td>\n",
              "      <td>25</td>\n",
              "      <td>June</td>\n",
              "      <td>21</td>\n",
              "      <td>2019</td>\n",
              "      <td>1</td>\n",
              "      <td>70.066000</td>\n",
              "      <td>4.600000</td>\n",
              "      <td>4.5</td>\n",
              "    </tr>\n",
              "    <tr>\n",
              "      <th>3</th>\n",
              "      <td>__++ZUTc6QzI0LR1zqWhO+mrFOdTYTxjtoCx/1u00zGUA=...</td>\n",
              "      <td>Sao Paulo</td>\n",
              "      <td>05/07/2019</td>\n",
              "      <td>Friday</td>\n",
              "      <td>05</td>\n",
              "      <td>July</td>\n",
              "      <td>19</td>\n",
              "      <td>2019</td>\n",
              "      <td>1</td>\n",
              "      <td>71.435556</td>\n",
              "      <td>4.500000</td>\n",
              "      <td>13.0</td>\n",
              "    </tr>\n",
              "    <tr>\n",
              "      <th>4</th>\n",
              "      <td>__++c79jNZqUobJxlJ3btmFMU2aiN08U/GsIMl08qWm84=...</td>\n",
              "      <td>Rio Grande do Sul</td>\n",
              "      <td>28/06/2019</td>\n",
              "      <td>Friday</td>\n",
              "      <td>28</td>\n",
              "      <td>June</td>\n",
              "      <td>14</td>\n",
              "      <td>2019</td>\n",
              "      <td>0</td>\n",
              "      <td>71.652857</td>\n",
              "      <td>4.585714</td>\n",
              "      <td>3.0</td>\n",
              "    </tr>\n",
              "  </tbody>\n",
              "</table>\n",
              "</div>"
            ],
            "text/plain": [
              "                                            SearchId  ... Positionmean\n",
              "0  __++NJUeirtx5aLEGXp/83/0gJ7UtC4vhTzoEVtoNOQt4=...  ...          4.5\n",
              "1  __++T9Zhx4sTzT4q3MVRejipG2RSY+lDK4xHAHCn929ls=...  ...          4.5\n",
              "2  __++T9Zhx4sTzT4q3MVRejipG2RSY+lDK4xHAHCn929ls=...  ...          4.5\n",
              "3  __++ZUTc6QzI0LR1zqWhO+mrFOdTYTxjtoCx/1u00zGUA=...  ...         13.0\n",
              "4  __++c79jNZqUobJxlJ3btmFMU2aiN08U/GsIMl08qWm84=...  ...          3.0\n",
              "\n",
              "[5 rows x 12 columns]"
            ]
          },
          "metadata": {
            "tags": []
          },
          "execution_count": 122
        }
      ]
    },
    {
      "cell_type": "markdown",
      "metadata": {
        "id": "XHs1eo2kG-tA"
      },
      "source": [
        "**Analise Temporal**"
      ]
    },
    {
      "cell_type": "code",
      "metadata": {
        "id": "yMQ5nC-omPlB",
        "colab": {
          "base_uri": "https://localhost:8080/"
        },
        "outputId": "ba6bdae8-76b3-4420-d10f-f2f9a2e66b75"
      },
      "source": [
        "dflist.info()"
      ],
      "execution_count": null,
      "outputs": [
        {
          "output_type": "stream",
          "text": [
            "<class 'pandas.core.frame.DataFrame'>\n",
            "Int64Index: 40656 entries, 0 to 40655\n",
            "Data columns (total 12 columns):\n",
            " #   Column         Non-Null Count  Dtype  \n",
            "---  ------         --------------  -----  \n",
            " 0   SearchId       40656 non-null  object \n",
            " 1   State          40656 non-null  object \n",
            " 2   date           40656 non-null  object \n",
            " 3   dia_da_semana  40656 non-null  object \n",
            " 4   dia_mes        40656 non-null  object \n",
            " 5   mes            40656 non-null  object \n",
            " 6   hora           40656 non-null  object \n",
            " 7   ano            40656 non-null  int64  \n",
            " 8   Conversionsum  40656 non-null  int64  \n",
            " 9   Pricemean      40656 non-null  float64\n",
            " 10  Qualitymean    40656 non-null  float64\n",
            " 11  Positionmean   40656 non-null  float64\n",
            "dtypes: float64(3), int64(2), object(7)\n",
            "memory usage: 5.3+ MB\n"
          ],
          "name": "stdout"
        }
      ]
    },
    {
      "cell_type": "markdown",
      "metadata": {
        "id": "QBk054aS0l3M"
      },
      "source": [
        "**Mês** - Distribuições das Listas"
      ]
    },
    {
      "cell_type": "code",
      "metadata": {
        "id": "gdPyvtsSsupV"
      },
      "source": [
        "dflist['date'] = pd.to_datetime(dflist['date'])"
      ],
      "execution_count": null,
      "outputs": []
    },
    {
      "cell_type": "code",
      "metadata": {
        "id": "yIyIwqdmk16u",
        "colab": {
          "base_uri": "https://localhost:8080/"
        },
        "outputId": "026eee56-ecb0-44a2-a722-5a292b720367"
      },
      "source": [
        "plt.figure(figsize=(25,6))\n",
        "sns.countplot(x='mes', data=dflist)\n",
        "plt.show()\n",
        "print(\"Tabela de Dupla entrada - Conversion x Mês\")\n",
        "tab = pd.crosstab(index=[dflist[\"Conversionsum\"]],columns=dflist[\"mes\"],margins=True)\n",
        "print(100*(tab/tab.loc['All']))"
      ],
      "execution_count": null,
      "outputs": [
        {
          "output_type": "display_data",
          "data": {
            "image/png": "[encoded data removed]",
            "text/plain": [
              "<Figure size 1800x432 with 1 Axes>"
            ]
          },
          "metadata": {
            "tags": [],
            "needs_background": "light"
          }
        },
        {
          "output_type": "stream",
          "text": [
            "Tabela de Dupla entrada - Conversion x Mês\n",
            "mes                August        July        June         All\n",
            "Conversionsum                                                \n",
            "0               91.576227   95.296573   94.370247   93.457300\n",
            "1                8.418030    4.687375    5.629753    6.535321\n",
            "2                0.005742    0.016053    0.000000    0.007379\n",
            "All            100.000000  100.000000  100.000000  100.000000\n"
          ],
          "name": "stdout"
        }
      ]
    },
    {
      "cell_type": "markdown",
      "metadata": {
        "id": "zIHFwbLr06xi"
      },
      "source": [
        "**Dia_mês** - Distribuição das Listas"
      ]
    },
    {
      "cell_type": "code",
      "metadata": {
        "id": "1nvZVzgVuvrG",
        "colab": {
          "base_uri": "https://localhost:8080/"
        },
        "outputId": "6c95ddc2-0222-4ce4-b171-04ca72460556"
      },
      "source": [
        "dflist['dia_mes'] = dflist['dia_mes'].astype(int)\n",
        "plt.figure(figsize=(25,6))\n",
        "sns.countplot(x='dia_mes', data=dflist,palette=\"PuBu_d\")\n",
        "plt.show()\n",
        "print(\"Tabela de Dupla entrada - Conversion x Mês\")\n",
        "tab = pd.crosstab(index=[dflist[\"dia_mes\"]],columns=dflist[\"Conversionsum\"],margins=True)\n",
        "print(tab.div(tab[\"All\"], axis=0))"
      ],
      "execution_count": null,
      "outputs": [
        {
          "output_type": "display_data",
          "data": {
            "image/png": "[encoded data removed]",
            "text/plain": [
              "<Figure size 1800x432 with 1 Axes>"
            ]
          },
          "metadata": {
            "tags": [],
            "needs_background": "light"
          }
        },
        {
          "output_type": "stream",
          "text": [
            "Tabela de Dupla entrada - Conversion x Mês\n",
            "Conversionsum         0         1         2  All\n",
            "dia_mes                                         \n",
            "1              0.943734  0.056266  0.000000  1.0\n",
            "2              0.950954  0.049046  0.000000  1.0\n",
            "3              0.947324  0.052676  0.000000  1.0\n",
            "4              0.949628  0.050372  0.000000  1.0\n",
            "5              0.959504  0.040496  0.000000  1.0\n",
            "6              0.951837  0.048163  0.000000  1.0\n",
            "7              0.949824  0.050176  0.000000  1.0\n",
            "8              0.951240  0.048760  0.000000  1.0\n",
            "9              0.966200  0.033800  0.000000  1.0\n",
            "10             0.953339  0.046661  0.000000  1.0\n",
            "11             0.947086  0.052914  0.000000  1.0\n",
            "12             0.918884  0.081116  0.000000  1.0\n",
            "13             0.918523  0.081477  0.000000  1.0\n",
            "14             0.909425  0.090575  0.000000  1.0\n",
            "15             0.909258  0.090742  0.000000  1.0\n",
            "16             0.913964  0.086036  0.000000  1.0\n",
            "17             0.913692  0.086308  0.000000  1.0\n",
            "18             0.923966  0.076034  0.000000  1.0\n",
            "19             0.918710  0.080645  0.000645  1.0\n",
            "20             0.911124  0.088287  0.000589  1.0\n",
            "21             0.922257  0.077743  0.000000  1.0\n",
            "22             0.930018  0.069982  0.000000  1.0\n",
            "23             0.923167  0.076833  0.000000  1.0\n",
            "24             0.925762  0.074238  0.000000  1.0\n",
            "25             0.937534  0.062466  0.000000  1.0\n",
            "26             0.965517  0.034483  0.000000  1.0\n",
            "27             0.957711  0.042289  0.000000  1.0\n",
            "28             0.953380  0.046620  0.000000  1.0\n",
            "29             0.950780  0.049220  0.000000  1.0\n",
            "30             0.962773  0.037227  0.000000  1.0\n",
            "31             0.956322  0.041379  0.002299  1.0\n",
            "All            0.934573  0.065353  0.000074  1.0\n"
          ],
          "name": "stdout"
        }
      ]
    },
    {
      "cell_type": "markdown",
      "metadata": {
        "id": "LrFfucuB4x4n"
      },
      "source": [
        "**Dia_da_semana** - Distribuição das Listas"
      ]
    },
    {
      "cell_type": "code",
      "metadata": {
        "id": "Ti79ZvO947oN",
        "colab": {
          "base_uri": "https://localhost:8080/"
        },
        "outputId": "abc95cf4-c2cb-4c35-f361-5014c3b65b5f"
      },
      "source": [
        "#dflist['dia_mes'] = dflist['dia_mes'].astype(int)\n",
        "plt.figure(figsize=(25,6))\n",
        "sns.countplot(x='dia_da_semana', data=dflist,palette=\"PuBu_d\")\n",
        "plt.show()\n",
        "print(\"Tabela de Dupla entrada - Conversion x dia da Semana\")\n",
        "tab = pd.crosstab(index=[dflist[\"dia_da_semana\"]],columns=dflist[\"Conversionsum\"],margins=True)\n",
        "print(tab.div(tab[\"All\"], axis=0))"
      ],
      "execution_count": null,
      "outputs": [
        {
          "output_type": "display_data",
          "data": {
            "image/png": "[encoded data removed]",
            "text/plain": [
              "<Figure size 1800x432 with 1 Axes>"
            ]
          },
          "metadata": {
            "tags": [],
            "needs_background": "light"
          }
        },
        {
          "output_type": "stream",
          "text": [
            "Tabela de Dupla entrada - Conversion x dia da Semana\n",
            "Conversionsum         0         1         2  All\n",
            "dia_da_semana                                   \n",
            "Friday         0.937004  0.062996  0.000000  1.0\n",
            "Monday         0.933075  0.066741  0.000185  1.0\n",
            "Saturday       0.928513  0.071324  0.000163  1.0\n",
            "Sunday         0.934535  0.065465  0.000000  1.0\n",
            "Thursday       0.937938  0.062062  0.000000  1.0\n",
            "Tuesday        0.933666  0.066334  0.000000  1.0\n",
            "Wednesday      0.937630  0.062196  0.000174  1.0\n",
            "All            0.934573  0.065353  0.000074  1.0\n"
          ],
          "name": "stdout"
        }
      ]
    },
    {
      "cell_type": "markdown",
      "metadata": {
        "id": "-fmqKWzr5UmN"
      },
      "source": [
        "**Hora do dia** - Distribuição das Listas"
      ]
    },
    {
      "cell_type": "code",
      "metadata": {
        "id": "2pC-H2n45c74",
        "colab": {
          "base_uri": "https://localhost:8080/"
        },
        "outputId": "4cd79f1f-4291-4164-9065-9f8d6f6934e6"
      },
      "source": [
        "dflist['hora'] = dflist['hora'].astype(int)\n",
        "plt.figure(figsize=(25,6))\n",
        "sns.countplot(x='hora', data=dflist,palette=\"PuBu_d\")\n",
        "plt.show()\n",
        "print(\"Tabela de Dupla entrada - Conversion x hora\")\n",
        "tab = pd.crosstab(index=[dflist[\"hora\"]],columns=dflist[\"Conversionsum\"],margins=True)\n",
        "print(tab.div(tab[\"All\"], axis=0))"
      ],
      "execution_count": null,
      "outputs": [
        {
          "output_type": "display_data",
          "data": {
            "image/png": "[encoded data removed]",
            "text/plain": [
              "<Figure size 1800x432 with 1 Axes>"
            ]
          },
          "metadata": {
            "tags": [],
            "needs_background": "light"
          }
        },
        {
          "output_type": "stream",
          "text": [
            "Tabela de Dupla entrada - Conversion x hora\n",
            "Conversionsum         0         1         2  All\n",
            "hora                                            \n",
            "0              0.952721  0.047279  0.000000  1.0\n",
            "1              0.982990  0.017010  0.000000  1.0\n",
            "2              0.982301  0.017699  0.000000  1.0\n",
            "3              1.000000  0.000000  0.000000  1.0\n",
            "4              1.000000  0.000000  0.000000  1.0\n",
            "5              1.000000  0.000000  0.000000  1.0\n",
            "6              1.000000  0.000000  0.000000  1.0\n",
            "7              0.983871  0.016129  0.000000  1.0\n",
            "8              1.000000  0.000000  0.000000  1.0\n",
            "9              0.988462  0.011538  0.000000  1.0\n",
            "10             0.954023  0.045977  0.000000  1.0\n",
            "11             0.950992  0.049008  0.000000  1.0\n",
            "12             0.945794  0.054206  0.000000  1.0\n",
            "13             0.938817  0.061183  0.000000  1.0\n",
            "14             0.925000  0.075000  0.000000  1.0\n",
            "15             0.909622  0.090378  0.000000  1.0\n",
            "16             0.919519  0.080105  0.000376  1.0\n",
            "17             0.937704  0.062296  0.000000  1.0\n",
            "18             0.939241  0.060759  0.000000  1.0\n",
            "19             0.933871  0.066129  0.000000  1.0\n",
            "20             0.917710  0.082290  0.000000  1.0\n",
            "21             0.913811  0.085835  0.000353  1.0\n",
            "22             0.921976  0.078024  0.000000  1.0\n",
            "23             0.929183  0.070428  0.000389  1.0\n",
            "All            0.934573  0.065353  0.000074  1.0\n"
          ],
          "name": "stdout"
        }
      ]
    },
    {
      "cell_type": "markdown",
      "metadata": {
        "id": "4BVAarTA6cp6"
      },
      "source": [
        "Transformação Binarias das variáveis:\n",
        "\n",
        "- dia_da_semana\n",
        "- dia_mes\n",
        "- hora"
      ]
    },
    {
      "cell_type": "code",
      "metadata": {
        "id": "JDoJl9kj6pGy"
      },
      "source": [
        "dft = pd.get_dummies(dft, columns = ['dia_da_semana','dia_mes','hora'])"
      ],
      "execution_count": null,
      "outputs": []
    },
    {
      "cell_type": "code",
      "metadata": {
        "id": "WDI-bSzN64OU",
        "colab": {
          "base_uri": "https://localhost:8080/"
        },
        "outputId": "20ca50ee-cd5e-45b7-bae2-2328a01616a5"
      },
      "source": [
        "dft.info()"
      ],
      "execution_count": null,
      "outputs": [
        {
          "output_type": "stream",
          "text": [
            "<class 'geopandas.geodataframe.GeoDataFrame'>\n",
            "Int64Index: 615162 entries, 0 to 615931\n",
            "Data columns (total 94 columns):\n",
            " #   Column                                     Non-Null Count   Dtype              \n",
            "---  ------                                     --------------   -----              \n",
            " 0   DealerId                                   615162 non-null  object             \n",
            " 1   Conversion                                 615162 non-null  int64              \n",
            " 2   deviceid                                   615162 non-null  object             \n",
            " 3   EventTimestamp                             615162 non-null  datetime64[ns, UTC]\n",
            " 4   DealerOpened                               615162 non-null  bool               \n",
            " 5   Position                                   615162 non-null  int64              \n",
            " 6   Quality                                    615162 non-null  float64            \n",
            " 7   Price                                      615162 non-null  float64            \n",
            " 8   SearchId                                   615162 non-null  object             \n",
            " 9   geometry                                   615162 non-null  geometry           \n",
            " 10  State                                      615162 non-null  object             \n",
            " 11  City                                       615162 non-null  object             \n",
            " 12  date                                       615162 non-null  object             \n",
            " 13  mes                                        615162 non-null  object             \n",
            " 14  ano                                        615162 non-null  int64              \n",
            " 15  DealerETAGroup_10-15                       615162 non-null  uint8              \n",
            " 16  DealerETAGroup_15-30                       615162 non-null  uint8              \n",
            " 17  DealerETAGroup_30-45                       615162 non-null  uint8              \n",
            " 18  DealerETAGroup_45-60                       615162 non-null  uint8              \n",
            " 19  Distributor_CONSIGAZ                       615162 non-null  uint8              \n",
            " 20  Distributor_COPAGAZ                        615162 non-null  uint8              \n",
            " 21  Distributor_LIQUIGAS                       615162 non-null  uint8              \n",
            " 22  Distributor_MULTIMARCAS                    615162 non-null  uint8              \n",
            " 23  Distributor_NACIONALGAS                    615162 non-null  uint8              \n",
            " 24  Distributor_SUPERGASBRAS                   615162 non-null  uint8              \n",
            " 25  Distributor_ULTRAGAZ                       615162 non-null  uint8              \n",
            " 26  RecommendationType_BestDeal                615162 non-null  uint8              \n",
            " 27  RecommendationType_BestDeal,MobileDealer   615162 non-null  uint8              \n",
            " 28  RecommendationType_BestPrice               615162 non-null  uint8              \n",
            " 29  RecommendationType_BestPrice,MobileDealer  615162 non-null  uint8              \n",
            " 30  RecommendationType_MobileDealer            615162 non-null  uint8              \n",
            " 31  RecommendationType_N/A                     615162 non-null  uint8              \n",
            " 32  dia_da_semana_Friday                       615162 non-null  uint8              \n",
            " 33  dia_da_semana_Monday                       615162 non-null  uint8              \n",
            " 34  dia_da_semana_Saturday                     615162 non-null  uint8              \n",
            " 35  dia_da_semana_Sunday                       615162 non-null  uint8              \n",
            " 36  dia_da_semana_Thursday                     615162 non-null  uint8              \n",
            " 37  dia_da_semana_Tuesday                      615162 non-null  uint8              \n",
            " 38  dia_da_semana_Wednesday                    615162 non-null  uint8              \n",
            " 39  dia_mes_01                                 615162 non-null  uint8              \n",
            " 40  dia_mes_02                                 615162 non-null  uint8              \n",
            " 41  dia_mes_03                                 615162 non-null  uint8              \n",
            " 42  dia_mes_04                                 615162 non-null  uint8              \n",
            " 43  dia_mes_05                                 615162 non-null  uint8              \n",
            " 44  dia_mes_06                                 615162 non-null  uint8              \n",
            " 45  dia_mes_07                                 615162 non-null  uint8              \n",
            " 46  dia_mes_08                                 615162 non-null  uint8              \n",
            " 47  dia_mes_09                                 615162 non-null  uint8              \n",
            " 48  dia_mes_10                                 615162 non-null  uint8              \n",
            " 49  dia_mes_11                                 615162 non-null  uint8              \n",
            " 50  dia_mes_12                                 615162 non-null  uint8              \n",
            " 51  dia_mes_13                                 615162 non-null  uint8              \n",
            " 52  dia_mes_14                                 615162 non-null  uint8              \n",
            " 53  dia_mes_15                                 615162 non-null  uint8              \n",
            " 54  dia_mes_16                                 615162 non-null  uint8              \n",
            " 55  dia_mes_17                                 615162 non-null  uint8              \n",
            " 56  dia_mes_18                                 615162 non-null  uint8              \n",
            " 57  dia_mes_19                                 615162 non-null  uint8              \n",
            " 58  dia_mes_20                                 615162 non-null  uint8              \n",
            " 59  dia_mes_21                                 615162 non-null  uint8              \n",
            " 60  dia_mes_22                                 615162 non-null  uint8              \n",
            " 61  dia_mes_23                                 615162 non-null  uint8              \n",
            " 62  dia_mes_24                                 615162 non-null  uint8              \n",
            " 63  dia_mes_25                                 615162 non-null  uint8              \n",
            " 64  dia_mes_26                                 615162 non-null  uint8              \n",
            " 65  dia_mes_27                                 615162 non-null  uint8              \n",
            " 66  dia_mes_28                                 615162 non-null  uint8              \n",
            " 67  dia_mes_29                                 615162 non-null  uint8              \n",
            " 68  dia_mes_30                                 615162 non-null  uint8              \n",
            " 69  dia_mes_31                                 615162 non-null  uint8              \n",
            " 70  hora_00                                    615162 non-null  uint8              \n",
            " 71  hora_01                                    615162 non-null  uint8              \n",
            " 72  hora_02                                    615162 non-null  uint8              \n",
            " 73  hora_03                                    615162 non-null  uint8              \n",
            " 74  hora_04                                    615162 non-null  uint8              \n",
            " 75  hora_05                                    615162 non-null  uint8              \n",
            " 76  hora_06                                    615162 non-null  uint8              \n",
            " 77  hora_07                                    615162 non-null  uint8              \n",
            " 78  hora_08                                    615162 non-null  uint8              \n",
            " 79  hora_09                                    615162 non-null  uint8              \n",
            " 80  hora_10                                    615162 non-null  uint8              \n",
            " 81  hora_11                                    615162 non-null  uint8              \n",
            " 82  hora_12                                    615162 non-null  uint8              \n",
            " 83  hora_13                                    615162 non-null  uint8              \n",
            " 84  hora_14                                    615162 non-null  uint8              \n",
            " 85  hora_15                                    615162 non-null  uint8              \n",
            " 86  hora_16                                    615162 non-null  uint8              \n",
            " 87  hora_17                                    615162 non-null  uint8              \n",
            " 88  hora_18                                    615162 non-null  uint8              \n",
            " 89  hora_19                                    615162 non-null  uint8              \n",
            " 90  hora_20                                    615162 non-null  uint8              \n",
            " 91  hora_21                                    615162 non-null  uint8              \n",
            " 92  hora_22                                    615162 non-null  uint8              \n",
            " 93  hora_23                                    615162 non-null  uint8              \n",
            "dtypes: bool(1), datetime64[ns, UTC](1), float64(2), geometry(1), int64(3), object(7), uint8(79)\n",
            "memory usage: 137.3+ MB\n"
          ],
          "name": "stdout"
        }
      ]
    },
    {
      "cell_type": "markdown",
      "metadata": {
        "id": "NkSLd8gx7UGE"
      },
      "source": [
        "# Preparação dos dados para Modelo\n",
        "\n",
        "Ao analisar as listas, nota-se que em uma lista poderá haver uma única conversão. Assim, a base de estudo para avaliar os fatores que influenciam a conversão das vendas, será a partir da tabela agrupada por lista."
      ]
    },
    {
      "cell_type": "markdown",
      "metadata": {
        "id": "8a-Hq0on8zVS"
      },
      "source": [
        "## Seleção Estado de São Paulo"
      ]
    },
    {
      "cell_type": "code",
      "metadata": {
        "id": "8ZcLYl1dIg1x"
      },
      "source": [
        "# Selecionando apenas as listas de usuários do Estado de São Paulo\n",
        "\n",
        "dft =  dft[dft['State']=='Sao Paulo']"
      ],
      "execution_count": null,
      "outputs": []
    },
    {
      "cell_type": "markdown",
      "metadata": {
        "id": "mzWCpzh3w0ps"
      },
      "source": [
        "### Agrupando o DataFrame por Lista"
      ]
    },
    {
      "cell_type": "code",
      "metadata": {
        "id": "hb5jxJYZVAvk"
      },
      "source": [
        "# Criando o preco de conversão apenas na linhas com Conversion = 1\n",
        "\n",
        "def conv(dft):\n",
        "    conv = dft['Conversion']  \n",
        "    if conv == 1: return dft[\"Price\"]\n",
        "    return 0\n",
        "dft['Price_conv'] = dft.apply(conv, axis=1)\n"
      ],
      "execution_count": null,
      "outputs": []
    },
    {
      "cell_type": "code",
      "metadata": {
        "id": "gA8Ttljvcmdf"
      },
      "source": [
        "# Criando o quality de conversão apenas na linhas com Conversion = 1\n",
        "\n",
        "def conv(dft):\n",
        "    conv = dft['Conversion']  \n",
        "    if conv == 1: return dft[\"Quality\"]\n",
        "    return 0\n",
        "dft['Quality_conv'] = dft.apply(conv, axis=1)\n"
      ],
      "execution_count": null,
      "outputs": []
    },
    {
      "cell_type": "code",
      "metadata": {
        "id": "zgAqO0uR9ATp"
      },
      "source": [
        "# Visualiando todo o conjunto de dados \n",
        "\n",
        "pd.set_option('display.max_columns', len(dft.columns)) # Exibinndo todas as colunas do dft\n",
        "pd.set_option('display.max_rows', 100)\n",
        "dft.head(5)"
      ],
      "execution_count": null,
      "outputs": []
    },
    {
      "cell_type": "code",
      "metadata": {
        "id": "ENSmWAnUHeXH"
      },
      "source": [
        "# Criando uma tabela auxiliar das Listas\n",
        "\n",
        "dfmod1= dft.groupby(['SearchId'], as_index=False)\n",
        "dfmod1= dfmod1.agg(n_rev = (\"DealerId\",'count'),\n",
        "                  target_conv=('Conversion',max),\n",
        "                  preco_conv =('Price_conv','max'),\n",
        "                  preco_medio=('Price','mean'),\n",
        "                  amplitude_preco=('Price', lambda x: max(x)-min(x)),\n",
        "                  quality_conv =('Quality_conv','max'),\n",
        "                  quality_medio=('Quality','mean'),\n",
        "                  amplitude_quality=('Quality', lambda x: max(x)-min(x)),\n",
        "                  mean_DealerETAGroup_10_15=('DealerETAGroup_10-15','mean'),\n",
        "                  mean_DealerETAGroup_15_30=('DealerETAGroup_15-30','mean'),\n",
        "                  mean_DealerETAGroup_30_45=('DealerETAGroup_30-45','mean'),\n",
        "                  mean_DealerETAGroup_45_60=('DealerETAGroup_45-60','mean'), \n",
        "                  mean_CONSIGAZ =('Distributor_CONSIGAZ','mean'), \n",
        "\t\t\t\t          mean_COPAGAZ =('Distributor_COPAGAZ','mean'),\n",
        "\t\t\t\t          mean_LIQUIGAS =('Distributor_LIQUIGAS','mean'),\n",
        "\t\t\t\t          mean_MULTIMARCAS =('Distributor_MULTIMARCAS','mean'),\n",
        "                  mean_NACIONALGAS =('Distributor_NACIONALGAS','mean'),\n",
        "                  mean_SUPERGASBRAS=('Distributor_SUPERGASBRAS','mean'),\n",
        "                  mean_ULTRAGAZ=('Distributor_ULTRAGAZ','mean'),\n",
        "                  mean_BestDeal=('RecommendationType_BestDeal','mean'),\n",
        "                  mean_BestPrice=('RecommendationType_BestPrice','mean'),\n",
        "                  mean_BestPrice_MobileDealer=('RecommendationType_BestPrice,MobileDealer','mean'),\n",
        "                  mean_MobileDealer =('RecommendationType_MobileDealer','mean'),\n",
        "                  mean_N_A =('RecommendationType_N/A','mean'),\n",
        "\t\t\t\t  )\n",
        "dfmod1.columns = list(map(''.join, dfmod1.columns.values))"
      ],
      "execution_count": null,
      "outputs": []
    },
    {
      "cell_type": "code",
      "metadata": {
        "colab": {
          "base_uri": "https://localhost:8080/"
        },
        "id": "NKm7JawgbIKV",
        "outputId": "bb7d1416-b949-4d22-f32d-3892c3529fca"
      },
      "source": [
        "dfmod1.info()"
      ],
      "execution_count": null,
      "outputs": [
        {
          "output_type": "stream",
          "text": [
            "<class 'pandas.core.frame.DataFrame'>\n",
            "Int64Index: 31720 entries, 0 to 31719\n",
            "Data columns (total 25 columns):\n",
            " #   Column                       Non-Null Count  Dtype  \n",
            "---  ------                       --------------  -----  \n",
            " 0   SearchId                     31720 non-null  object \n",
            " 1   n_rev                        31720 non-null  int64  \n",
            " 2   target_conv                  31720 non-null  int64  \n",
            " 3   preco_conv                   31720 non-null  float64\n",
            " 4   preco_medio                  31720 non-null  float64\n",
            " 5   amplitude_preco              31720 non-null  float64\n",
            " 6   quality_conv                 31720 non-null  float64\n",
            " 7   quality_medio                31720 non-null  float64\n",
            " 8   amplitude_quality            31720 non-null  float64\n",
            " 9   mean_DealerETAGroup_10_15    31720 non-null  float64\n",
            " 10  mean_DealerETAGroup_15_30    31720 non-null  float64\n",
            " 11  mean_DealerETAGroup_30_45    31720 non-null  float64\n",
            " 12  mean_DealerETAGroup_45_60    31720 non-null  float64\n",
            " 13  mean_CONSIGAZ                31720 non-null  float64\n",
            " 14  mean_COPAGAZ                 31720 non-null  float64\n",
            " 15  mean_LIQUIGAS                31720 non-null  float64\n",
            " 16  mean_MULTIMARCAS             31720 non-null  float64\n",
            " 17  mean_NACIONALGAS             31720 non-null  float64\n",
            " 18  mean_SUPERGASBRAS            31720 non-null  float64\n",
            " 19  mean_ULTRAGAZ                31720 non-null  float64\n",
            " 20  mean_BestDeal                31720 non-null  float64\n",
            " 21  mean_BestPrice               31720 non-null  float64\n",
            " 22  mean_BestPrice_MobileDealer  31720 non-null  float64\n",
            " 23  mean_MobileDealer            31720 non-null  float64\n",
            " 24  mean_N_A                     31720 non-null  float64\n",
            "dtypes: float64(22), int64(2), object(1)\n",
            "memory usage: 6.3+ MB\n"
          ],
          "name": "stdout"
        }
      ]
    },
    {
      "cell_type": "code",
      "metadata": {
        "id": "4H8Zv7JD63wp",
        "colab": {
          "base_uri": "https://localhost:8080/",
          "height": 226
        },
        "outputId": "b0f93a24-27c1-4de9-85bf-42bcda81b4f5"
      },
      "source": [
        "dfmod1.head(5)"
      ],
      "execution_count": null,
      "outputs": [
        {
          "output_type": "execute_result",
          "data": {
            "text/html": [
              "<div>\n",
              "<style scoped>\n",
              "    .dataframe tbody tr th:only-of-type {\n",
              "        vertical-align: middle;\n",
              "    }\n",
              "\n",
              "    .dataframe tbody tr th {\n",
              "        vertical-align: top;\n",
              "    }\n",
              "\n",
              "    .dataframe thead th {\n",
              "        text-align: right;\n",
              "    }\n",
              "</style>\n",
              "<table border=\"1\" class=\"dataframe\">\n",
              "  <thead>\n",
              "    <tr style=\"text-align: right;\">\n",
              "      <th></th>\n",
              "      <th>SearchId</th>\n",
              "      <th>n_rev</th>\n",
              "      <th>target_conv</th>\n",
              "      <th>preco_conv</th>\n",
              "      <th>preco_medio</th>\n",
              "      <th>amplitude_preco</th>\n",
              "      <th>quality_conv</th>\n",
              "      <th>quality_medio</th>\n",
              "      <th>amplitude_quality</th>\n",
              "      <th>mean_DealerETAGroup_10_15</th>\n",
              "      <th>mean_DealerETAGroup_15_30</th>\n",
              "      <th>mean_DealerETAGroup_30_45</th>\n",
              "      <th>mean_DealerETAGroup_45_60</th>\n",
              "      <th>mean_CONSIGAZ</th>\n",
              "      <th>mean_COPAGAZ</th>\n",
              "      <th>mean_LIQUIGAS</th>\n",
              "      <th>mean_MULTIMARCAS</th>\n",
              "      <th>mean_NACIONALGAS</th>\n",
              "      <th>mean_SUPERGASBRAS</th>\n",
              "      <th>mean_ULTRAGAZ</th>\n",
              "      <th>mean_BestDeal</th>\n",
              "      <th>mean_BestPrice</th>\n",
              "      <th>mean_BestPrice_MobileDealer</th>\n",
              "      <th>mean_MobileDealer</th>\n",
              "      <th>mean_N_A</th>\n",
              "    </tr>\n",
              "  </thead>\n",
              "  <tbody>\n",
              "    <tr>\n",
              "      <th>0</th>\n",
              "      <td>__++NJUeirtx5aLEGXp/83/0gJ7UtC4vhTzoEVtoNOQt4=...</td>\n",
              "      <td>10</td>\n",
              "      <td>0</td>\n",
              "      <td>0.00</td>\n",
              "      <td>72.971000</td>\n",
              "      <td>11.00</td>\n",
              "      <td>0.0</td>\n",
              "      <td>4.730000</td>\n",
              "      <td>0.8</td>\n",
              "      <td>0.0</td>\n",
              "      <td>0.700000</td>\n",
              "      <td>0.200000</td>\n",
              "      <td>0.100000</td>\n",
              "      <td>0.100000</td>\n",
              "      <td>0.300000</td>\n",
              "      <td>0.000000</td>\n",
              "      <td>0.500000</td>\n",
              "      <td>0.100000</td>\n",
              "      <td>0.000000</td>\n",
              "      <td>0.000000</td>\n",
              "      <td>0.0</td>\n",
              "      <td>0.1</td>\n",
              "      <td>0.0</td>\n",
              "      <td>0.0</td>\n",
              "      <td>0.9</td>\n",
              "    </tr>\n",
              "    <tr>\n",
              "      <th>1</th>\n",
              "      <td>__++ZUTc6QzI0LR1zqWhO+mrFOdTYTxjtoCx/1u00zGUA=...</td>\n",
              "      <td>27</td>\n",
              "      <td>1</td>\n",
              "      <td>68.99</td>\n",
              "      <td>71.435556</td>\n",
              "      <td>33.04</td>\n",
              "      <td>4.9</td>\n",
              "      <td>4.500000</td>\n",
              "      <td>1.1</td>\n",
              "      <td>0.0</td>\n",
              "      <td>0.740741</td>\n",
              "      <td>0.148148</td>\n",
              "      <td>0.111111</td>\n",
              "      <td>0.074074</td>\n",
              "      <td>0.259259</td>\n",
              "      <td>0.000000</td>\n",
              "      <td>0.185185</td>\n",
              "      <td>0.148148</td>\n",
              "      <td>0.259259</td>\n",
              "      <td>0.074074</td>\n",
              "      <td>0.0</td>\n",
              "      <td>0.0</td>\n",
              "      <td>0.0</td>\n",
              "      <td>0.0</td>\n",
              "      <td>1.0</td>\n",
              "    </tr>\n",
              "    <tr>\n",
              "      <th>2</th>\n",
              "      <td>__++kJuOA+ktfbXUW2euQ1MkVYonxeDlTvCvttgovjZ/E=...</td>\n",
              "      <td>24</td>\n",
              "      <td>0</td>\n",
              "      <td>0.00</td>\n",
              "      <td>81.125000</td>\n",
              "      <td>15.00</td>\n",
              "      <td>0.0</td>\n",
              "      <td>4.679167</td>\n",
              "      <td>0.8</td>\n",
              "      <td>0.0</td>\n",
              "      <td>0.916667</td>\n",
              "      <td>0.083333</td>\n",
              "      <td>0.000000</td>\n",
              "      <td>0.083333</td>\n",
              "      <td>0.125000</td>\n",
              "      <td>0.291667</td>\n",
              "      <td>0.333333</td>\n",
              "      <td>0.125000</td>\n",
              "      <td>0.041667</td>\n",
              "      <td>0.000000</td>\n",
              "      <td>0.0</td>\n",
              "      <td>0.0</td>\n",
              "      <td>0.0</td>\n",
              "      <td>0.0</td>\n",
              "      <td>1.0</td>\n",
              "    </tr>\n",
              "    <tr>\n",
              "      <th>3</th>\n",
              "      <td>__++wGwPFMCSdOO8U5whAyOZEoN46SS0w52BwRfjQsLoo=...</td>\n",
              "      <td>9</td>\n",
              "      <td>0</td>\n",
              "      <td>0.00</td>\n",
              "      <td>70.652222</td>\n",
              "      <td>12.02</td>\n",
              "      <td>0.0</td>\n",
              "      <td>4.400000</td>\n",
              "      <td>0.6</td>\n",
              "      <td>0.0</td>\n",
              "      <td>0.222222</td>\n",
              "      <td>0.444444</td>\n",
              "      <td>0.333333</td>\n",
              "      <td>0.111111</td>\n",
              "      <td>0.000000</td>\n",
              "      <td>0.222222</td>\n",
              "      <td>0.555556</td>\n",
              "      <td>0.000000</td>\n",
              "      <td>0.000000</td>\n",
              "      <td>0.111111</td>\n",
              "      <td>0.0</td>\n",
              "      <td>0.0</td>\n",
              "      <td>0.0</td>\n",
              "      <td>0.0</td>\n",
              "      <td>1.0</td>\n",
              "    </tr>\n",
              "    <tr>\n",
              "      <th>4</th>\n",
              "      <td>__+/3dXRoLW1JN1lMs0BhoswWixEFOypduoVk56RdPM7o=...</td>\n",
              "      <td>12</td>\n",
              "      <td>0</td>\n",
              "      <td>0.00</td>\n",
              "      <td>69.815000</td>\n",
              "      <td>11.03</td>\n",
              "      <td>0.0</td>\n",
              "      <td>4.466667</td>\n",
              "      <td>0.6</td>\n",
              "      <td>0.0</td>\n",
              "      <td>0.583333</td>\n",
              "      <td>0.083333</td>\n",
              "      <td>0.333333</td>\n",
              "      <td>0.166667</td>\n",
              "      <td>0.000000</td>\n",
              "      <td>0.250000</td>\n",
              "      <td>0.416667</td>\n",
              "      <td>0.083333</td>\n",
              "      <td>0.000000</td>\n",
              "      <td>0.083333</td>\n",
              "      <td>0.0</td>\n",
              "      <td>0.0</td>\n",
              "      <td>0.0</td>\n",
              "      <td>0.0</td>\n",
              "      <td>1.0</td>\n",
              "    </tr>\n",
              "  </tbody>\n",
              "</table>\n",
              "</div>"
            ],
            "text/plain": [
              "                                            SearchId  n_rev  target_conv  \\\n",
              "0  __++NJUeirtx5aLEGXp/83/0gJ7UtC4vhTzoEVtoNOQt4=...     10            0   \n",
              "1  __++ZUTc6QzI0LR1zqWhO+mrFOdTYTxjtoCx/1u00zGUA=...     27            1   \n",
              "2  __++kJuOA+ktfbXUW2euQ1MkVYonxeDlTvCvttgovjZ/E=...     24            0   \n",
              "3  __++wGwPFMCSdOO8U5whAyOZEoN46SS0w52BwRfjQsLoo=...      9            0   \n",
              "4  __+/3dXRoLW1JN1lMs0BhoswWixEFOypduoVk56RdPM7o=...     12            0   \n",
              "\n",
              "   preco_conv  preco_medio  amplitude_preco  quality_conv  quality_medio  \\\n",
              "0        0.00    72.971000            11.00           0.0       4.730000   \n",
              "1       68.99    71.435556            33.04           4.9       4.500000   \n",
              "2        0.00    81.125000            15.00           0.0       4.679167   \n",
              "3        0.00    70.652222            12.02           0.0       4.400000   \n",
              "4        0.00    69.815000            11.03           0.0       4.466667   \n",
              "\n",
              "   amplitude_quality  mean_DealerETAGroup_10_15  mean_DealerETAGroup_15_30  \\\n",
              "0                0.8                        0.0                   0.700000   \n",
              "1                1.1                        0.0                   0.740741   \n",
              "2                0.8                        0.0                   0.916667   \n",
              "3                0.6                        0.0                   0.222222   \n",
              "4                0.6                        0.0                   0.583333   \n",
              "\n",
              "   mean_DealerETAGroup_30_45  mean_DealerETAGroup_45_60  mean_CONSIGAZ  \\\n",
              "0                   0.200000                   0.100000       0.100000   \n",
              "1                   0.148148                   0.111111       0.074074   \n",
              "2                   0.083333                   0.000000       0.083333   \n",
              "3                   0.444444                   0.333333       0.111111   \n",
              "4                   0.083333                   0.333333       0.166667   \n",
              "\n",
              "   mean_COPAGAZ  mean_LIQUIGAS  mean_MULTIMARCAS  mean_NACIONALGAS  \\\n",
              "0      0.300000       0.000000          0.500000          0.100000   \n",
              "1      0.259259       0.000000          0.185185          0.148148   \n",
              "2      0.125000       0.291667          0.333333          0.125000   \n",
              "3      0.000000       0.222222          0.555556          0.000000   \n",
              "4      0.000000       0.250000          0.416667          0.083333   \n",
              "\n",
              "   mean_SUPERGASBRAS  mean_ULTRAGAZ  mean_BestDeal  mean_BestPrice  \\\n",
              "0           0.000000       0.000000            0.0             0.1   \n",
              "1           0.259259       0.074074            0.0             0.0   \n",
              "2           0.041667       0.000000            0.0             0.0   \n",
              "3           0.000000       0.111111            0.0             0.0   \n",
              "4           0.000000       0.083333            0.0             0.0   \n",
              "\n",
              "   mean_BestPrice_MobileDealer  mean_MobileDealer  mean_N_A  \n",
              "0                          0.0                0.0       0.9  \n",
              "1                          0.0                0.0       1.0  \n",
              "2                          0.0                0.0       1.0  \n",
              "3                          0.0                0.0       1.0  \n",
              "4                          0.0                0.0       1.0  "
            ]
          },
          "metadata": {
            "tags": []
          },
          "execution_count": 230
        }
      ]
    },
    {
      "cell_type": "code",
      "metadata": {
        "colab": {
          "base_uri": "https://localhost:8080/"
        },
        "id": "6i_mAapANLIq",
        "outputId": "f6cddc07-d310-430f-b919-c14c8160fa9f"
      },
      "source": [
        "dft.info()"
      ],
      "execution_count": null,
      "outputs": [
        {
          "output_type": "stream",
          "text": [
            "<class 'geopandas.geodataframe.GeoDataFrame'>\n",
            "Int64Index: 507514 entries, 0 to 615931\n",
            "Data columns (total 96 columns):\n",
            " #   Column                                     Non-Null Count   Dtype              \n",
            "---  ------                                     --------------   -----              \n",
            " 0   DealerId                                   507514 non-null  object             \n",
            " 1   Conversion                                 507514 non-null  int64              \n",
            " 2   deviceid                                   507514 non-null  object             \n",
            " 3   EventTimestamp                             507514 non-null  datetime64[ns, UTC]\n",
            " 4   DealerOpened                               507514 non-null  bool               \n",
            " 5   Position                                   507514 non-null  int64              \n",
            " 6   Quality                                    507514 non-null  float64            \n",
            " 7   Price                                      507514 non-null  float64            \n",
            " 8   SearchId                                   507514 non-null  object             \n",
            " 9   geometry                                   507514 non-null  geometry           \n",
            " 10  State                                      507514 non-null  object             \n",
            " 11  City                                       507514 non-null  object             \n",
            " 12  date                                       507514 non-null  object             \n",
            " 13  mes                                        507514 non-null  object             \n",
            " 14  ano                                        507514 non-null  int64              \n",
            " 15  DealerETAGroup_10-15                       507514 non-null  uint8              \n",
            " 16  DealerETAGroup_15-30                       507514 non-null  uint8              \n",
            " 17  DealerETAGroup_30-45                       507514 non-null  uint8              \n",
            " 18  DealerETAGroup_45-60                       507514 non-null  uint8              \n",
            " 19  Distributor_CONSIGAZ                       507514 non-null  uint8              \n",
            " 20  Distributor_COPAGAZ                        507514 non-null  uint8              \n",
            " 21  Distributor_LIQUIGAS                       507514 non-null  uint8              \n",
            " 22  Distributor_MULTIMARCAS                    507514 non-null  uint8              \n",
            " 23  Distributor_NACIONALGAS                    507514 non-null  uint8              \n",
            " 24  Distributor_SUPERGASBRAS                   507514 non-null  uint8              \n",
            " 25  Distributor_ULTRAGAZ                       507514 non-null  uint8              \n",
            " 26  RecommendationType_BestDeal                507514 non-null  uint8              \n",
            " 27  RecommendationType_BestDeal,MobileDealer   507514 non-null  uint8              \n",
            " 28  RecommendationType_BestPrice               507514 non-null  uint8              \n",
            " 29  RecommendationType_BestPrice,MobileDealer  507514 non-null  uint8              \n",
            " 30  RecommendationType_MobileDealer            507514 non-null  uint8              \n",
            " 31  RecommendationType_N/A                     507514 non-null  uint8              \n",
            " 32  dia_da_semana_Friday                       507514 non-null  uint8              \n",
            " 33  dia_da_semana_Monday                       507514 non-null  uint8              \n",
            " 34  dia_da_semana_Saturday                     507514 non-null  uint8              \n",
            " 35  dia_da_semana_Sunday                       507514 non-null  uint8              \n",
            " 36  dia_da_semana_Thursday                     507514 non-null  uint8              \n",
            " 37  dia_da_semana_Tuesday                      507514 non-null  uint8              \n",
            " 38  dia_da_semana_Wednesday                    507514 non-null  uint8              \n",
            " 39  dia_mes_01                                 507514 non-null  uint8              \n",
            " 40  dia_mes_02                                 507514 non-null  uint8              \n",
            " 41  dia_mes_03                                 507514 non-null  uint8              \n",
            " 42  dia_mes_04                                 507514 non-null  uint8              \n",
            " 43  dia_mes_05                                 507514 non-null  uint8              \n",
            " 44  dia_mes_06                                 507514 non-null  uint8              \n",
            " 45  dia_mes_07                                 507514 non-null  uint8              \n",
            " 46  dia_mes_08                                 507514 non-null  uint8              \n",
            " 47  dia_mes_09                                 507514 non-null  uint8              \n",
            " 48  dia_mes_10                                 507514 non-null  uint8              \n",
            " 49  dia_mes_11                                 507514 non-null  uint8              \n",
            " 50  dia_mes_12                                 507514 non-null  uint8              \n",
            " 51  dia_mes_13                                 507514 non-null  uint8              \n",
            " 52  dia_mes_14                                 507514 non-null  uint8              \n",
            " 53  dia_mes_15                                 507514 non-null  uint8              \n",
            " 54  dia_mes_16                                 507514 non-null  uint8              \n",
            " 55  dia_mes_17                                 507514 non-null  uint8              \n",
            " 56  dia_mes_18                                 507514 non-null  uint8              \n",
            " 57  dia_mes_19                                 507514 non-null  uint8              \n",
            " 58  dia_mes_20                                 507514 non-null  uint8              \n",
            " 59  dia_mes_21                                 507514 non-null  uint8              \n",
            " 60  dia_mes_22                                 507514 non-null  uint8              \n",
            " 61  dia_mes_23                                 507514 non-null  uint8              \n",
            " 62  dia_mes_24                                 507514 non-null  uint8              \n",
            " 63  dia_mes_25                                 507514 non-null  uint8              \n",
            " 64  dia_mes_26                                 507514 non-null  uint8              \n",
            " 65  dia_mes_27                                 507514 non-null  uint8              \n",
            " 66  dia_mes_28                                 507514 non-null  uint8              \n",
            " 67  dia_mes_29                                 507514 non-null  uint8              \n",
            " 68  dia_mes_30                                 507514 non-null  uint8              \n",
            " 69  dia_mes_31                                 507514 non-null  uint8              \n",
            " 70  hora_00                                    507514 non-null  uint8              \n",
            " 71  hora_01                                    507514 non-null  uint8              \n",
            " 72  hora_02                                    507514 non-null  uint8              \n",
            " 73  hora_03                                    507514 non-null  uint8              \n",
            " 74  hora_04                                    507514 non-null  uint8              \n",
            " 75  hora_05                                    507514 non-null  uint8              \n",
            " 76  hora_06                                    507514 non-null  uint8              \n",
            " 77  hora_07                                    507514 non-null  uint8              \n",
            " 78  hora_08                                    507514 non-null  uint8              \n",
            " 79  hora_09                                    507514 non-null  uint8              \n",
            " 80  hora_10                                    507514 non-null  uint8              \n",
            " 81  hora_11                                    507514 non-null  uint8              \n",
            " 82  hora_12                                    507514 non-null  uint8              \n",
            " 83  hora_13                                    507514 non-null  uint8              \n",
            " 84  hora_14                                    507514 non-null  uint8              \n",
            " 85  hora_15                                    507514 non-null  uint8              \n",
            " 86  hora_16                                    507514 non-null  uint8              \n",
            " 87  hora_17                                    507514 non-null  uint8              \n",
            " 88  hora_18                                    507514 non-null  uint8              \n",
            " 89  hora_19                                    507514 non-null  uint8              \n",
            " 90  hora_20                                    507514 non-null  uint8              \n",
            " 91  hora_21                                    507514 non-null  uint8              \n",
            " 92  hora_22                                    507514 non-null  uint8              \n",
            " 93  hora_23                                    507514 non-null  uint8              \n",
            " 94  Price_conv                                 507514 non-null  float64            \n",
            " 95  Quality_conv                               507514 non-null  float64            \n",
            "dtypes: bool(1), datetime64[ns, UTC](1), float64(4), geometry(1), int64(3), object(7), uint8(79)\n",
            "memory usage: 124.5+ MB\n"
          ],
          "name": "stdout"
        }
      ]
    },
    {
      "cell_type": "code",
      "metadata": {
        "id": "h7IVHbMsuHo7"
      },
      "source": [
        "# Selecionando as demais colunas do dft binárias \n",
        "\n",
        "col = list(dft.columns[32:94])\n",
        "dfmod2 = dft.groupby(['SearchId'], as_index=False)[col].agg(\"max\")"
      ],
      "execution_count": null,
      "outputs": []
    },
    {
      "cell_type": "code",
      "metadata": {
        "id": "6AUx6Vl1LWaK"
      },
      "source": [
        "dfmod = pd.merge(dfmod1,dfmod2, how=\"left\", on='SearchId')\n",
        "dfmod=dfmod.set_index(\"SearchId\")"
      ],
      "execution_count": null,
      "outputs": []
    },
    {
      "cell_type": "code",
      "metadata": {
        "colab": {
          "base_uri": "https://localhost:8080/",
          "height": 257
        },
        "id": "dnFdIf8oAZjn",
        "outputId": "8da644d3-dbf0-4642-8318-30b83379e252"
      },
      "source": [
        "dfmod.head()"
      ],
      "execution_count": null,
      "outputs": [
        {
          "output_type": "execute_result",
          "data": {
            "text/html": [
              "<div>\n",
              "<style scoped>\n",
              "    .dataframe tbody tr th:only-of-type {\n",
              "        vertical-align: middle;\n",
              "    }\n",
              "\n",
              "    .dataframe tbody tr th {\n",
              "        vertical-align: top;\n",
              "    }\n",
              "\n",
              "    .dataframe thead th {\n",
              "        text-align: right;\n",
              "    }\n",
              "</style>\n",
              "<table border=\"1\" class=\"dataframe\">\n",
              "  <thead>\n",
              "    <tr style=\"text-align: right;\">\n",
              "      <th></th>\n",
              "      <th>n_rev</th>\n",
              "      <th>target_conv</th>\n",
              "      <th>preco_conv</th>\n",
              "      <th>preco_medio</th>\n",
              "      <th>amplitude_preco</th>\n",
              "      <th>quality_conv</th>\n",
              "      <th>quality_medio</th>\n",
              "      <th>amplitude_quality</th>\n",
              "      <th>mean_DealerETAGroup_10_15</th>\n",
              "      <th>mean_DealerETAGroup_15_30</th>\n",
              "      <th>mean_DealerETAGroup_30_45</th>\n",
              "      <th>mean_DealerETAGroup_45_60</th>\n",
              "      <th>mean_CONSIGAZ</th>\n",
              "      <th>mean_COPAGAZ</th>\n",
              "      <th>mean_LIQUIGAS</th>\n",
              "      <th>mean_MULTIMARCAS</th>\n",
              "      <th>mean_NACIONALGAS</th>\n",
              "      <th>mean_SUPERGASBRAS</th>\n",
              "      <th>mean_ULTRAGAZ</th>\n",
              "      <th>mean_BestDeal</th>\n",
              "      <th>mean_BestPrice</th>\n",
              "      <th>mean_BestPrice_MobileDealer</th>\n",
              "      <th>mean_MobileDealer</th>\n",
              "      <th>mean_N_A</th>\n",
              "      <th>dia_da_semana_Friday</th>\n",
              "      <th>dia_da_semana_Monday</th>\n",
              "      <th>dia_da_semana_Saturday</th>\n",
              "      <th>dia_da_semana_Sunday</th>\n",
              "      <th>dia_da_semana_Thursday</th>\n",
              "      <th>dia_da_semana_Tuesday</th>\n",
              "      <th>dia_da_semana_Wednesday</th>\n",
              "      <th>dia_mes_01</th>\n",
              "      <th>dia_mes_02</th>\n",
              "      <th>dia_mes_03</th>\n",
              "      <th>dia_mes_04</th>\n",
              "      <th>dia_mes_05</th>\n",
              "      <th>dia_mes_06</th>\n",
              "      <th>dia_mes_07</th>\n",
              "      <th>dia_mes_08</th>\n",
              "      <th>dia_mes_09</th>\n",
              "      <th>dia_mes_10</th>\n",
              "      <th>dia_mes_11</th>\n",
              "      <th>dia_mes_12</th>\n",
              "      <th>dia_mes_13</th>\n",
              "      <th>dia_mes_14</th>\n",
              "      <th>dia_mes_15</th>\n",
              "      <th>dia_mes_16</th>\n",
              "      <th>dia_mes_17</th>\n",
              "      <th>dia_mes_18</th>\n",
              "      <th>dia_mes_19</th>\n",
              "      <th>dia_mes_20</th>\n",
              "      <th>dia_mes_21</th>\n",
              "      <th>dia_mes_22</th>\n",
              "      <th>dia_mes_23</th>\n",
              "      <th>dia_mes_24</th>\n",
              "      <th>dia_mes_25</th>\n",
              "      <th>dia_mes_26</th>\n",
              "      <th>dia_mes_27</th>\n",
              "      <th>dia_mes_28</th>\n",
              "      <th>dia_mes_29</th>\n",
              "      <th>dia_mes_30</th>\n",
              "      <th>dia_mes_31</th>\n",
              "      <th>hora_00</th>\n",
              "      <th>hora_01</th>\n",
              "      <th>hora_02</th>\n",
              "      <th>hora_03</th>\n",
              "      <th>hora_04</th>\n",
              "      <th>hora_05</th>\n",
              "      <th>hora_06</th>\n",
              "      <th>hora_07</th>\n",
              "      <th>hora_08</th>\n",
              "      <th>hora_09</th>\n",
              "      <th>hora_10</th>\n",
              "      <th>hora_11</th>\n",
              "      <th>hora_12</th>\n",
              "      <th>hora_13</th>\n",
              "      <th>hora_14</th>\n",
              "      <th>hora_15</th>\n",
              "      <th>hora_16</th>\n",
              "      <th>hora_17</th>\n",
              "      <th>hora_18</th>\n",
              "      <th>hora_19</th>\n",
              "      <th>hora_20</th>\n",
              "      <th>hora_21</th>\n",
              "      <th>hora_22</th>\n",
              "      <th>hora_23</th>\n",
              "    </tr>\n",
              "    <tr>\n",
              "      <th>SearchId</th>\n",
              "      <th></th>\n",
              "      <th></th>\n",
              "      <th></th>\n",
              "      <th></th>\n",
              "      <th></th>\n",
              "      <th></th>\n",
              "      <th></th>\n",
              "      <th></th>\n",
              "      <th></th>\n",
              "      <th></th>\n",
              "      <th></th>\n",
              "      <th></th>\n",
              "      <th></th>\n",
              "      <th></th>\n",
              "      <th></th>\n",
              "      <th></th>\n",
              "      <th></th>\n",
              "      <th></th>\n",
              "      <th></th>\n",
              "      <th></th>\n",
              "      <th></th>\n",
              "      <th></th>\n",
              "      <th></th>\n",
              "      <th></th>\n",
              "      <th></th>\n",
              "      <th></th>\n",
              "      <th></th>\n",
              "      <th></th>\n",
              "      <th></th>\n",
              "      <th></th>\n",
              "      <th></th>\n",
              "      <th></th>\n",
              "      <th></th>\n",
              "      <th></th>\n",
              "      <th></th>\n",
              "      <th></th>\n",
              "      <th></th>\n",
              "      <th></th>\n",
              "      <th></th>\n",
              "      <th></th>\n",
              "      <th></th>\n",
              "      <th></th>\n",
              "      <th></th>\n",
              "      <th></th>\n",
              "      <th></th>\n",
              "      <th></th>\n",
              "      <th></th>\n",
              "      <th></th>\n",
              "      <th></th>\n",
              "      <th></th>\n",
              "      <th></th>\n",
              "      <th></th>\n",
              "      <th></th>\n",
              "      <th></th>\n",
              "      <th></th>\n",
              "      <th></th>\n",
              "      <th></th>\n",
              "      <th></th>\n",
              "      <th></th>\n",
              "      <th></th>\n",
              "      <th></th>\n",
              "      <th></th>\n",
              "      <th></th>\n",
              "      <th></th>\n",
              "      <th></th>\n",
              "      <th></th>\n",
              "      <th></th>\n",
              "      <th></th>\n",
              "      <th></th>\n",
              "      <th></th>\n",
              "      <th></th>\n",
              "      <th></th>\n",
              "      <th></th>\n",
              "      <th></th>\n",
              "      <th></th>\n",
              "      <th></th>\n",
              "      <th></th>\n",
              "      <th></th>\n",
              "      <th></th>\n",
              "      <th></th>\n",
              "      <th></th>\n",
              "      <th></th>\n",
              "      <th></th>\n",
              "      <th></th>\n",
              "      <th></th>\n",
              "      <th></th>\n",
              "    </tr>\n",
              "  </thead>\n",
              "  <tbody>\n",
              "    <tr>\n",
              "      <th>__++NJUeirtx5aLEGXp/83/0gJ7UtC4vhTzoEVtoNOQt4=|1566655431167</th>\n",
              "      <td>10</td>\n",
              "      <td>0</td>\n",
              "      <td>0.00</td>\n",
              "      <td>72.971000</td>\n",
              "      <td>11.00</td>\n",
              "      <td>0.0</td>\n",
              "      <td>4.730000</td>\n",
              "      <td>0.8</td>\n",
              "      <td>0.0</td>\n",
              "      <td>0.700000</td>\n",
              "      <td>0.200000</td>\n",
              "      <td>0.100000</td>\n",
              "      <td>0.100000</td>\n",
              "      <td>0.300000</td>\n",
              "      <td>0.000000</td>\n",
              "      <td>0.500000</td>\n",
              "      <td>0.100000</td>\n",
              "      <td>0.000000</td>\n",
              "      <td>0.000000</td>\n",
              "      <td>0.0</td>\n",
              "      <td>0.1</td>\n",
              "      <td>0.0</td>\n",
              "      <td>0.0</td>\n",
              "      <td>0.9</td>\n",
              "      <td>0</td>\n",
              "      <td>0</td>\n",
              "      <td>1</td>\n",
              "      <td>0</td>\n",
              "      <td>0</td>\n",
              "      <td>0</td>\n",
              "      <td>0</td>\n",
              "      <td>0</td>\n",
              "      <td>0</td>\n",
              "      <td>0</td>\n",
              "      <td>0</td>\n",
              "      <td>0</td>\n",
              "      <td>0</td>\n",
              "      <td>0</td>\n",
              "      <td>0</td>\n",
              "      <td>0</td>\n",
              "      <td>0</td>\n",
              "      <td>0</td>\n",
              "      <td>0</td>\n",
              "      <td>0</td>\n",
              "      <td>0</td>\n",
              "      <td>0</td>\n",
              "      <td>0</td>\n",
              "      <td>0</td>\n",
              "      <td>0</td>\n",
              "      <td>0</td>\n",
              "      <td>0</td>\n",
              "      <td>0</td>\n",
              "      <td>0</td>\n",
              "      <td>0</td>\n",
              "      <td>1</td>\n",
              "      <td>0</td>\n",
              "      <td>0</td>\n",
              "      <td>0</td>\n",
              "      <td>0</td>\n",
              "      <td>0</td>\n",
              "      <td>0</td>\n",
              "      <td>0</td>\n",
              "      <td>0</td>\n",
              "      <td>0</td>\n",
              "      <td>0</td>\n",
              "      <td>0</td>\n",
              "      <td>0</td>\n",
              "      <td>0</td>\n",
              "      <td>0</td>\n",
              "      <td>0</td>\n",
              "      <td>0</td>\n",
              "      <td>0</td>\n",
              "      <td>0</td>\n",
              "      <td>0</td>\n",
              "      <td>0</td>\n",
              "      <td>0</td>\n",
              "      <td>1</td>\n",
              "      <td>0</td>\n",
              "      <td>0</td>\n",
              "      <td>0</td>\n",
              "      <td>0</td>\n",
              "      <td>0</td>\n",
              "      <td>0</td>\n",
              "      <td>0</td>\n",
              "      <td>0</td>\n",
              "      <td>0</td>\n",
              "    </tr>\n",
              "    <tr>\n",
              "      <th>__++ZUTc6QzI0LR1zqWhO+mrFOdTYTxjtoCx/1u00zGUA=|1562354110445</th>\n",
              "      <td>27</td>\n",
              "      <td>1</td>\n",
              "      <td>68.99</td>\n",
              "      <td>71.435556</td>\n",
              "      <td>33.04</td>\n",
              "      <td>4.9</td>\n",
              "      <td>4.500000</td>\n",
              "      <td>1.1</td>\n",
              "      <td>0.0</td>\n",
              "      <td>0.740741</td>\n",
              "      <td>0.148148</td>\n",
              "      <td>0.111111</td>\n",
              "      <td>0.074074</td>\n",
              "      <td>0.259259</td>\n",
              "      <td>0.000000</td>\n",
              "      <td>0.185185</td>\n",
              "      <td>0.148148</td>\n",
              "      <td>0.259259</td>\n",
              "      <td>0.074074</td>\n",
              "      <td>0.0</td>\n",
              "      <td>0.0</td>\n",
              "      <td>0.0</td>\n",
              "      <td>0.0</td>\n",
              "      <td>1.0</td>\n",
              "      <td>1</td>\n",
              "      <td>0</td>\n",
              "      <td>0</td>\n",
              "      <td>0</td>\n",
              "      <td>0</td>\n",
              "      <td>0</td>\n",
              "      <td>0</td>\n",
              "      <td>0</td>\n",
              "      <td>0</td>\n",
              "      <td>0</td>\n",
              "      <td>0</td>\n",
              "      <td>1</td>\n",
              "      <td>0</td>\n",
              "      <td>0</td>\n",
              "      <td>0</td>\n",
              "      <td>0</td>\n",
              "      <td>0</td>\n",
              "      <td>0</td>\n",
              "      <td>0</td>\n",
              "      <td>0</td>\n",
              "      <td>0</td>\n",
              "      <td>0</td>\n",
              "      <td>0</td>\n",
              "      <td>0</td>\n",
              "      <td>0</td>\n",
              "      <td>0</td>\n",
              "      <td>0</td>\n",
              "      <td>0</td>\n",
              "      <td>0</td>\n",
              "      <td>0</td>\n",
              "      <td>0</td>\n",
              "      <td>0</td>\n",
              "      <td>0</td>\n",
              "      <td>0</td>\n",
              "      <td>0</td>\n",
              "      <td>0</td>\n",
              "      <td>0</td>\n",
              "      <td>0</td>\n",
              "      <td>0</td>\n",
              "      <td>0</td>\n",
              "      <td>0</td>\n",
              "      <td>0</td>\n",
              "      <td>0</td>\n",
              "      <td>0</td>\n",
              "      <td>0</td>\n",
              "      <td>0</td>\n",
              "      <td>0</td>\n",
              "      <td>0</td>\n",
              "      <td>0</td>\n",
              "      <td>0</td>\n",
              "      <td>0</td>\n",
              "      <td>0</td>\n",
              "      <td>0</td>\n",
              "      <td>0</td>\n",
              "      <td>0</td>\n",
              "      <td>0</td>\n",
              "      <td>0</td>\n",
              "      <td>1</td>\n",
              "      <td>0</td>\n",
              "      <td>0</td>\n",
              "      <td>0</td>\n",
              "      <td>0</td>\n",
              "    </tr>\n",
              "    <tr>\n",
              "      <th>__++kJuOA+ktfbXUW2euQ1MkVYonxeDlTvCvttgovjZ/E=|1561830086993</th>\n",
              "      <td>24</td>\n",
              "      <td>0</td>\n",
              "      <td>0.00</td>\n",
              "      <td>81.125000</td>\n",
              "      <td>15.00</td>\n",
              "      <td>0.0</td>\n",
              "      <td>4.679167</td>\n",
              "      <td>0.8</td>\n",
              "      <td>0.0</td>\n",
              "      <td>0.916667</td>\n",
              "      <td>0.083333</td>\n",
              "      <td>0.000000</td>\n",
              "      <td>0.083333</td>\n",
              "      <td>0.125000</td>\n",
              "      <td>0.291667</td>\n",
              "      <td>0.333333</td>\n",
              "      <td>0.125000</td>\n",
              "      <td>0.041667</td>\n",
              "      <td>0.000000</td>\n",
              "      <td>0.0</td>\n",
              "      <td>0.0</td>\n",
              "      <td>0.0</td>\n",
              "      <td>0.0</td>\n",
              "      <td>1.0</td>\n",
              "      <td>0</td>\n",
              "      <td>0</td>\n",
              "      <td>1</td>\n",
              "      <td>0</td>\n",
              "      <td>0</td>\n",
              "      <td>0</td>\n",
              "      <td>0</td>\n",
              "      <td>0</td>\n",
              "      <td>0</td>\n",
              "      <td>0</td>\n",
              "      <td>0</td>\n",
              "      <td>0</td>\n",
              "      <td>0</td>\n",
              "      <td>0</td>\n",
              "      <td>0</td>\n",
              "      <td>0</td>\n",
              "      <td>0</td>\n",
              "      <td>0</td>\n",
              "      <td>0</td>\n",
              "      <td>0</td>\n",
              "      <td>0</td>\n",
              "      <td>0</td>\n",
              "      <td>0</td>\n",
              "      <td>0</td>\n",
              "      <td>0</td>\n",
              "      <td>0</td>\n",
              "      <td>0</td>\n",
              "      <td>0</td>\n",
              "      <td>0</td>\n",
              "      <td>0</td>\n",
              "      <td>0</td>\n",
              "      <td>0</td>\n",
              "      <td>0</td>\n",
              "      <td>0</td>\n",
              "      <td>0</td>\n",
              "      <td>1</td>\n",
              "      <td>0</td>\n",
              "      <td>0</td>\n",
              "      <td>0</td>\n",
              "      <td>0</td>\n",
              "      <td>0</td>\n",
              "      <td>0</td>\n",
              "      <td>0</td>\n",
              "      <td>0</td>\n",
              "      <td>0</td>\n",
              "      <td>0</td>\n",
              "      <td>0</td>\n",
              "      <td>0</td>\n",
              "      <td>0</td>\n",
              "      <td>0</td>\n",
              "      <td>0</td>\n",
              "      <td>0</td>\n",
              "      <td>0</td>\n",
              "      <td>0</td>\n",
              "      <td>0</td>\n",
              "      <td>1</td>\n",
              "      <td>0</td>\n",
              "      <td>0</td>\n",
              "      <td>0</td>\n",
              "      <td>0</td>\n",
              "      <td>0</td>\n",
              "      <td>0</td>\n",
              "    </tr>\n",
              "    <tr>\n",
              "      <th>__++wGwPFMCSdOO8U5whAyOZEoN46SS0w52BwRfjQsLoo=|1565742508411</th>\n",
              "      <td>9</td>\n",
              "      <td>0</td>\n",
              "      <td>0.00</td>\n",
              "      <td>70.652222</td>\n",
              "      <td>12.02</td>\n",
              "      <td>0.0</td>\n",
              "      <td>4.400000</td>\n",
              "      <td>0.6</td>\n",
              "      <td>0.0</td>\n",
              "      <td>0.222222</td>\n",
              "      <td>0.444444</td>\n",
              "      <td>0.333333</td>\n",
              "      <td>0.111111</td>\n",
              "      <td>0.000000</td>\n",
              "      <td>0.222222</td>\n",
              "      <td>0.555556</td>\n",
              "      <td>0.000000</td>\n",
              "      <td>0.000000</td>\n",
              "      <td>0.111111</td>\n",
              "      <td>0.0</td>\n",
              "      <td>0.0</td>\n",
              "      <td>0.0</td>\n",
              "      <td>0.0</td>\n",
              "      <td>1.0</td>\n",
              "      <td>0</td>\n",
              "      <td>0</td>\n",
              "      <td>0</td>\n",
              "      <td>0</td>\n",
              "      <td>0</td>\n",
              "      <td>0</td>\n",
              "      <td>1</td>\n",
              "      <td>0</td>\n",
              "      <td>0</td>\n",
              "      <td>0</td>\n",
              "      <td>0</td>\n",
              "      <td>0</td>\n",
              "      <td>0</td>\n",
              "      <td>0</td>\n",
              "      <td>0</td>\n",
              "      <td>0</td>\n",
              "      <td>0</td>\n",
              "      <td>0</td>\n",
              "      <td>0</td>\n",
              "      <td>0</td>\n",
              "      <td>1</td>\n",
              "      <td>0</td>\n",
              "      <td>0</td>\n",
              "      <td>0</td>\n",
              "      <td>0</td>\n",
              "      <td>0</td>\n",
              "      <td>0</td>\n",
              "      <td>0</td>\n",
              "      <td>0</td>\n",
              "      <td>0</td>\n",
              "      <td>0</td>\n",
              "      <td>0</td>\n",
              "      <td>0</td>\n",
              "      <td>0</td>\n",
              "      <td>0</td>\n",
              "      <td>0</td>\n",
              "      <td>0</td>\n",
              "      <td>0</td>\n",
              "      <td>1</td>\n",
              "      <td>0</td>\n",
              "      <td>0</td>\n",
              "      <td>0</td>\n",
              "      <td>0</td>\n",
              "      <td>0</td>\n",
              "      <td>0</td>\n",
              "      <td>0</td>\n",
              "      <td>0</td>\n",
              "      <td>0</td>\n",
              "      <td>0</td>\n",
              "      <td>0</td>\n",
              "      <td>0</td>\n",
              "      <td>0</td>\n",
              "      <td>0</td>\n",
              "      <td>0</td>\n",
              "      <td>0</td>\n",
              "      <td>0</td>\n",
              "      <td>0</td>\n",
              "      <td>0</td>\n",
              "      <td>0</td>\n",
              "      <td>0</td>\n",
              "      <td>0</td>\n",
              "      <td>0</td>\n",
              "    </tr>\n",
              "    <tr>\n",
              "      <th>__+/3dXRoLW1JN1lMs0BhoswWixEFOypduoVk56RdPM7o=|1562797516834</th>\n",
              "      <td>12</td>\n",
              "      <td>0</td>\n",
              "      <td>0.00</td>\n",
              "      <td>69.815000</td>\n",
              "      <td>11.03</td>\n",
              "      <td>0.0</td>\n",
              "      <td>4.466667</td>\n",
              "      <td>0.6</td>\n",
              "      <td>0.0</td>\n",
              "      <td>0.583333</td>\n",
              "      <td>0.083333</td>\n",
              "      <td>0.333333</td>\n",
              "      <td>0.166667</td>\n",
              "      <td>0.000000</td>\n",
              "      <td>0.250000</td>\n",
              "      <td>0.416667</td>\n",
              "      <td>0.083333</td>\n",
              "      <td>0.000000</td>\n",
              "      <td>0.083333</td>\n",
              "      <td>0.0</td>\n",
              "      <td>0.0</td>\n",
              "      <td>0.0</td>\n",
              "      <td>0.0</td>\n",
              "      <td>1.0</td>\n",
              "      <td>0</td>\n",
              "      <td>0</td>\n",
              "      <td>0</td>\n",
              "      <td>0</td>\n",
              "      <td>0</td>\n",
              "      <td>0</td>\n",
              "      <td>1</td>\n",
              "      <td>0</td>\n",
              "      <td>0</td>\n",
              "      <td>0</td>\n",
              "      <td>0</td>\n",
              "      <td>0</td>\n",
              "      <td>0</td>\n",
              "      <td>0</td>\n",
              "      <td>0</td>\n",
              "      <td>0</td>\n",
              "      <td>1</td>\n",
              "      <td>0</td>\n",
              "      <td>0</td>\n",
              "      <td>0</td>\n",
              "      <td>0</td>\n",
              "      <td>0</td>\n",
              "      <td>0</td>\n",
              "      <td>0</td>\n",
              "      <td>0</td>\n",
              "      <td>0</td>\n",
              "      <td>0</td>\n",
              "      <td>0</td>\n",
              "      <td>0</td>\n",
              "      <td>0</td>\n",
              "      <td>0</td>\n",
              "      <td>0</td>\n",
              "      <td>0</td>\n",
              "      <td>0</td>\n",
              "      <td>0</td>\n",
              "      <td>0</td>\n",
              "      <td>0</td>\n",
              "      <td>0</td>\n",
              "      <td>0</td>\n",
              "      <td>0</td>\n",
              "      <td>0</td>\n",
              "      <td>0</td>\n",
              "      <td>0</td>\n",
              "      <td>0</td>\n",
              "      <td>0</td>\n",
              "      <td>0</td>\n",
              "      <td>0</td>\n",
              "      <td>0</td>\n",
              "      <td>0</td>\n",
              "      <td>0</td>\n",
              "      <td>0</td>\n",
              "      <td>0</td>\n",
              "      <td>0</td>\n",
              "      <td>0</td>\n",
              "      <td>0</td>\n",
              "      <td>0</td>\n",
              "      <td>0</td>\n",
              "      <td>0</td>\n",
              "      <td>0</td>\n",
              "      <td>0</td>\n",
              "      <td>1</td>\n",
              "      <td>0</td>\n",
              "    </tr>\n",
              "  </tbody>\n",
              "</table>\n",
              "</div>"
            ],
            "text/plain": [
              "                                                    n_rev  target_conv  \\\n",
              "SearchId                                                                 \n",
              "__++NJUeirtx5aLEGXp/83/0gJ7UtC4vhTzoEVtoNOQt4=|...     10            0   \n",
              "__++ZUTc6QzI0LR1zqWhO+mrFOdTYTxjtoCx/1u00zGUA=|...     27            1   \n",
              "__++kJuOA+ktfbXUW2euQ1MkVYonxeDlTvCvttgovjZ/E=|...     24            0   \n",
              "__++wGwPFMCSdOO8U5whAyOZEoN46SS0w52BwRfjQsLoo=|...      9            0   \n",
              "__+/3dXRoLW1JN1lMs0BhoswWixEFOypduoVk56RdPM7o=|...     12            0   \n",
              "\n",
              "                                                    preco_conv  preco_medio  \\\n",
              "SearchId                                                                      \n",
              "__++NJUeirtx5aLEGXp/83/0gJ7UtC4vhTzoEVtoNOQt4=|...        0.00    72.971000   \n",
              "__++ZUTc6QzI0LR1zqWhO+mrFOdTYTxjtoCx/1u00zGUA=|...       68.99    71.435556   \n",
              "__++kJuOA+ktfbXUW2euQ1MkVYonxeDlTvCvttgovjZ/E=|...        0.00    81.125000   \n",
              "__++wGwPFMCSdOO8U5whAyOZEoN46SS0w52BwRfjQsLoo=|...        0.00    70.652222   \n",
              "__+/3dXRoLW1JN1lMs0BhoswWixEFOypduoVk56RdPM7o=|...        0.00    69.815000   \n",
              "\n",
              "                                                    amplitude_preco  \\\n",
              "SearchId                                                              \n",
              "__++NJUeirtx5aLEGXp/83/0gJ7UtC4vhTzoEVtoNOQt4=|...            11.00   \n",
              "__++ZUTc6QzI0LR1zqWhO+mrFOdTYTxjtoCx/1u00zGUA=|...            33.04   \n",
              "__++kJuOA+ktfbXUW2euQ1MkVYonxeDlTvCvttgovjZ/E=|...            15.00   \n",
              "__++wGwPFMCSdOO8U5whAyOZEoN46SS0w52BwRfjQsLoo=|...            12.02   \n",
              "__+/3dXRoLW1JN1lMs0BhoswWixEFOypduoVk56RdPM7o=|...            11.03   \n",
              "\n",
              "                                                    quality_conv  \\\n",
              "SearchId                                                           \n",
              "__++NJUeirtx5aLEGXp/83/0gJ7UtC4vhTzoEVtoNOQt4=|...           0.0   \n",
              "__++ZUTc6QzI0LR1zqWhO+mrFOdTYTxjtoCx/1u00zGUA=|...           4.9   \n",
              "__++kJuOA+ktfbXUW2euQ1MkVYonxeDlTvCvttgovjZ/E=|...           0.0   \n",
              "__++wGwPFMCSdOO8U5whAyOZEoN46SS0w52BwRfjQsLoo=|...           0.0   \n",
              "__+/3dXRoLW1JN1lMs0BhoswWixEFOypduoVk56RdPM7o=|...           0.0   \n",
              "\n",
              "                                                    quality_medio  \\\n",
              "SearchId                                                            \n",
              "__++NJUeirtx5aLEGXp/83/0gJ7UtC4vhTzoEVtoNOQt4=|...       4.730000   \n",
              "__++ZUTc6QzI0LR1zqWhO+mrFOdTYTxjtoCx/1u00zGUA=|...       4.500000   \n",
              "__++kJuOA+ktfbXUW2euQ1MkVYonxeDlTvCvttgovjZ/E=|...       4.679167   \n",
              "__++wGwPFMCSdOO8U5whAyOZEoN46SS0w52BwRfjQsLoo=|...       4.400000   \n",
              "__+/3dXRoLW1JN1lMs0BhoswWixEFOypduoVk56RdPM7o=|...       4.466667   \n",
              "\n",
              "                                                    amplitude_quality  \\\n",
              "SearchId                                                                \n",
              "__++NJUeirtx5aLEGXp/83/0gJ7UtC4vhTzoEVtoNOQt4=|...                0.8   \n",
              "__++ZUTc6QzI0LR1zqWhO+mrFOdTYTxjtoCx/1u00zGUA=|...                1.1   \n",
              "__++kJuOA+ktfbXUW2euQ1MkVYonxeDlTvCvttgovjZ/E=|...                0.8   \n",
              "__++wGwPFMCSdOO8U5whAyOZEoN46SS0w52BwRfjQsLoo=|...                0.6   \n",
              "__+/3dXRoLW1JN1lMs0BhoswWixEFOypduoVk56RdPM7o=|...                0.6   \n",
              "\n",
              "                                                    mean_DealerETAGroup_10_15  \\\n",
              "SearchId                                                                        \n",
              "__++NJUeirtx5aLEGXp/83/0gJ7UtC4vhTzoEVtoNOQt4=|...                        0.0   \n",
              "__++ZUTc6QzI0LR1zqWhO+mrFOdTYTxjtoCx/1u00zGUA=|...                        0.0   \n",
              "__++kJuOA+ktfbXUW2euQ1MkVYonxeDlTvCvttgovjZ/E=|...                        0.0   \n",
              "__++wGwPFMCSdOO8U5whAyOZEoN46SS0w52BwRfjQsLoo=|...                        0.0   \n",
              "__+/3dXRoLW1JN1lMs0BhoswWixEFOypduoVk56RdPM7o=|...                        0.0   \n",
              "\n",
              "                                                    mean_DealerETAGroup_15_30  \\\n",
              "SearchId                                                                        \n",
              "__++NJUeirtx5aLEGXp/83/0gJ7UtC4vhTzoEVtoNOQt4=|...                   0.700000   \n",
              "__++ZUTc6QzI0LR1zqWhO+mrFOdTYTxjtoCx/1u00zGUA=|...                   0.740741   \n",
              "__++kJuOA+ktfbXUW2euQ1MkVYonxeDlTvCvttgovjZ/E=|...                   0.916667   \n",
              "__++wGwPFMCSdOO8U5whAyOZEoN46SS0w52BwRfjQsLoo=|...                   0.222222   \n",
              "__+/3dXRoLW1JN1lMs0BhoswWixEFOypduoVk56RdPM7o=|...                   0.583333   \n",
              "\n",
              "                                                    mean_DealerETAGroup_30_45  \\\n",
              "SearchId                                                                        \n",
              "__++NJUeirtx5aLEGXp/83/0gJ7UtC4vhTzoEVtoNOQt4=|...                   0.200000   \n",
              "__++ZUTc6QzI0LR1zqWhO+mrFOdTYTxjtoCx/1u00zGUA=|...                   0.148148   \n",
              "__++kJuOA+ktfbXUW2euQ1MkVYonxeDlTvCvttgovjZ/E=|...                   0.083333   \n",
              "__++wGwPFMCSdOO8U5whAyOZEoN46SS0w52BwRfjQsLoo=|...                   0.444444   \n",
              "__+/3dXRoLW1JN1lMs0BhoswWixEFOypduoVk56RdPM7o=|...                   0.083333   \n",
              "\n",
              "                                                    mean_DealerETAGroup_45_60  \\\n",
              "SearchId                                                                        \n",
              "__++NJUeirtx5aLEGXp/83/0gJ7UtC4vhTzoEVtoNOQt4=|...                   0.100000   \n",
              "__++ZUTc6QzI0LR1zqWhO+mrFOdTYTxjtoCx/1u00zGUA=|...                   0.111111   \n",
              "__++kJuOA+ktfbXUW2euQ1MkVYonxeDlTvCvttgovjZ/E=|...                   0.000000   \n",
              "__++wGwPFMCSdOO8U5whAyOZEoN46SS0w52BwRfjQsLoo=|...                   0.333333   \n",
              "__+/3dXRoLW1JN1lMs0BhoswWixEFOypduoVk56RdPM7o=|...                   0.333333   \n",
              "\n",
              "                                                    mean_CONSIGAZ  \\\n",
              "SearchId                                                            \n",
              "__++NJUeirtx5aLEGXp/83/0gJ7UtC4vhTzoEVtoNOQt4=|...       0.100000   \n",
              "__++ZUTc6QzI0LR1zqWhO+mrFOdTYTxjtoCx/1u00zGUA=|...       0.074074   \n",
              "__++kJuOA+ktfbXUW2euQ1MkVYonxeDlTvCvttgovjZ/E=|...       0.083333   \n",
              "__++wGwPFMCSdOO8U5whAyOZEoN46SS0w52BwRfjQsLoo=|...       0.111111   \n",
              "__+/3dXRoLW1JN1lMs0BhoswWixEFOypduoVk56RdPM7o=|...       0.166667   \n",
              "\n",
              "                                                    mean_COPAGAZ  \\\n",
              "SearchId                                                           \n",
              "__++NJUeirtx5aLEGXp/83/0gJ7UtC4vhTzoEVtoNOQt4=|...      0.300000   \n",
              "__++ZUTc6QzI0LR1zqWhO+mrFOdTYTxjtoCx/1u00zGUA=|...      0.259259   \n",
              "__++kJuOA+ktfbXUW2euQ1MkVYonxeDlTvCvttgovjZ/E=|...      0.125000   \n",
              "__++wGwPFMCSdOO8U5whAyOZEoN46SS0w52BwRfjQsLoo=|...      0.000000   \n",
              "__+/3dXRoLW1JN1lMs0BhoswWixEFOypduoVk56RdPM7o=|...      0.000000   \n",
              "\n",
              "                                                    mean_LIQUIGAS  \\\n",
              "SearchId                                                            \n",
              "__++NJUeirtx5aLEGXp/83/0gJ7UtC4vhTzoEVtoNOQt4=|...       0.000000   \n",
              "__++ZUTc6QzI0LR1zqWhO+mrFOdTYTxjtoCx/1u00zGUA=|...       0.000000   \n",
              "__++kJuOA+ktfbXUW2euQ1MkVYonxeDlTvCvttgovjZ/E=|...       0.291667   \n",
              "__++wGwPFMCSdOO8U5whAyOZEoN46SS0w52BwRfjQsLoo=|...       0.222222   \n",
              "__+/3dXRoLW1JN1lMs0BhoswWixEFOypduoVk56RdPM7o=|...       0.250000   \n",
              "\n",
              "                                                    mean_MULTIMARCAS  \\\n",
              "SearchId                                                               \n",
              "__++NJUeirtx5aLEGXp/83/0gJ7UtC4vhTzoEVtoNOQt4=|...          0.500000   \n",
              "__++ZUTc6QzI0LR1zqWhO+mrFOdTYTxjtoCx/1u00zGUA=|...          0.185185   \n",
              "__++kJuOA+ktfbXUW2euQ1MkVYonxeDlTvCvttgovjZ/E=|...          0.333333   \n",
              "__++wGwPFMCSdOO8U5whAyOZEoN46SS0w52BwRfjQsLoo=|...          0.555556   \n",
              "__+/3dXRoLW1JN1lMs0BhoswWixEFOypduoVk56RdPM7o=|...          0.416667   \n",
              "\n",
              "                                                    mean_NACIONALGAS  \\\n",
              "SearchId                                                               \n",
              "__++NJUeirtx5aLEGXp/83/0gJ7UtC4vhTzoEVtoNOQt4=|...          0.100000   \n",
              "__++ZUTc6QzI0LR1zqWhO+mrFOdTYTxjtoCx/1u00zGUA=|...          0.148148   \n",
              "__++kJuOA+ktfbXUW2euQ1MkVYonxeDlTvCvttgovjZ/E=|...          0.125000   \n",
              "__++wGwPFMCSdOO8U5whAyOZEoN46SS0w52BwRfjQsLoo=|...          0.000000   \n",
              "__+/3dXRoLW1JN1lMs0BhoswWixEFOypduoVk56RdPM7o=|...          0.083333   \n",
              "\n",
              "                                                    mean_SUPERGASBRAS  \\\n",
              "SearchId                                                                \n",
              "__++NJUeirtx5aLEGXp/83/0gJ7UtC4vhTzoEVtoNOQt4=|...           0.000000   \n",
              "__++ZUTc6QzI0LR1zqWhO+mrFOdTYTxjtoCx/1u00zGUA=|...           0.259259   \n",
              "__++kJuOA+ktfbXUW2euQ1MkVYonxeDlTvCvttgovjZ/E=|...           0.041667   \n",
              "__++wGwPFMCSdOO8U5whAyOZEoN46SS0w52BwRfjQsLoo=|...           0.000000   \n",
              "__+/3dXRoLW1JN1lMs0BhoswWixEFOypduoVk56RdPM7o=|...           0.000000   \n",
              "\n",
              "                                                    mean_ULTRAGAZ  \\\n",
              "SearchId                                                            \n",
              "__++NJUeirtx5aLEGXp/83/0gJ7UtC4vhTzoEVtoNOQt4=|...       0.000000   \n",
              "__++ZUTc6QzI0LR1zqWhO+mrFOdTYTxjtoCx/1u00zGUA=|...       0.074074   \n",
              "__++kJuOA+ktfbXUW2euQ1MkVYonxeDlTvCvttgovjZ/E=|...       0.000000   \n",
              "__++wGwPFMCSdOO8U5whAyOZEoN46SS0w52BwRfjQsLoo=|...       0.111111   \n",
              "__+/3dXRoLW1JN1lMs0BhoswWixEFOypduoVk56RdPM7o=|...       0.083333   \n",
              "\n",
              "                                                    mean_BestDeal  \\\n",
              "SearchId                                                            \n",
              "__++NJUeirtx5aLEGXp/83/0gJ7UtC4vhTzoEVtoNOQt4=|...            0.0   \n",
              "__++ZUTc6QzI0LR1zqWhO+mrFOdTYTxjtoCx/1u00zGUA=|...            0.0   \n",
              "__++kJuOA+ktfbXUW2euQ1MkVYonxeDlTvCvttgovjZ/E=|...            0.0   \n",
              "__++wGwPFMCSdOO8U5whAyOZEoN46SS0w52BwRfjQsLoo=|...            0.0   \n",
              "__+/3dXRoLW1JN1lMs0BhoswWixEFOypduoVk56RdPM7o=|...            0.0   \n",
              "\n",
              "                                                    mean_BestPrice  \\\n",
              "SearchId                                                             \n",
              "__++NJUeirtx5aLEGXp/83/0gJ7UtC4vhTzoEVtoNOQt4=|...             0.1   \n",
              "__++ZUTc6QzI0LR1zqWhO+mrFOdTYTxjtoCx/1u00zGUA=|...             0.0   \n",
              "__++kJuOA+ktfbXUW2euQ1MkVYonxeDlTvCvttgovjZ/E=|...             0.0   \n",
              "__++wGwPFMCSdOO8U5whAyOZEoN46SS0w52BwRfjQsLoo=|...             0.0   \n",
              "__+/3dXRoLW1JN1lMs0BhoswWixEFOypduoVk56RdPM7o=|...             0.0   \n",
              "\n",
              "                                                    mean_BestPrice_MobileDealer  \\\n",
              "SearchId                                                                          \n",
              "__++NJUeirtx5aLEGXp/83/0gJ7UtC4vhTzoEVtoNOQt4=|...                          0.0   \n",
              "__++ZUTc6QzI0LR1zqWhO+mrFOdTYTxjtoCx/1u00zGUA=|...                          0.0   \n",
              "__++kJuOA+ktfbXUW2euQ1MkVYonxeDlTvCvttgovjZ/E=|...                          0.0   \n",
              "__++wGwPFMCSdOO8U5whAyOZEoN46SS0w52BwRfjQsLoo=|...                          0.0   \n",
              "__+/3dXRoLW1JN1lMs0BhoswWixEFOypduoVk56RdPM7o=|...                          0.0   \n",
              "\n",
              "                                                    mean_MobileDealer  \\\n",
              "SearchId                                                                \n",
              "__++NJUeirtx5aLEGXp/83/0gJ7UtC4vhTzoEVtoNOQt4=|...                0.0   \n",
              "__++ZUTc6QzI0LR1zqWhO+mrFOdTYTxjtoCx/1u00zGUA=|...                0.0   \n",
              "__++kJuOA+ktfbXUW2euQ1MkVYonxeDlTvCvttgovjZ/E=|...                0.0   \n",
              "__++wGwPFMCSdOO8U5whAyOZEoN46SS0w52BwRfjQsLoo=|...                0.0   \n",
              "__+/3dXRoLW1JN1lMs0BhoswWixEFOypduoVk56RdPM7o=|...                0.0   \n",
              "\n",
              "                                                    mean_N_A  \\\n",
              "SearchId                                                       \n",
              "__++NJUeirtx5aLEGXp/83/0gJ7UtC4vhTzoEVtoNOQt4=|...       0.9   \n",
              "__++ZUTc6QzI0LR1zqWhO+mrFOdTYTxjtoCx/1u00zGUA=|...       1.0   \n",
              "__++kJuOA+ktfbXUW2euQ1MkVYonxeDlTvCvttgovjZ/E=|...       1.0   \n",
              "__++wGwPFMCSdOO8U5whAyOZEoN46SS0w52BwRfjQsLoo=|...       1.0   \n",
              "__+/3dXRoLW1JN1lMs0BhoswWixEFOypduoVk56RdPM7o=|...       1.0   \n",
              "\n",
              "                                                    dia_da_semana_Friday  \\\n",
              "SearchId                                                                   \n",
              "__++NJUeirtx5aLEGXp/83/0gJ7UtC4vhTzoEVtoNOQt4=|...                     0   \n",
              "__++ZUTc6QzI0LR1zqWhO+mrFOdTYTxjtoCx/1u00zGUA=|...                     1   \n",
              "__++kJuOA+ktfbXUW2euQ1MkVYonxeDlTvCvttgovjZ/E=|...                     0   \n",
              "__++wGwPFMCSdOO8U5whAyOZEoN46SS0w52BwRfjQsLoo=|...                     0   \n",
              "__+/3dXRoLW1JN1lMs0BhoswWixEFOypduoVk56RdPM7o=|...                     0   \n",
              "\n",
              "                                                    dia_da_semana_Monday  \\\n",
              "SearchId                                                                   \n",
              "__++NJUeirtx5aLEGXp/83/0gJ7UtC4vhTzoEVtoNOQt4=|...                     0   \n",
              "__++ZUTc6QzI0LR1zqWhO+mrFOdTYTxjtoCx/1u00zGUA=|...                     0   \n",
              "__++kJuOA+ktfbXUW2euQ1MkVYonxeDlTvCvttgovjZ/E=|...                     0   \n",
              "__++wGwPFMCSdOO8U5whAyOZEoN46SS0w52BwRfjQsLoo=|...                     0   \n",
              "__+/3dXRoLW1JN1lMs0BhoswWixEFOypduoVk56RdPM7o=|...                     0   \n",
              "\n",
              "                                                    dia_da_semana_Saturday  \\\n",
              "SearchId                                                                     \n",
              "__++NJUeirtx5aLEGXp/83/0gJ7UtC4vhTzoEVtoNOQt4=|...                       1   \n",
              "__++ZUTc6QzI0LR1zqWhO+mrFOdTYTxjtoCx/1u00zGUA=|...                       0   \n",
              "__++kJuOA+ktfbXUW2euQ1MkVYonxeDlTvCvttgovjZ/E=|...                       1   \n",
              "__++wGwPFMCSdOO8U5whAyOZEoN46SS0w52BwRfjQsLoo=|...                       0   \n",
              "__+/3dXRoLW1JN1lMs0BhoswWixEFOypduoVk56RdPM7o=|...                       0   \n",
              "\n",
              "                                                    dia_da_semana_Sunday  \\\n",
              "SearchId                                                                   \n",
              "__++NJUeirtx5aLEGXp/83/0gJ7UtC4vhTzoEVtoNOQt4=|...                     0   \n",
              "__++ZUTc6QzI0LR1zqWhO+mrFOdTYTxjtoCx/1u00zGUA=|...                     0   \n",
              "__++kJuOA+ktfbXUW2euQ1MkVYonxeDlTvCvttgovjZ/E=|...                     0   \n",
              "__++wGwPFMCSdOO8U5whAyOZEoN46SS0w52BwRfjQsLoo=|...                     0   \n",
              "__+/3dXRoLW1JN1lMs0BhoswWixEFOypduoVk56RdPM7o=|...                     0   \n",
              "\n",
              "                                                    dia_da_semana_Thursday  \\\n",
              "SearchId                                                                     \n",
              "__++NJUeirtx5aLEGXp/83/0gJ7UtC4vhTzoEVtoNOQt4=|...                       0   \n",
              "__++ZUTc6QzI0LR1zqWhO+mrFOdTYTxjtoCx/1u00zGUA=|...                       0   \n",
              "__++kJuOA+ktfbXUW2euQ1MkVYonxeDlTvCvttgovjZ/E=|...                       0   \n",
              "__++wGwPFMCSdOO8U5whAyOZEoN46SS0w52BwRfjQsLoo=|...                       0   \n",
              "__+/3dXRoLW1JN1lMs0BhoswWixEFOypduoVk56RdPM7o=|...                       0   \n",
              "\n",
              "                                                    dia_da_semana_Tuesday  \\\n",
              "SearchId                                                                    \n",
              "__++NJUeirtx5aLEGXp/83/0gJ7UtC4vhTzoEVtoNOQt4=|...                      0   \n",
              "__++ZUTc6QzI0LR1zqWhO+mrFOdTYTxjtoCx/1u00zGUA=|...                      0   \n",
              "__++kJuOA+ktfbXUW2euQ1MkVYonxeDlTvCvttgovjZ/E=|...                      0   \n",
              "__++wGwPFMCSdOO8U5whAyOZEoN46SS0w52BwRfjQsLoo=|...                      0   \n",
              "__+/3dXRoLW1JN1lMs0BhoswWixEFOypduoVk56RdPM7o=|...                      0   \n",
              "\n",
              "                                                    dia_da_semana_Wednesday  \\\n",
              "SearchId                                                                      \n",
              "__++NJUeirtx5aLEGXp/83/0gJ7UtC4vhTzoEVtoNOQt4=|...                        0   \n",
              "__++ZUTc6QzI0LR1zqWhO+mrFOdTYTxjtoCx/1u00zGUA=|...                        0   \n",
              "__++kJuOA+ktfbXUW2euQ1MkVYonxeDlTvCvttgovjZ/E=|...                        0   \n",
              "__++wGwPFMCSdOO8U5whAyOZEoN46SS0w52BwRfjQsLoo=|...                        1   \n",
              "__+/3dXRoLW1JN1lMs0BhoswWixEFOypduoVk56RdPM7o=|...                        1   \n",
              "\n",
              "                                                    dia_mes_01  dia_mes_02  \\\n",
              "SearchId                                                                     \n",
              "__++NJUeirtx5aLEGXp/83/0gJ7UtC4vhTzoEVtoNOQt4=|...           0           0   \n",
              "__++ZUTc6QzI0LR1zqWhO+mrFOdTYTxjtoCx/1u00zGUA=|...           0           0   \n",
              "__++kJuOA+ktfbXUW2euQ1MkVYonxeDlTvCvttgovjZ/E=|...           0           0   \n",
              "__++wGwPFMCSdOO8U5whAyOZEoN46SS0w52BwRfjQsLoo=|...           0           0   \n",
              "__+/3dXRoLW1JN1lMs0BhoswWixEFOypduoVk56RdPM7o=|...           0           0   \n",
              "\n",
              "                                                    dia_mes_03  dia_mes_04  \\\n",
              "SearchId                                                                     \n",
              "__++NJUeirtx5aLEGXp/83/0gJ7UtC4vhTzoEVtoNOQt4=|...           0           0   \n",
              "__++ZUTc6QzI0LR1zqWhO+mrFOdTYTxjtoCx/1u00zGUA=|...           0           0   \n",
              "__++kJuOA+ktfbXUW2euQ1MkVYonxeDlTvCvttgovjZ/E=|...           0           0   \n",
              "__++wGwPFMCSdOO8U5whAyOZEoN46SS0w52BwRfjQsLoo=|...           0           0   \n",
              "__+/3dXRoLW1JN1lMs0BhoswWixEFOypduoVk56RdPM7o=|...           0           0   \n",
              "\n",
              "                                                    dia_mes_05  dia_mes_06  \\\n",
              "SearchId                                                                     \n",
              "__++NJUeirtx5aLEGXp/83/0gJ7UtC4vhTzoEVtoNOQt4=|...           0           0   \n",
              "__++ZUTc6QzI0LR1zqWhO+mrFOdTYTxjtoCx/1u00zGUA=|...           1           0   \n",
              "__++kJuOA+ktfbXUW2euQ1MkVYonxeDlTvCvttgovjZ/E=|...           0           0   \n",
              "__++wGwPFMCSdOO8U5whAyOZEoN46SS0w52BwRfjQsLoo=|...           0           0   \n",
              "__+/3dXRoLW1JN1lMs0BhoswWixEFOypduoVk56RdPM7o=|...           0           0   \n",
              "\n",
              "                                                    dia_mes_07  dia_mes_08  \\\n",
              "SearchId                                                                     \n",
              "__++NJUeirtx5aLEGXp/83/0gJ7UtC4vhTzoEVtoNOQt4=|...           0           0   \n",
              "__++ZUTc6QzI0LR1zqWhO+mrFOdTYTxjtoCx/1u00zGUA=|...           0           0   \n",
              "__++kJuOA+ktfbXUW2euQ1MkVYonxeDlTvCvttgovjZ/E=|...           0           0   \n",
              "__++wGwPFMCSdOO8U5whAyOZEoN46SS0w52BwRfjQsLoo=|...           0           0   \n",
              "__+/3dXRoLW1JN1lMs0BhoswWixEFOypduoVk56RdPM7o=|...           0           0   \n",
              "\n",
              "                                                    dia_mes_09  dia_mes_10  \\\n",
              "SearchId                                                                     \n",
              "__++NJUeirtx5aLEGXp/83/0gJ7UtC4vhTzoEVtoNOQt4=|...           0           0   \n",
              "__++ZUTc6QzI0LR1zqWhO+mrFOdTYTxjtoCx/1u00zGUA=|...           0           0   \n",
              "__++kJuOA+ktfbXUW2euQ1MkVYonxeDlTvCvttgovjZ/E=|...           0           0   \n",
              "__++wGwPFMCSdOO8U5whAyOZEoN46SS0w52BwRfjQsLoo=|...           0           0   \n",
              "__+/3dXRoLW1JN1lMs0BhoswWixEFOypduoVk56RdPM7o=|...           0           1   \n",
              "\n",
              "                                                    dia_mes_11  dia_mes_12  \\\n",
              "SearchId                                                                     \n",
              "__++NJUeirtx5aLEGXp/83/0gJ7UtC4vhTzoEVtoNOQt4=|...           0           0   \n",
              "__++ZUTc6QzI0LR1zqWhO+mrFOdTYTxjtoCx/1u00zGUA=|...           0           0   \n",
              "__++kJuOA+ktfbXUW2euQ1MkVYonxeDlTvCvttgovjZ/E=|...           0           0   \n",
              "__++wGwPFMCSdOO8U5whAyOZEoN46SS0w52BwRfjQsLoo=|...           0           0   \n",
              "__+/3dXRoLW1JN1lMs0BhoswWixEFOypduoVk56RdPM7o=|...           0           0   \n",
              "\n",
              "                                                    dia_mes_13  dia_mes_14  \\\n",
              "SearchId                                                                     \n",
              "__++NJUeirtx5aLEGXp/83/0gJ7UtC4vhTzoEVtoNOQt4=|...           0           0   \n",
              "__++ZUTc6QzI0LR1zqWhO+mrFOdTYTxjtoCx/1u00zGUA=|...           0           0   \n",
              "__++kJuOA+ktfbXUW2euQ1MkVYonxeDlTvCvttgovjZ/E=|...           0           0   \n",
              "__++wGwPFMCSdOO8U5whAyOZEoN46SS0w52BwRfjQsLoo=|...           0           1   \n",
              "__+/3dXRoLW1JN1lMs0BhoswWixEFOypduoVk56RdPM7o=|...           0           0   \n",
              "\n",
              "                                                    dia_mes_15  dia_mes_16  \\\n",
              "SearchId                                                                     \n",
              "__++NJUeirtx5aLEGXp/83/0gJ7UtC4vhTzoEVtoNOQt4=|...           0           0   \n",
              "__++ZUTc6QzI0LR1zqWhO+mrFOdTYTxjtoCx/1u00zGUA=|...           0           0   \n",
              "__++kJuOA+ktfbXUW2euQ1MkVYonxeDlTvCvttgovjZ/E=|...           0           0   \n",
              "__++wGwPFMCSdOO8U5whAyOZEoN46SS0w52BwRfjQsLoo=|...           0           0   \n",
              "__+/3dXRoLW1JN1lMs0BhoswWixEFOypduoVk56RdPM7o=|...           0           0   \n",
              "\n",
              "                                                    dia_mes_17  dia_mes_18  \\\n",
              "SearchId                                                                     \n",
              "__++NJUeirtx5aLEGXp/83/0gJ7UtC4vhTzoEVtoNOQt4=|...           0           0   \n",
              "__++ZUTc6QzI0LR1zqWhO+mrFOdTYTxjtoCx/1u00zGUA=|...           0           0   \n",
              "__++kJuOA+ktfbXUW2euQ1MkVYonxeDlTvCvttgovjZ/E=|...           0           0   \n",
              "__++wGwPFMCSdOO8U5whAyOZEoN46SS0w52BwRfjQsLoo=|...           0           0   \n",
              "__+/3dXRoLW1JN1lMs0BhoswWixEFOypduoVk56RdPM7o=|...           0           0   \n",
              "\n",
              "                                                    dia_mes_19  dia_mes_20  \\\n",
              "SearchId                                                                     \n",
              "__++NJUeirtx5aLEGXp/83/0gJ7UtC4vhTzoEVtoNOQt4=|...           0           0   \n",
              "__++ZUTc6QzI0LR1zqWhO+mrFOdTYTxjtoCx/1u00zGUA=|...           0           0   \n",
              "__++kJuOA+ktfbXUW2euQ1MkVYonxeDlTvCvttgovjZ/E=|...           0           0   \n",
              "__++wGwPFMCSdOO8U5whAyOZEoN46SS0w52BwRfjQsLoo=|...           0           0   \n",
              "__+/3dXRoLW1JN1lMs0BhoswWixEFOypduoVk56RdPM7o=|...           0           0   \n",
              "\n",
              "                                                    dia_mes_21  dia_mes_22  \\\n",
              "SearchId                                                                     \n",
              "__++NJUeirtx5aLEGXp/83/0gJ7UtC4vhTzoEVtoNOQt4=|...           0           0   \n",
              "__++ZUTc6QzI0LR1zqWhO+mrFOdTYTxjtoCx/1u00zGUA=|...           0           0   \n",
              "__++kJuOA+ktfbXUW2euQ1MkVYonxeDlTvCvttgovjZ/E=|...           0           0   \n",
              "__++wGwPFMCSdOO8U5whAyOZEoN46SS0w52BwRfjQsLoo=|...           0           0   \n",
              "__+/3dXRoLW1JN1lMs0BhoswWixEFOypduoVk56RdPM7o=|...           0           0   \n",
              "\n",
              "                                                    dia_mes_23  dia_mes_24  \\\n",
              "SearchId                                                                     \n",
              "__++NJUeirtx5aLEGXp/83/0gJ7UtC4vhTzoEVtoNOQt4=|...           0           1   \n",
              "__++ZUTc6QzI0LR1zqWhO+mrFOdTYTxjtoCx/1u00zGUA=|...           0           0   \n",
              "__++kJuOA+ktfbXUW2euQ1MkVYonxeDlTvCvttgovjZ/E=|...           0           0   \n",
              "__++wGwPFMCSdOO8U5whAyOZEoN46SS0w52BwRfjQsLoo=|...           0           0   \n",
              "__+/3dXRoLW1JN1lMs0BhoswWixEFOypduoVk56RdPM7o=|...           0           0   \n",
              "\n",
              "                                                    dia_mes_25  dia_mes_26  \\\n",
              "SearchId                                                                     \n",
              "__++NJUeirtx5aLEGXp/83/0gJ7UtC4vhTzoEVtoNOQt4=|...           0           0   \n",
              "__++ZUTc6QzI0LR1zqWhO+mrFOdTYTxjtoCx/1u00zGUA=|...           0           0   \n",
              "__++kJuOA+ktfbXUW2euQ1MkVYonxeDlTvCvttgovjZ/E=|...           0           0   \n",
              "__++wGwPFMCSdOO8U5whAyOZEoN46SS0w52BwRfjQsLoo=|...           0           0   \n",
              "__+/3dXRoLW1JN1lMs0BhoswWixEFOypduoVk56RdPM7o=|...           0           0   \n",
              "\n",
              "                                                    dia_mes_27  dia_mes_28  \\\n",
              "SearchId                                                                     \n",
              "__++NJUeirtx5aLEGXp/83/0gJ7UtC4vhTzoEVtoNOQt4=|...           0           0   \n",
              "__++ZUTc6QzI0LR1zqWhO+mrFOdTYTxjtoCx/1u00zGUA=|...           0           0   \n",
              "__++kJuOA+ktfbXUW2euQ1MkVYonxeDlTvCvttgovjZ/E=|...           0           0   \n",
              "__++wGwPFMCSdOO8U5whAyOZEoN46SS0w52BwRfjQsLoo=|...           0           0   \n",
              "__+/3dXRoLW1JN1lMs0BhoswWixEFOypduoVk56RdPM7o=|...           0           0   \n",
              "\n",
              "                                                    dia_mes_29  dia_mes_30  \\\n",
              "SearchId                                                                     \n",
              "__++NJUeirtx5aLEGXp/83/0gJ7UtC4vhTzoEVtoNOQt4=|...           0           0   \n",
              "__++ZUTc6QzI0LR1zqWhO+mrFOdTYTxjtoCx/1u00zGUA=|...           0           0   \n",
              "__++kJuOA+ktfbXUW2euQ1MkVYonxeDlTvCvttgovjZ/E=|...           1           0   \n",
              "__++wGwPFMCSdOO8U5whAyOZEoN46SS0w52BwRfjQsLoo=|...           0           0   \n",
              "__+/3dXRoLW1JN1lMs0BhoswWixEFOypduoVk56RdPM7o=|...           0           0   \n",
              "\n",
              "                                                    dia_mes_31  hora_00  \\\n",
              "SearchId                                                                  \n",
              "__++NJUeirtx5aLEGXp/83/0gJ7UtC4vhTzoEVtoNOQt4=|...           0        0   \n",
              "__++ZUTc6QzI0LR1zqWhO+mrFOdTYTxjtoCx/1u00zGUA=|...           0        0   \n",
              "__++kJuOA+ktfbXUW2euQ1MkVYonxeDlTvCvttgovjZ/E=|...           0        0   \n",
              "__++wGwPFMCSdOO8U5whAyOZEoN46SS0w52BwRfjQsLoo=|...           0        1   \n",
              "__+/3dXRoLW1JN1lMs0BhoswWixEFOypduoVk56RdPM7o=|...           0        0   \n",
              "\n",
              "                                                    hora_01  hora_02  hora_03  \\\n",
              "SearchId                                                                        \n",
              "__++NJUeirtx5aLEGXp/83/0gJ7UtC4vhTzoEVtoNOQt4=|...        0        0        0   \n",
              "__++ZUTc6QzI0LR1zqWhO+mrFOdTYTxjtoCx/1u00zGUA=|...        0        0        0   \n",
              "__++kJuOA+ktfbXUW2euQ1MkVYonxeDlTvCvttgovjZ/E=|...        0        0        0   \n",
              "__++wGwPFMCSdOO8U5whAyOZEoN46SS0w52BwRfjQsLoo=|...        0        0        0   \n",
              "__+/3dXRoLW1JN1lMs0BhoswWixEFOypduoVk56RdPM7o=|...        0        0        0   \n",
              "\n",
              "                                                    hora_04  hora_05  hora_06  \\\n",
              "SearchId                                                                        \n",
              "__++NJUeirtx5aLEGXp/83/0gJ7UtC4vhTzoEVtoNOQt4=|...        0        0        0   \n",
              "__++ZUTc6QzI0LR1zqWhO+mrFOdTYTxjtoCx/1u00zGUA=|...        0        0        0   \n",
              "__++kJuOA+ktfbXUW2euQ1MkVYonxeDlTvCvttgovjZ/E=|...        0        0        0   \n",
              "__++wGwPFMCSdOO8U5whAyOZEoN46SS0w52BwRfjQsLoo=|...        0        0        0   \n",
              "__+/3dXRoLW1JN1lMs0BhoswWixEFOypduoVk56RdPM7o=|...        0        0        0   \n",
              "\n",
              "                                                    hora_07  hora_08  hora_09  \\\n",
              "SearchId                                                                        \n",
              "__++NJUeirtx5aLEGXp/83/0gJ7UtC4vhTzoEVtoNOQt4=|...        0        0        0   \n",
              "__++ZUTc6QzI0LR1zqWhO+mrFOdTYTxjtoCx/1u00zGUA=|...        0        0        0   \n",
              "__++kJuOA+ktfbXUW2euQ1MkVYonxeDlTvCvttgovjZ/E=|...        0        0        0   \n",
              "__++wGwPFMCSdOO8U5whAyOZEoN46SS0w52BwRfjQsLoo=|...        0        0        0   \n",
              "__+/3dXRoLW1JN1lMs0BhoswWixEFOypduoVk56RdPM7o=|...        0        0        0   \n",
              "\n",
              "                                                    hora_10  hora_11  hora_12  \\\n",
              "SearchId                                                                        \n",
              "__++NJUeirtx5aLEGXp/83/0gJ7UtC4vhTzoEVtoNOQt4=|...        0        0        0   \n",
              "__++ZUTc6QzI0LR1zqWhO+mrFOdTYTxjtoCx/1u00zGUA=|...        0        0        0   \n",
              "__++kJuOA+ktfbXUW2euQ1MkVYonxeDlTvCvttgovjZ/E=|...        0        0        0   \n",
              "__++wGwPFMCSdOO8U5whAyOZEoN46SS0w52BwRfjQsLoo=|...        0        0        0   \n",
              "__+/3dXRoLW1JN1lMs0BhoswWixEFOypduoVk56RdPM7o=|...        0        0        0   \n",
              "\n",
              "                                                    hora_13  hora_14  hora_15  \\\n",
              "SearchId                                                                        \n",
              "__++NJUeirtx5aLEGXp/83/0gJ7UtC4vhTzoEVtoNOQt4=|...        0        1        0   \n",
              "__++ZUTc6QzI0LR1zqWhO+mrFOdTYTxjtoCx/1u00zGUA=|...        0        0        0   \n",
              "__++kJuOA+ktfbXUW2euQ1MkVYonxeDlTvCvttgovjZ/E=|...        0        0        0   \n",
              "__++wGwPFMCSdOO8U5whAyOZEoN46SS0w52BwRfjQsLoo=|...        0        0        0   \n",
              "__+/3dXRoLW1JN1lMs0BhoswWixEFOypduoVk56RdPM7o=|...        0        0        0   \n",
              "\n",
              "                                                    hora_16  hora_17  hora_18  \\\n",
              "SearchId                                                                        \n",
              "__++NJUeirtx5aLEGXp/83/0gJ7UtC4vhTzoEVtoNOQt4=|...        0        0        0   \n",
              "__++ZUTc6QzI0LR1zqWhO+mrFOdTYTxjtoCx/1u00zGUA=|...        0        0        0   \n",
              "__++kJuOA+ktfbXUW2euQ1MkVYonxeDlTvCvttgovjZ/E=|...        0        1        0   \n",
              "__++wGwPFMCSdOO8U5whAyOZEoN46SS0w52BwRfjQsLoo=|...        0        0        0   \n",
              "__+/3dXRoLW1JN1lMs0BhoswWixEFOypduoVk56RdPM7o=|...        0        0        0   \n",
              "\n",
              "                                                    hora_19  hora_20  hora_21  \\\n",
              "SearchId                                                                        \n",
              "__++NJUeirtx5aLEGXp/83/0gJ7UtC4vhTzoEVtoNOQt4=|...        0        0        0   \n",
              "__++ZUTc6QzI0LR1zqWhO+mrFOdTYTxjtoCx/1u00zGUA=|...        1        0        0   \n",
              "__++kJuOA+ktfbXUW2euQ1MkVYonxeDlTvCvttgovjZ/E=|...        0        0        0   \n",
              "__++wGwPFMCSdOO8U5whAyOZEoN46SS0w52BwRfjQsLoo=|...        0        0        0   \n",
              "__+/3dXRoLW1JN1lMs0BhoswWixEFOypduoVk56RdPM7o=|...        0        0        0   \n",
              "\n",
              "                                                    hora_22  hora_23  \n",
              "SearchId                                                              \n",
              "__++NJUeirtx5aLEGXp/83/0gJ7UtC4vhTzoEVtoNOQt4=|...        0        0  \n",
              "__++ZUTc6QzI0LR1zqWhO+mrFOdTYTxjtoCx/1u00zGUA=|...        0        0  \n",
              "__++kJuOA+ktfbXUW2euQ1MkVYonxeDlTvCvttgovjZ/E=|...        0        0  \n",
              "__++wGwPFMCSdOO8U5whAyOZEoN46SS0w52BwRfjQsLoo=|...        0        0  \n",
              "__+/3dXRoLW1JN1lMs0BhoswWixEFOypduoVk56RdPM7o=|...        1        0  "
            ]
          },
          "metadata": {
            "tags": []
          },
          "execution_count": 233
        }
      ]
    },
    {
      "cell_type": "markdown",
      "metadata": {
        "id": "PIUF-JaD_bNP"
      },
      "source": [
        "Substituindo o preço médio na lista convertida pelo preço convertido"
      ]
    },
    {
      "cell_type": "code",
      "metadata": {
        "id": "I4Yd-vJz_TW-"
      },
      "source": [
        "dfmod.loc[dfmod['target_conv'] > 0, 'preco_medio'] = dfmod.preco_conv\n",
        "dfmod = dfmod.drop('preco_conv', axis=1)\n",
        "dfmod.loc[dfmod['target_conv'] > 0, 'quality_medio'] = dfmod.quality_conv\n",
        "dfmod = dfmod.drop('quality_conv', axis=1)"
      ],
      "execution_count": null,
      "outputs": []
    },
    {
      "cell_type": "markdown",
      "metadata": {
        "id": "lsoAclxWwtYM"
      },
      "source": [
        "### Seleção das Variáveis (Mutual information)"
      ]
    },
    {
      "cell_type": "code",
      "metadata": {
        "id": "8FA-KouOwxx4"
      },
      "source": [
        "# Dividindo o dataframe (tdf) entre variáveis explicativas (X) e de resposta (Y)\n",
        "X= dfmod.drop('target_conv', axis=1)\n",
        "y = dfmod.target_conv\n",
        "\n",
        "# Scaling\n",
        "scaler = StandardScaler()\n",
        "X = pd.DataFrame(scaler.fit_transform(X), columns=list(X.columns))"
      ],
      "execution_count": null,
      "outputs": []
    },
    {
      "cell_type": "code",
      "metadata": {
        "id": "Lkz9ow7CxOME"
      },
      "source": [
        "# Separando o conjunto de dados treinamento e teste\n",
        "X_train, X_test, y_train, y_test = train_test_split(X, y, test_size=1, random_state=123)"
      ],
      "execution_count": null,
      "outputs": []
    },
    {
      "cell_type": "code",
      "metadata": {
        "id": "_WugaIQZxP-7",
        "colab": {
          "base_uri": "https://localhost:8080/"
        },
        "outputId": "785a733b-69e0-4ddc-cf92-e24f6462e640"
      },
      "source": [
        "# definindo o modelo de seleção. \n",
        "mi = mutual_info_classif(X_train.fillna(0), y_train)\n",
        "mi"
      ],
      "execution_count": null,
      "outputs": [
        {
          "output_type": "execute_result",
          "data": {
            "text/plain": [
              "array([9.35948405e-04, 1.97341261e-01, 2.81974062e-03, 2.20780565e-01,\n",
              "       4.73862204e-03, 4.68029917e-03, 1.46063963e-03, 3.24217297e-03,\n",
              "       2.71716726e-03, 2.22554704e-03, 2.19327258e-03, 3.75181819e-03,\n",
              "       1.29628395e-03, 9.04108590e-04, 1.37248569e-03, 2.42440785e-03,\n",
              "       0.00000000e+00, 1.85020956e-03, 0.00000000e+00, 7.61259086e-04,\n",
              "       2.93277297e-03, 1.07090280e-03, 1.16670931e-03, 4.79304624e-04,\n",
              "       2.50789239e-03, 2.50316857e-03, 6.34569050e-04, 2.96734732e-03,\n",
              "       0.00000000e+00, 1.40852735e-03, 4.50370996e-04, 2.62459451e-03,\n",
              "       0.00000000e+00, 3.57035936e-03, 7.87143695e-04, 2.61975668e-04,\n",
              "       1.92129570e-03, 2.28552201e-03, 1.85126079e-03, 3.47533371e-03,\n",
              "       0.00000000e+00, 0.00000000e+00, 7.50066019e-04, 0.00000000e+00,\n",
              "       6.97477160e-05, 0.00000000e+00, 1.60503283e-03, 1.80643674e-03,\n",
              "       4.42770723e-04, 1.66291784e-03, 2.33848545e-03, 2.83542917e-04,\n",
              "       0.00000000e+00, 2.25084117e-03, 0.00000000e+00, 5.31991341e-04,\n",
              "       0.00000000e+00, 0.00000000e+00, 0.00000000e+00, 5.78153763e-05,\n",
              "       1.13900472e-03, 3.59097012e-03, 1.56722724e-03, 1.74907728e-03,\n",
              "       8.57451073e-04, 0.00000000e+00, 0.00000000e+00, 0.00000000e+00,\n",
              "       6.52088487e-04, 2.09177534e-04, 2.22559620e-03, 2.45507844e-03,\n",
              "       2.09124980e-03, 1.40911655e-03, 1.47835541e-03, 2.26320403e-03,\n",
              "       3.41485374e-03, 1.69177938e-03, 8.04243730e-04, 3.90620430e-04,\n",
              "       2.20854931e-03, 3.08180335e-04, 2.97538007e-03])"
            ]
          },
          "metadata": {
            "tags": []
          },
          "execution_count": 237
        }
      ]
    },
    {
      "cell_type": "code",
      "metadata": {
        "id": "__jBLnjlxiAk",
        "colab": {
          "base_uri": "https://localhost:8080/"
        },
        "outputId": "9cfb89b5-52e1-4a4b-e6c2-aa53521e0570"
      },
      "source": [
        "# Ranking da variáveis explicativas\n",
        "mi = pd.Series(mi)\n",
        "mi.index = X_train.columns\n",
        "mi.sort_values(ascending=False)"
      ],
      "execution_count": null,
      "outputs": [
        {
          "output_type": "execute_result",
          "data": {
            "text/plain": [
              "quality_medio                  0.220781\n",
              "preco_medio                    0.197341\n",
              "amplitude_quality              0.004739\n",
              "mean_DealerETAGroup_10_15      0.004680\n",
              "mean_LIQUIGAS                  0.003752\n",
              "hora_02                        0.003591\n",
              "dia_mes_06                     0.003570\n",
              "dia_mes_12                     0.003475\n",
              "hora_17                        0.003415\n",
              "mean_DealerETAGroup_30_45      0.003242\n",
              "hora_23                        0.002975\n",
              "dia_da_semana_Wednesday        0.002967\n",
              "mean_N_A                       0.002933\n",
              "amplitude_preco                0.002820\n",
              "mean_DealerETAGroup_45_60      0.002717\n",
              "dia_mes_04                     0.002625\n",
              "dia_da_semana_Sunday           0.002508\n",
              "dia_da_semana_Thursday         0.002503\n",
              "hora_12                        0.002455\n",
              "mean_ULTRAGAZ                  0.002424\n",
              "dia_mes_23                     0.002338\n",
              "dia_mes_10                     0.002286\n",
              "hora_16                        0.002263\n",
              "dia_mes_26                     0.002251\n",
              "hora_11                        0.002226\n",
              "mean_CONSIGAZ                  0.002226\n",
              "hora_21                        0.002209\n",
              "mean_COPAGAZ                   0.002193\n",
              "hora_13                        0.002091\n",
              "dia_mes_09                     0.001921\n",
              "dia_mes_11                     0.001851\n",
              "mean_BestPrice                 0.001850\n",
              "dia_mes_20                     0.001806\n",
              "hora_04                        0.001749\n",
              "hora_18                        0.001692\n",
              "dia_mes_22                     0.001663\n",
              "dia_mes_19                     0.001605\n",
              "hora_03                        0.001567\n",
              "hora_15                        0.001478\n",
              "mean_DealerETAGroup_15_30      0.001461\n",
              "hora_14                        0.001409\n",
              "dia_mes_02                     0.001409\n",
              "mean_SUPERGASBRAS              0.001372\n",
              "mean_MULTIMARCAS               0.001296\n",
              "dia_da_semana_Monday           0.001167\n",
              "hora_01                        0.001139\n",
              "dia_da_semana_Friday           0.001071\n",
              "n_rev                          0.000936\n",
              "mean_NACIONALGAS               0.000904\n",
              "hora_05                        0.000857\n",
              "hora_19                        0.000804\n",
              "dia_mes_07                     0.000787\n",
              "mean_MobileDealer              0.000761\n",
              "dia_mes_15                     0.000750\n",
              "hora_09                        0.000652\n",
              "dia_da_semana_Tuesday          0.000635\n",
              "dia_mes_28                     0.000532\n",
              "dia_da_semana_Saturday         0.000479\n",
              "dia_mes_03                     0.000450\n",
              "dia_mes_21                     0.000443\n",
              "hora_20                        0.000391\n",
              "hora_22                        0.000308\n",
              "dia_mes_24                     0.000284\n",
              "dia_mes_08                     0.000262\n",
              "hora_10                        0.000209\n",
              "dia_mes_17                     0.000070\n",
              "hora_00                        0.000058\n",
              "dia_mes_31                     0.000000\n",
              "hora_08                        0.000000\n",
              "hora_07                        0.000000\n",
              "hora_06                        0.000000\n",
              "dia_mes_25                     0.000000\n",
              "dia_mes_30                     0.000000\n",
              "dia_mes_29                     0.000000\n",
              "dia_mes_27                     0.000000\n",
              "mean_BestDeal                  0.000000\n",
              "mean_BestPrice_MobileDealer    0.000000\n",
              "dia_mes_18                     0.000000\n",
              "dia_mes_16                     0.000000\n",
              "dia_mes_01                     0.000000\n",
              "dia_mes_13                     0.000000\n",
              "dia_mes_05                     0.000000\n",
              "dia_mes_14                     0.000000\n",
              "dtype: float64"
            ]
          },
          "metadata": {
            "tags": []
          },
          "execution_count": 245
        }
      ]
    },
    {
      "cell_type": "code",
      "metadata": {
        "colab": {
          "base_uri": "https://localhost:8080/"
        },
        "id": "QwEC8UGORPVF",
        "outputId": "285999d4-dcfe-40f1-8f44-585bdbf58a1a"
      },
      "source": [
        "mi"
      ],
      "execution_count": null,
      "outputs": [
        {
          "output_type": "execute_result",
          "data": {
            "text/plain": [
              "n_rev                          0.000936\n",
              "preco_medio                    0.197341\n",
              "amplitude_preco                0.002820\n",
              "quality_medio                  0.220781\n",
              "amplitude_quality              0.004739\n",
              "mean_DealerETAGroup_10_15      0.004680\n",
              "mean_DealerETAGroup_15_30      0.001461\n",
              "mean_DealerETAGroup_30_45      0.003242\n",
              "mean_DealerETAGroup_45_60      0.002717\n",
              "mean_CONSIGAZ                  0.002226\n",
              "mean_COPAGAZ                   0.002193\n",
              "mean_LIQUIGAS                  0.003752\n",
              "mean_MULTIMARCAS               0.001296\n",
              "mean_NACIONALGAS               0.000904\n",
              "mean_SUPERGASBRAS              0.001372\n",
              "mean_ULTRAGAZ                  0.002424\n",
              "mean_BestDeal                  0.000000\n",
              "mean_BestPrice                 0.001850\n",
              "mean_BestPrice_MobileDealer    0.000000\n",
              "mean_MobileDealer              0.000761\n",
              "mean_N_A                       0.002933\n",
              "dia_da_semana_Friday           0.001071\n",
              "dia_da_semana_Monday           0.001167\n",
              "dia_da_semana_Saturday         0.000479\n",
              "dia_da_semana_Sunday           0.002508\n",
              "dia_da_semana_Thursday         0.002503\n",
              "dia_da_semana_Tuesday          0.000635\n",
              "dia_da_semana_Wednesday        0.002967\n",
              "dia_mes_01                     0.000000\n",
              "dia_mes_02                     0.001409\n",
              "dia_mes_03                     0.000450\n",
              "dia_mes_04                     0.002625\n",
              "dia_mes_05                     0.000000\n",
              "dia_mes_06                     0.003570\n",
              "dia_mes_07                     0.000787\n",
              "dia_mes_08                     0.000262\n",
              "dia_mes_09                     0.001921\n",
              "dia_mes_10                     0.002286\n",
              "dia_mes_11                     0.001851\n",
              "dia_mes_12                     0.003475\n",
              "dia_mes_13                     0.000000\n",
              "dia_mes_14                     0.000000\n",
              "dia_mes_15                     0.000750\n",
              "dia_mes_16                     0.000000\n",
              "dia_mes_17                     0.000070\n",
              "dia_mes_18                     0.000000\n",
              "dia_mes_19                     0.001605\n",
              "dia_mes_20                     0.001806\n",
              "dia_mes_21                     0.000443\n",
              "dia_mes_22                     0.001663\n",
              "dia_mes_23                     0.002338\n",
              "dia_mes_24                     0.000284\n",
              "dia_mes_25                     0.000000\n",
              "dia_mes_26                     0.002251\n",
              "dia_mes_27                     0.000000\n",
              "dia_mes_28                     0.000532\n",
              "dia_mes_29                     0.000000\n",
              "dia_mes_30                     0.000000\n",
              "dia_mes_31                     0.000000\n",
              "hora_00                        0.000058\n",
              "hora_01                        0.001139\n",
              "hora_02                        0.003591\n",
              "hora_03                        0.001567\n",
              "hora_04                        0.001749\n",
              "hora_05                        0.000857\n",
              "hora_06                        0.000000\n",
              "hora_07                        0.000000\n",
              "hora_08                        0.000000\n",
              "hora_09                        0.000652\n",
              "hora_10                        0.000209\n",
              "hora_11                        0.002226\n",
              "hora_12                        0.002455\n",
              "hora_13                        0.002091\n",
              "hora_14                        0.001409\n",
              "hora_15                        0.001478\n",
              "hora_16                        0.002263\n",
              "hora_17                        0.003415\n",
              "hora_18                        0.001692\n",
              "hora_19                        0.000804\n",
              "hora_20                        0.000391\n",
              "hora_21                        0.002209\n",
              "hora_22                        0.000308\n",
              "hora_23                        0.002975\n",
              "dtype: float64"
            ]
          },
          "metadata": {
            "tags": []
          },
          "execution_count": 244
        }
      ]
    },
    {
      "cell_type": "code",
      "metadata": {
        "id": "dQHuX2QIxqu5",
        "colab": {
          "base_uri": "https://localhost:8080/",
          "height": 660
        },
        "outputId": "72b0200a-4054-4d11-ae6d-4d660c2f453c"
      },
      "source": [
        "# Ranking da variáveis explicativas por gráfico\n",
        "mi.sort_values(ascending=False).plot.bar(figsize=(20, 8))"
      ],
      "execution_count": null,
      "outputs": [
        {
          "output_type": "execute_result",
          "data": {
            "text/plain": [
              "<matplotlib.axes._subplots.AxesSubplot at 0x7f2b6947a4d0>"
            ]
          },
          "metadata": {
            "tags": []
          },
          "execution_count": 239
        },
        {
          "output_type": "display_data",
          "data": {
            "image/png": "[encoded data removed]",
            "text/plain": [
              "<Figure size 1440x576 with 1 Axes>"
            ]
          },
          "metadata": {
            "tags": []
          }
        }
      ]
    },
    {
      "cell_type": "code",
      "metadata": {
        "id": "CBg3YKVrxxaC"
      },
      "source": [
        "# Selecionando 30% das 66 variáveis do dataframe do modelo (tdf) conforme o ranking\n",
        "#sel_ = SelectPercentile(mutual_info_regression, percentile=60).fit(X_train.fillna(0), y_train)\n",
        "#df_var_mod = X_train.columns[sel_.get_support()]"
      ],
      "execution_count": null,
      "outputs": []
    },
    {
      "cell_type": "code",
      "metadata": {
        "id": "n6UCvaajCV21"
      },
      "source": [
        "# Listando 30% as variáveis importantes\n",
        "#df_var_mod"
      ],
      "execution_count": null,
      "outputs": []
    },
    {
      "cell_type": "code",
      "metadata": {
        "colab": {
          "base_uri": "https://localhost:8080/"
        },
        "id": "vbousiOPR2Vl",
        "outputId": "5ca309b3-43c8-40f6-e73f-05bd932329ed"
      },
      "source": [
        "mi.sort_values(ascending=False)"
      ],
      "execution_count": null,
      "outputs": [
        {
          "output_type": "execute_result",
          "data": {
            "text/plain": [
              "quality_medio                  0.220781\n",
              "preco_medio                    0.197341\n",
              "amplitude_quality              0.004739\n",
              "mean_DealerETAGroup_10_15      0.004680\n",
              "mean_LIQUIGAS                  0.003752\n",
              "hora_02                        0.003591\n",
              "dia_mes_06                     0.003570\n",
              "dia_mes_12                     0.003475\n",
              "hora_17                        0.003415\n",
              "mean_DealerETAGroup_30_45      0.003242\n",
              "hora_23                        0.002975\n",
              "dia_da_semana_Wednesday        0.002967\n",
              "mean_N_A                       0.002933\n",
              "amplitude_preco                0.002820\n",
              "mean_DealerETAGroup_45_60      0.002717\n",
              "dia_mes_04                     0.002625\n",
              "dia_da_semana_Sunday           0.002508\n",
              "dia_da_semana_Thursday         0.002503\n",
              "hora_12                        0.002455\n",
              "mean_ULTRAGAZ                  0.002424\n",
              "dia_mes_23                     0.002338\n",
              "dia_mes_10                     0.002286\n",
              "hora_16                        0.002263\n",
              "dia_mes_26                     0.002251\n",
              "hora_11                        0.002226\n",
              "mean_CONSIGAZ                  0.002226\n",
              "hora_21                        0.002209\n",
              "mean_COPAGAZ                   0.002193\n",
              "hora_13                        0.002091\n",
              "dia_mes_09                     0.001921\n",
              "dia_mes_11                     0.001851\n",
              "mean_BestPrice                 0.001850\n",
              "dia_mes_20                     0.001806\n",
              "hora_04                        0.001749\n",
              "hora_18                        0.001692\n",
              "dia_mes_22                     0.001663\n",
              "dia_mes_19                     0.001605\n",
              "hora_03                        0.001567\n",
              "hora_15                        0.001478\n",
              "mean_DealerETAGroup_15_30      0.001461\n",
              "hora_14                        0.001409\n",
              "dia_mes_02                     0.001409\n",
              "mean_SUPERGASBRAS              0.001372\n",
              "mean_MULTIMARCAS               0.001296\n",
              "dia_da_semana_Monday           0.001167\n",
              "hora_01                        0.001139\n",
              "dia_da_semana_Friday           0.001071\n",
              "n_rev                          0.000936\n",
              "mean_NACIONALGAS               0.000904\n",
              "hora_05                        0.000857\n",
              "hora_19                        0.000804\n",
              "dia_mes_07                     0.000787\n",
              "mean_MobileDealer              0.000761\n",
              "dia_mes_15                     0.000750\n",
              "hora_09                        0.000652\n",
              "dia_da_semana_Tuesday          0.000635\n",
              "dia_mes_28                     0.000532\n",
              "dia_da_semana_Saturday         0.000479\n",
              "dia_mes_03                     0.000450\n",
              "dia_mes_21                     0.000443\n",
              "hora_20                        0.000391\n",
              "hora_22                        0.000308\n",
              "dia_mes_24                     0.000284\n",
              "dia_mes_08                     0.000262\n",
              "hora_10                        0.000209\n",
              "dia_mes_17                     0.000070\n",
              "hora_00                        0.000058\n",
              "dia_mes_31                     0.000000\n",
              "hora_08                        0.000000\n",
              "hora_07                        0.000000\n",
              "hora_06                        0.000000\n",
              "dia_mes_25                     0.000000\n",
              "dia_mes_30                     0.000000\n",
              "dia_mes_29                     0.000000\n",
              "dia_mes_27                     0.000000\n",
              "mean_BestDeal                  0.000000\n",
              "mean_BestPrice_MobileDealer    0.000000\n",
              "dia_mes_18                     0.000000\n",
              "dia_mes_16                     0.000000\n",
              "dia_mes_01                     0.000000\n",
              "dia_mes_13                     0.000000\n",
              "dia_mes_05                     0.000000\n",
              "dia_mes_14                     0.000000\n",
              "dtype: float64"
            ]
          },
          "metadata": {
            "tags": []
          },
          "execution_count": 246
        }
      ]
    },
    {
      "cell_type": "code",
      "metadata": {
        "id": "Xyd7SCJ45jqK"
      },
      "source": [
        "# dropando da base dfmod variáveis consideradas pelo modelo MI sem informação\n",
        "cols_to_drop = ['dia_mes_31',\n",
        "                'hora_08',\n",
        "                'dia_mes_25',\n",
        "                'hora_07',\n",
        "                'hora_06',\n",
        "                'dia_mes_30',\n",
        "                'dia_mes_29',\n",
        "                'dia_mes_27',\n",
        "                'mean_BestDeal',\n",
        "                'mean_BestPrice_MobileDealer',\n",
        "                'dia_mes_18',\n",
        "                'dia_mes_16',\n",
        "                'dia_mes_01',\n",
        "                'dia_mes_13',\n",
        "                'dia_mes_05',\n",
        "                'dia_mes_14']\n",
        "dfmod = dfmod.drop(cols_to_drop, axis=1)"
      ],
      "execution_count": null,
      "outputs": []
    },
    {
      "cell_type": "markdown",
      "metadata": {
        "id": "vTgqrsn57GNY"
      },
      "source": [
        "### Matriz de Correlação"
      ]
    },
    {
      "cell_type": "code",
      "metadata": {
        "id": "ZiQ-X59d7iBB"
      },
      "source": [
        "# Criando um mapa de calor entre os atributos \n",
        "\n",
        "def multi_collinearity_heatmap(df, figsize=(11,9)):    \n",
        "    # Estilo de Visualização\n",
        "    sns.set(style=\"white\")\n",
        "    # Matriz de Correlação \n",
        "    corr = df.corr()\n",
        "    # Mascara de tamanho da matriz de correlação \n",
        "    mask = np.zeros_like(corr, dtype=np.bool)\n",
        "    mask[np.triu_indices_from(mask)] = True\n",
        "    # Configuração do tamanho do gráfico \n",
        "    f, ax = plt.subplots(figsize=figsize)\n",
        "    # Mapas de cores\n",
        "    cmap = sns.diverging_palette(220, 10, as_cmap=True)\n",
        "    # Definido o mapa de calor com a proporção correta\n",
        "    sns.heatmap(corr, mask=mask, cmap=cmap, center=0, square=True, linewidths=.5, cbar_kws={\"shrink\": .5}, vmax=corr[corr != 1.0].max().max());"
      ],
      "execution_count": null,
      "outputs": []
    },
    {
      "cell_type": "code",
      "metadata": {
        "colab": {
          "base_uri": "https://localhost:8080/",
          "height": 1000
        },
        "id": "5xIE2CZ07IEo",
        "outputId": "8a4561fd-0c1e-4404-dacb-e1ff59e8795d"
      },
      "source": [
        "plt.figure(figsize=(25,12))\n",
        "multi_collinearity_heatmap(dfmod, figsize=(20,20))"
      ],
      "execution_count": null,
      "outputs": [
        {
          "output_type": "display_data",
          "data": {
            "text/plain": [
              "<Figure size 1800x864 with 0 Axes>"
            ]
          },
          "metadata": {
            "tags": []
          }
        },
        {
          "output_type": "display_data",
          "data": {
            "image/png": "[encoded data removed]",
            "text/plain": [
              "<Figure size 1440x1440 with 2 Axes>"
            ]
          },
          "metadata": {
            "tags": []
          }
        }
      ]
    },
    {
      "cell_type": "markdown",
      "metadata": {
        "id": "TbHuyO3C8U7w"
      },
      "source": [
        "# Modelo Preditivo"
      ]
    },
    {
      "cell_type": "code",
      "metadata": {
        "id": "CkdMqCwuqLrF"
      },
      "source": [
        "# Separando o conjunto de dados treinamento e teste\n",
        "\n",
        "X_train, X_test, y_train, y_test = train_test_split(dfmod.drop('target_conv', axis=1),dfmod['target_conv'], test_size=0.2, random_state=0)"
      ],
      "execution_count": null,
      "outputs": []
    },
    {
      "cell_type": "code",
      "metadata": {
        "id": "G0wuvnSnj_l4"
      },
      "source": [
        "# Balanceado o conjunto de dados - grupo controle e grupo tratamento\n",
        "\n",
        "import random\n",
        "pos_index = y_train[y_train.values == 1].index\n",
        "neg_index = y_train[y_train.values == 0].index\n",
        "if len(pos_index) > len(neg_index):\n",
        "  higher = pos_index\n",
        "  lower = neg_index\n",
        "else:\n",
        "  higher = neg_index\n",
        "  lower = pos_index\n",
        "random.seed(0)\n",
        "higher = np.random.choice(higher, size=len(lower))\n",
        "lower = np.asarray(lower)\n",
        "new_indexes = np.concatenate((lower, higher))\n",
        "X_train = X_train.loc[new_indexes,]\n",
        "y_train = y_train[new_indexes]"
      ],
      "execution_count": null,
      "outputs": []
    },
    {
      "cell_type": "code",
      "metadata": {
        "colab": {
          "base_uri": "https://localhost:8080/"
        },
        "id": "NSR-Edz9lu0N",
        "outputId": "074c3353-2773-46bf-8ea1-b30584672561"
      },
      "source": [
        "y_train.value_counts()"
      ],
      "execution_count": null,
      "outputs": [
        {
          "output_type": "execute_result",
          "data": {
            "text/plain": [
              "1    1707\n",
              "0    1707\n",
              "Name: target_conv, dtype: int64"
            ]
          },
          "metadata": {
            "tags": []
          },
          "execution_count": 255
        }
      ]
    },
    {
      "cell_type": "code",
      "metadata": {
        "colab": {
          "base_uri": "https://localhost:8080/"
        },
        "id": "k65ROZwFg7z5",
        "outputId": "737b9171-e26c-4d7b-f482-bf56a00d56d0"
      },
      "source": [
        "X_train.value_counts()"
      ],
      "execution_count": null,
      "outputs": [
        {
          "output_type": "execute_result",
          "data": {
            "text/plain": [
              "n_rev  preco_medio  amplitude_preco  quality_medio  amplitude_quality  mean_DealerETAGroup_10_15  mean_DealerETAGroup_15_30  mean_DealerETAGroup_30_45  mean_DealerETAGroup_45_60  mean_CONSIGAZ  mean_COPAGAZ  mean_LIQUIGAS  mean_MULTIMARCAS  mean_NACIONALGAS  mean_SUPERGASBRAS  mean_ULTRAGAZ  mean_BestPrice  mean_MobileDealer  mean_N_A  dia_da_semana_Friday  dia_da_semana_Monday  dia_da_semana_Saturday  dia_da_semana_Sunday  dia_da_semana_Thursday  dia_da_semana_Tuesday  dia_da_semana_Wednesday  dia_mes_02  dia_mes_03  dia_mes_04  dia_mes_06  dia_mes_07  dia_mes_08  dia_mes_09  dia_mes_10  dia_mes_11  dia_mes_12  dia_mes_15  dia_mes_17  dia_mes_19  dia_mes_20  dia_mes_21  dia_mes_22  dia_mes_23  dia_mes_24  dia_mes_26  dia_mes_28  hora_00  hora_01  hora_02  hora_03  hora_04  hora_05  hora_09  hora_10  hora_11  hora_12  hora_13  hora_14  hora_15  hora_16  hora_17  hora_18  hora_19  hora_20  hora_21  hora_22  hora_23\n",
              "15     72.111334    16.00            4.584497       0.682353           0.000000                   0.666667                   0.200000                   0.133333                   0.133333       0.200000      0.000000       0.333333          0.266667          0.066667           0.000000       0.000000        0.000000           1.000000  0                     0                     0                       0                     0                       0                      1                        0           0           0           0           0           0           0           0           0           0           0           0           0           0           0           0           0           0           0           0           0        0        0        0        0        0        0        0        0        0        0        0        0        0        1        0        0        0        0        0        0          3\n",
              "14     73.417143    15.02            4.628571       1.300000           0.142857                   0.357143                   0.285714                   0.214286                   0.428571       0.071429      0.214286       0.071429          0.000000          0.142857           0.071429       0.000000        0.071429           0.928571  0                     0                     0                       0                     1                       0                      0                        0           0           0           0           0           0           0           0           0           0           0           0           0           0           0           1           0           0           0           0           0        0        0        0        0        0        0        1        0        0        0        0        0        0        0        0        0        0        0        0        0          3\n",
              "13     84.990769    0.01             4.530769       1.000000           0.000000                   0.384615                   0.615385                   0.000000                   0.076923       0.153846      0.076923       0.230769          0.230769          0.153846           0.076923       0.000000        0.000000           1.000000  0                     0                     1                       0                     0                       0                      0                        0           0           0           0           0           0           0           0           0           0           0           0           0           0           0           0           0           0           0           0           0        0        0        0        0        0        0        0        0        0        0        0        0        0        0        0        0        1        0        0        0          2\n",
              "23     71.034783    22.00            4.443478       1.900000           0.000000                   0.565217                   0.391304                   0.043478                   0.086957       0.217391      0.000000       0.130435          0.173913          0.304348           0.086957       0.043478        0.000000           0.956522  0                     0                     0                       0                     0                       1                      0                        1           0           0           0           0           0           0           0           0           0           0           0           0           0           0           0           0           0           0           0           0        0        0        0        0        0        0        0        0        0        0        0        0        0        0        0        0        1        0        0        0          2\n",
              "18     72.292778    14.06            4.583333       1.300000           0.000000                   0.555556                   0.222222                   0.222222                   0.277778       0.055556      0.333333       0.222222          0.055556          0.055556           0.000000       0.000000        0.000000           1.000000  0                     0                     0                       1                     0                       0                      0                        0           0           0           0           0           0           0           0           1           0           0           0           0           0           0           0           0           0           0           0           0        0        0        0        0        0        0        0        0        0        0        0        0        0        0        0        0        0        1        0        0          2\n",
              "                                                                                                                                                                                                                                                                                                                                                                                                                                                                                                                                                                                                                                                                                                                                                                                                                                                                                                                                                                  ..\n",
              "17     67.845294    14.05            4.500000       1.200000           0.000000                   0.176471                   0.588235                   0.235294                   0.176471       0.411765      0.000000       0.235294          0.117647          0.058824           0.000000       0.000000        0.000000           1.000000  1                     0                     0                       0                     0                       0                      0                        0           0           0           0           0           0           0           0           0           0           0           0           0           0           0           0           1           0           0           0           0        0        0        0        0        0        0        0        0        0        0        0        0        0        0        0        0        0        0        1        0          1\n",
              "       67.800000    13.00            4.600000       1.300000           0.000000                   0.647059                   0.352941                   0.000000                   0.117647       0.000000      0.000000       0.294118          0.117647          0.411765           0.058824       0.000000        0.000000           1.000000  0                     0                     0                       0                     0                       1                      0                        0           0           0           0           0           0           0           0           0           0           0           0           0           1           0           0           0           0           0           0           0        0        0        0        0        0        0        0        0        0        0        0        0        0        0        0        0        1        0        0        0          1\n",
              "       67.092353    22.00            4.400000       1.100000           0.000000                   0.352941                   0.352941                   0.294118                   0.117647       0.470588      0.000000       0.235294          0.058824          0.058824           0.058824       0.000000        0.000000           1.000000  0                     0                     0                       0                     0                       1                      0                        0           0           0           1           0           0           0           0           0           0           0           0           0           0           0           0           0           0           0           0           0        0        0        0        0        0        0        0        0        0        0        0        0        0        0        0        0        0        0        0        1          1\n",
              "       66.990000    16.99            4.000000       1.300000           0.000000                   0.705882                   0.117647                   0.176471                   0.117647       0.117647      0.000000       0.176471          0.117647          0.352941           0.117647       0.000000        0.000000           1.000000  0                     0                     0                       0                     0                       0                      1                        0           0           0           0           0           0           0           0           0           0           0           0           0           0           0           0           0           0           0           0           0        0        0        0        0        0        0        0        0        0        0        0        1        0        0        0        0        0        0        0        0          1\n",
              "2      70.945000    1.89             4.550000       0.100000           0.000000                   0.500000                   0.500000                   0.000000                   0.000000       0.000000      1.000000       0.000000          0.000000          0.000000           0.000000       0.000000        0.000000           1.000000  0                     0                     0                       0                     0                       1                      0                        0           0           0           0           0           0           0           0           0           0           0           0           0           0           0           0           0           0           0           0           0        0        0        0        0        0        0        0        0        0        0        0        0        0        0        0        0        0        0        1        0          1\n",
              "Length: 3351, dtype: int64"
            ]
          },
          "metadata": {
            "tags": []
          },
          "execution_count": 256
        }
      ]
    },
    {
      "cell_type": "code",
      "metadata": {
        "id": "YWH-4uethvzq"
      },
      "source": [
        "# Separando o conjunto de dados treinamento e teste\n",
        "X_train, X_test, y_train, y_test = train_test_split(X_train,y_train, test_size=0.2, random_state=0)"
      ],
      "execution_count": null,
      "outputs": []
    },
    {
      "cell_type": "code",
      "metadata": {
        "id": "eBMIiQL2qrVx"
      },
      "source": [
        "from sklearn.preprocessing import StandardScaler\n",
        "# Scaling\n",
        "scaler = StandardScaler()\n",
        "X_train= pd.DataFrame(scaler.fit_transform(X_train), columns=list(X_train.columns))\n",
        "X_test= pd.DataFrame(scaler.fit_transform(X_test), columns=list(X_test.columns))"
      ],
      "execution_count": null,
      "outputs": []
    },
    {
      "cell_type": "code",
      "metadata": {
        "colab": {
          "base_uri": "https://localhost:8080/"
        },
        "id": "FeMlvp-wkmRo",
        "outputId": "44ad1c1e-950b-4418-cb5f-b5d076b93758"
      },
      "source": [
        "X_train.value_counts()"
      ],
      "execution_count": null,
      "outputs": [
        {
          "output_type": "execute_result",
          "data": {
            "text/plain": [
              "n_rev      preco_medio  amplitude_preco  quality_medio  amplitude_quality  mean_DealerETAGroup_10_15  mean_DealerETAGroup_15_30  mean_DealerETAGroup_30_45  mean_DealerETAGroup_45_60  mean_CONSIGAZ  mean_COPAGAZ  mean_LIQUIGAS  mean_MULTIMARCAS  mean_NACIONALGAS  mean_SUPERGASBRAS  mean_ULTRAGAZ  mean_BestPrice  mean_MobileDealer  mean_N_A   dia_da_semana_Friday  dia_da_semana_Monday  dia_da_semana_Saturday  dia_da_semana_Sunday  dia_da_semana_Thursday  dia_da_semana_Tuesday  dia_da_semana_Wednesday  dia_mes_02  dia_mes_03  dia_mes_04  dia_mes_06  dia_mes_07  dia_mes_08  dia_mes_09  dia_mes_10  dia_mes_11  dia_mes_12  dia_mes_15  dia_mes_17  dia_mes_19  dia_mes_20  dia_mes_21  dia_mes_22  dia_mes_23  dia_mes_24  dia_mes_26  dia_mes_28  hora_00    hora_01    hora_02    hora_03    hora_04    hora_05    hora_09    hora_10    hora_11    hora_12    hora_13    hora_14    hora_15    hora_16    hora_17    hora_18    hora_19    hora_20    hora_21    hora_22    hora_23  \n",
              "-0.237956   0.295525    -0.176992         0.070142       0.958547           2.913562                  -0.853919                  -0.137738                   0.542304                   2.199091      -0.620997      0.604423      -1.338162         -1.328958          0.011325           0.074974      -0.356666        3.928376          -0.873519  -0.400191             -0.388412             -0.435865               -0.416065              2.498806               -0.425709              -0.390905                -0.164553   -0.15115    -0.165723   -0.188803   -0.143363   -0.148596   -0.156144   -0.152413   -0.174831   -0.205831   -0.227152   -0.226259   -0.219012   -0.220842   -0.219928    4.644378   -0.215314   -0.213445   -0.129435   -0.139321   -0.188803  -0.143363  -0.108886  -0.066433  -0.054203  -0.033162  -0.054203   6.975281  -0.251117  -0.252760  -0.269561  -0.295265  -0.282619  -0.290104  -0.238513  -0.264049  -0.263255  -0.287126  -0.282619  -0.284879  -0.271898    3\n",
              " 0.676477   1.163013    -0.398431         0.052120      -0.214339           1.919011                   0.266939                  -0.050742                  -0.873378                   0.247710       0.401134      0.495927      -0.695057         -0.679552          0.510180          -0.906371      -0.356666       -0.190886           0.528162  -0.400191             -0.388412             -0.435865               -0.416065              2.498806               -0.425709              -0.390905                -0.164553   -0.15115    -0.165723   -0.188803   -0.143363    6.729646   -0.156144   -0.152413   -0.174831   -0.205831   -0.227152   -0.226259   -0.219012   -0.220842   -0.219928   -0.215314   -0.215314   -0.213445   -0.129435   -0.139321   -0.188803  -0.143363  -0.108886  -0.066433  -0.054203  -0.033162  -0.054203  -0.143363  -0.251117   3.956316  -0.269561  -0.295265  -0.282619  -0.290104  -0.238513  -0.264049  -0.263255  -0.287126  -0.282619  -0.284879  -0.271898    2\n",
              "-0.237956   2.088416    -1.550460        -0.290298       0.078882          -0.401608                  -0.194591                   1.167210                  -0.873378                  -0.240135      -0.053147     -0.480543      -0.168881          1.454208          0.011325           0.074974      -0.356666       -0.190886           0.528162  -0.400191             -0.388412             -0.435865                2.403471             -0.400191               -0.425709              -0.390905                -0.164553   -0.15115    -0.165723   -0.188803   -0.143363   -0.148596   -0.156144   -0.152413   -0.174831   -0.205831   -0.227152   -0.226259   -0.219012   -0.220842   -0.219928   -0.215314   -0.215314   -0.213445   -0.129435    7.177690   -0.188803  -0.143363  -0.108886  -0.066433  -0.054203  -0.033162  -0.054203  -0.143363  -0.251117  -0.252760  -0.269561  -0.295265  -0.282619  -0.290104  -0.238513  -0.264049  -0.263255  -0.287126  -0.282619  -0.284879   3.677852    2\n",
              "-1.152389   1.914029    -0.086404        -1.335575       0.958548          -0.401608                  -1.348414                  -1.877669                   4.081509                  -0.392587      -1.188847      1.825010      -0.899681          0.294556         -0.144567           0.810983      -0.356666       -0.190886           0.528162  -0.400191             -0.388412             -0.435865               -0.416065              2.498806               -0.425709              -0.390905                -0.164553   -0.15115     6.034149   -0.188803   -0.143363   -0.148596   -0.156144   -0.152413   -0.174831   -0.205831   -0.227152   -0.226259   -0.219012   -0.220842   -0.219928   -0.215314   -0.215314   -0.213445   -0.129435   -0.139321   -0.188803  -0.143363  -0.108886  -0.066433  -0.054203  -0.033162  -0.054203  -0.143363  -0.251117  -0.252760  -0.269561  -0.295265  -0.282619  -0.290104  -0.238513  -0.264049   3.798602  -0.287126  -0.282619  -0.284879  -0.271898    2\n",
              "-0.542767  -0.152117    -0.041567         0.136223      -1.094005          -0.401608                   0.574625                   0.152250                  -0.873378                  -0.036866      -1.188847     -0.390129       1.487601          0.835727         -0.508316           0.238532      -0.356666       -0.190886           0.528162  -0.400191             -0.388412             -0.435865               -0.416065              2.498806               -0.425709              -0.390905                -0.164553   -0.15115    -0.165723   -0.188803   -0.143363   -0.148596   -0.156144   -0.152413   -0.174831   -0.205831   -0.227152   -0.226259   -0.219012   -0.220842   -0.219928   -0.215314   -0.215314   -0.213445   -0.129435   -0.139321   -0.188803  -0.143363  -0.108886  -0.066433  -0.054203  -0.033162  -0.054203  -0.143363  -0.251117  -0.252760  -0.269561  -0.295265  -0.282619  -0.290104  -0.238513  -0.264049  -0.263255   3.482787  -0.282619  -0.284879  -0.271898    2\n",
              "                                                                                                                                                                                                                                                                                                                                                                                                                                                                                                                                                                                                                                                                                                                                                                                                                                                                                                                                                                                                                 ..\n",
              " 0.219261  -0.543659    -0.351764         0.178274      -0.004896          -0.401608                  -0.873311                   0.988099                   0.292478                   1.051220      -1.188847     -0.129524       0.966010         -0.564951         -0.208758          -0.098205      -0.356666       -0.190886           0.528162  -0.400191             -0.388412             -0.435865               -0.416065             -0.400191               -0.425709               2.558163                -0.164553   -0.15115    -0.165723   -0.188803   -0.143363   -0.148596   -0.156144   -0.152413   -0.174831   -0.205831   -0.227152   -0.226259   -0.219012   -0.220842   -0.219928   -0.215314   -0.215314   -0.213445   -0.129435   -0.139321   -0.188803  -0.143363  -0.108886  -0.066433  -0.054203  -0.033162  -0.054203  -0.143363  -0.251117  -0.252760  -0.269561  -0.295265  -0.282619  -0.290104  -0.238513   3.787175  -0.263255  -0.287126  -0.282619  -0.284879  -0.271898    1\n",
              "           -0.545208    -0.901700         0.935200       0.372104          -0.401608                  -0.058847                   0.271657                  -0.096141                  -0.455361       0.214077     -1.023026      -0.478396          0.963062          0.818296           0.709962      -0.356666       -0.190886           0.528162  -0.400191             -0.388412              2.294289               -0.416065             -0.400191               -0.425709              -0.390905                -0.164553   -0.15115    -0.165723   -0.188803   -0.143363   -0.148596   -0.156144   -0.152413   -0.174831   -0.205831   -0.227152   -0.226259   -0.219012   -0.220842   -0.219928   -0.215314   -0.215314    4.685038   -0.129435   -0.139321   -0.188803  -0.143363  -0.108886  -0.066433  -0.054203  -0.033162  -0.054203  -0.143363  -0.251117  -0.252760  -0.269561  -0.295265  -0.282619  -0.290104  -0.238513  -0.264049   3.798602  -0.287126  -0.282619  -0.284879  -0.271898    1\n",
              "           -0.567625    -0.265751        -0.578650       0.665326          -0.401608                  -1.687774                   1.704541                   0.681096                   0.046833       2.084643     -1.023026       0.003072          0.199055         -0.722285          -0.906371      -0.356666       -0.190886           0.528162   2.498806             -0.388412             -0.435865               -0.416065             -0.400191               -0.425709              -0.390905                -0.164553   -0.15115    -0.165723   -0.188803   -0.143363   -0.148596   -0.156144   -0.152413   -0.174831   -0.205831   -0.227152   -0.226259   -0.219012   -0.220842   -0.219928   -0.215314    4.644378   -0.213445   -0.129435   -0.139321   -0.188803  -0.143363  -0.108886  -0.066433  -0.054203  -0.033162  -0.054203  -0.143363  -0.251117  -0.252760  -0.269561  -0.295265  -0.282619  -0.290104  -0.238513  -0.264049  -0.263255  -0.287126  -0.282619   3.510264  -0.271898    1\n",
              "           -0.574642    -0.361830        -0.074034       0.958548          -0.401608                   0.484129                   0.271657                  -0.873378                  -0.455361      -1.188847     -1.023026       0.484541          0.199055          2.358877          -0.098205      -0.356666       -0.190886           0.528162  -0.400191             -0.388412             -0.435865               -0.416065             -0.400191                2.349021              -0.390905                -0.164553   -0.15115    -0.165723   -0.188803   -0.143363   -0.148596   -0.156144   -0.152413   -0.174831   -0.205831   -0.227152   -0.226259   -0.219012    4.528127   -0.219928   -0.215314   -0.215314   -0.213445   -0.129435   -0.139321   -0.188803  -0.143363  -0.108886  -0.066433  -0.054203  -0.033162  -0.054203  -0.143363  -0.251117  -0.252760  -0.269561  -0.295265  -0.282619  -0.290104  -0.238513  -0.264049  -0.263255   3.482787  -0.282619  -0.284879  -0.271898    1\n",
              "-2.066822  -0.087441    -1.378434        -0.326342      -2.560113          -0.401608                  -0.194591                   1.167210                  -0.873378                  -1.459748      -1.188847      6.571737      -1.922802         -1.328958         -1.235813          -0.906371      -0.356666       -0.190886           0.528162  -0.400191             -0.388412             -0.435865               -0.416065             -0.400191                2.349021              -0.390905                -0.164553   -0.15115    -0.165723   -0.188803   -0.143363   -0.148596   -0.156144   -0.152413   -0.174831   -0.205831   -0.227152   -0.226259   -0.219012   -0.220842   -0.219928   -0.215314   -0.215314   -0.213445   -0.129435   -0.139321   -0.188803  -0.143363  -0.108886  -0.066433  -0.054203  -0.033162  -0.054203  -0.143363  -0.251117  -0.252760  -0.269561  -0.295265  -0.282619  -0.290104  -0.238513  -0.264049  -0.263255  -0.287126  -0.282619   3.510264  -0.271898    1\n",
              "Length: 2691, dtype: int64"
            ]
          },
          "metadata": {
            "tags": []
          },
          "execution_count": 259
        }
      ]
    },
    {
      "cell_type": "code",
      "metadata": {
        "colab": {
          "base_uri": "https://localhost:8080/"
        },
        "id": "pEsotIovhSHB",
        "outputId": "63c8b595-a86a-4401-901e-0f7a4f0ac93a"
      },
      "source": [
        "# summarize the dataset\n",
        "print(X_train.shape,X_test.shape)"
      ],
      "execution_count": null,
      "outputs": [
        {
          "output_type": "stream",
          "text": [
            "(2731, 67) (683, 67)\n"
          ],
          "name": "stdout"
        }
      ]
    },
    {
      "cell_type": "code",
      "metadata": {
        "colab": {
          "base_uri": "https://localhost:8080/"
        },
        "id": "psePuw3ZqyNJ",
        "outputId": "1e94615e-4109-4aea-c01c-1ddf4f75849c"
      },
      "source": [
        "from sklearn.linear_model import LogisticRegression\n",
        "classifier = LogisticRegression(random_state = 0)\n",
        "classifier.fit(X_train, y_train)\n",
        "y_pred = classifier.predict(X_test)\n",
        "print(\"Matriz Confusão \\n\", confusion_matrix(y_test, y_pred))\n",
        "print(classification_report(y_test, y_pred))"
      ],
      "execution_count": null,
      "outputs": [
        {
          "output_type": "stream",
          "text": [
            "Matriz Confusão \n",
            " [[256  87]\n",
            " [ 94 246]]\n",
            "              precision    recall  f1-score   support\n",
            "\n",
            "           0       0.73      0.75      0.74       343\n",
            "           1       0.74      0.72      0.73       340\n",
            "\n",
            "    accuracy                           0.73       683\n",
            "   macro avg       0.74      0.73      0.73       683\n",
            "weighted avg       0.74      0.73      0.73       683\n",
            "\n"
          ],
          "name": "stdout"
        }
      ]
    },
    {
      "cell_type": "code",
      "metadata": {
        "id": "_P2u338lq6sv"
      },
      "source": [
        "from sklearn.model_selection import cross_val_score\n",
        "accuracies = cross_val_score(estimator = classifier, X = X_train, y = y_train, cv = 10)"
      ],
      "execution_count": null,
      "outputs": []
    },
    {
      "cell_type": "code",
      "metadata": {
        "colab": {
          "base_uri": "https://localhost:8080/"
        },
        "id": "uNnIG3FuiJKc",
        "outputId": "3e1b82e8-aba9-483b-e711-9a396d49bba9"
      },
      "source": [
        "accuracies"
      ],
      "execution_count": null,
      "outputs": [
        {
          "output_type": "execute_result",
          "data": {
            "text/plain": [
              "array([0.7189781 , 0.75091575, 0.73626374, 0.68864469, 0.6996337 ,\n",
              "       0.71794872, 0.6996337 , 0.70695971, 0.74725275, 0.71428571])"
            ]
          },
          "metadata": {
            "tags": []
          },
          "execution_count": 263
        }
      ]
    },
    {
      "cell_type": "code",
      "metadata": {
        "id": "-WT2iNeVtryK"
      },
      "source": [
        "from sklearn.feature_selection import RFE\n",
        "from sklearn.linear_model import LogisticRegression\n",
        "classifier = LogisticRegression()\n",
        "rfe = RFE(classifier, 30) # definir o número de variáveis a serem consideradas\n",
        "rfe = rfe.fit(X_train, y_train)"
      ],
      "execution_count": null,
      "outputs": []
    },
    {
      "cell_type": "code",
      "metadata": {
        "id": "ulwjtxaY7YIt",
        "colab": {
          "base_uri": "https://localhost:8080/"
        },
        "outputId": "4de9469f-44ce-4eeb-901e-f42bae74b7d5"
      },
      "source": [
        "from sklearn.feature_selection import RFE\n",
        "from sklearn.linear_model import LogisticRegression\n",
        "\n",
        "rfe = RFE(classifier, 19)\n",
        "rfe = rfe.fit(X_train, y_train)\n",
        "print(rfe.support_)\n",
        "print(rfe.ranking_)"
      ],
      "execution_count": null,
      "outputs": [
        {
          "output_type": "stream",
          "text": [
            "[ True  True  True  True False  True False False  True  True  True False\n",
            "  True False False False False False False False False False  True False\n",
            " False False False False False False False False False False False False\n",
            " False False False  True False False False False False False False False\n",
            " False  True  True  True False False False False False False False  True\n",
            " False False False  True  True  True  True]\n",
            "[ 1  1  1  1 24  1 46 23  1  1  1 14  1 20 18 19 39 49 27 32 40 28  1 30\n",
            " 31 29 21 34 12 45 44 48 33 22 25 42 37 26 41  1 36 38 47 43 13 17  4 15\n",
            " 16  1  1  1 35  7 11 10  8  2  3  1  6  9  5  1  1  1  1]\n"
          ],
          "name": "stdout"
        }
      ]
    },
    {
      "cell_type": "code",
      "metadata": {
        "id": "MTGLQG8w8Wog",
        "colab": {
          "base_uri": "https://localhost:8080/"
        },
        "outputId": "16937b8b-2157-4fae-bd70-4b897af94bf2"
      },
      "source": [
        "print(rfe.ranking_)"
      ],
      "execution_count": null,
      "outputs": [
        {
          "output_type": "stream",
          "text": [
            "[ 1  1  1  1 24  1 46 23  1  1  1 14  1 20 18 19 39 49 27 32 40 28  1 30\n",
            " 31 29 21 34 12 45 44 48 33 22 25 42 37 26 41  1 36 38 47 43 13 17  4 15\n",
            " 16  1  1  1 35  7 11 10  8  2  3  1  6  9  5  1  1  1  1]\n"
          ],
          "name": "stdout"
        }
      ]
    },
    {
      "cell_type": "code",
      "metadata": {
        "id": "0LkzCxFRt4j_"
      },
      "source": [
        "classifier.fit(X_train[X_train.columns[rfe.support_]], y_train)\n",
        "y_pred = classifier.predict(X_test[X_train.columns[rfe.support_]])"
      ],
      "execution_count": null,
      "outputs": []
    },
    {
      "cell_type": "code",
      "metadata": {
        "colab": {
          "base_uri": "https://localhost:8080/"
        },
        "id": "jFzXMrU6y6rf",
        "outputId": "fe587550-e3d8-4c3f-ff2f-9f468e71fa3e"
      },
      "source": [
        "from sklearn.metrics import confusion_matrix, accuracy_score, f1_score\n",
        "cm = confusion_matrix(y_test, y_pred)\n",
        "accuracy_score(y_test, y_pred)\n",
        "f1_score(y_test, y_pred)"
      ],
      "execution_count": null,
      "outputs": [
        {
          "output_type": "execute_result",
          "data": {
            "text/plain": [
              "0.7302052785923755"
            ]
          },
          "metadata": {
            "tags": []
          },
          "execution_count": 288
        }
      ]
    },
    {
      "cell_type": "code",
      "metadata": {
        "id": "zZcYTvsg0yGZ",
        "colab": {
          "base_uri": "https://localhost:8080/"
        },
        "outputId": "2541b4ed-eadb-41c2-9845-f82a2ead2153"
      },
      "source": [
        "print(\"Matriz Confusão \\n\", confusion_matrix(y_test, y_pred))\n",
        "print(classification_report(y_test, y_pred))"
      ],
      "execution_count": null,
      "outputs": [
        {
          "output_type": "stream",
          "text": [
            "Matriz Confusão \n",
            " [[250  93]\n",
            " [ 91 249]]\n",
            "              precision    recall  f1-score   support\n",
            "\n",
            "           0       0.73      0.73      0.73       343\n",
            "           1       0.73      0.73      0.73       340\n",
            "\n",
            "    accuracy                           0.73       683\n",
            "   macro avg       0.73      0.73      0.73       683\n",
            "weighted avg       0.73      0.73      0.73       683\n",
            "\n"
          ],
          "name": "stdout"
        }
      ]
    },
    {
      "cell_type": "code",
      "metadata": {
        "colab": {
          "base_uri": "https://localhost:8080/",
          "height": 633
        },
        "id": "ndZHnQICjAFA",
        "outputId": "0855fdeb-7900-49dd-fa80-d07a3ad1bf02"
      },
      "source": [
        "pd.concat([pd.DataFrame(X_train.columns, columns = ['features']), pd.DataFrame(np.transpose(classifier.coef_), columns = ['coef'])],axis = 1)"
      ],
      "execution_count": null,
      "outputs": [
        {
          "output_type": "execute_result",
          "data": {
            "application/vnd.google.colaboratory.module+javascript": "\n      import \"https://ssl.gstatic.com/colaboratory/data_table/a6224c040fa35dcf/data_table.js\";\n\n      window.createDataTable({\n        data: [[{\n            'v': 0,\n            'f': \"0\",\n        },\n\"n_rev\",\n{\n            'v': 0.17555116965842607,\n            'f': \"0.17555116965842607\",\n        }],\n [{\n            'v': 1,\n            'f': \"1\",\n        },\n\"preco_medio\",\n{\n            'v': -1.129106621800227,\n            'f': \"-1.129106621800227\",\n        }],\n [{\n            'v': 2,\n            'f': \"2\",\n        },\n\"amplitude_preco\",\n{\n            'v': -0.244479550378647,\n            'f': \"-0.244479550378647\",\n        }],\n [{\n            'v': 3,\n            'f': \"3\",\n        },\n\"quality_medio\",\n{\n            'v': 0.6274242671357053,\n            'f': \"0.6274242671357053\",\n        }],\n [{\n            'v': 4,\n            'f': \"4\",\n        },\n\"amplitude_quality\",\n{\n            'v': -0.2311945000258026,\n            'f': \"-0.2311945000258026\",\n        }],\n [{\n            'v': 5,\n            'f': \"5\",\n        },\n\"mean_DealerETAGroup_10_15\",\n{\n            'v': 0.20578930453520775,\n            'f': \"0.20578930453520775\",\n        }],\n [{\n            'v': 6,\n            'f': \"6\",\n        },\n\"mean_DealerETAGroup_15_30\",\n{\n            'v': -0.2976938117589043,\n            'f': \"-0.2976938117589043\",\n        }],\n [{\n            'v': 7,\n            'f': \"7\",\n        },\n\"mean_DealerETAGroup_30_45\",\n{\n            'v': -0.3875671109283806,\n            'f': \"-0.3875671109283806\",\n        }],\n [{\n            'v': 8,\n            'f': \"8\",\n        },\n\"mean_DealerETAGroup_45_60\",\n{\n            'v': -0.25504956686481,\n            'f': \"-0.25504956686481\",\n        }],\n [{\n            'v': 9,\n            'f': \"9\",\n        },\n\"mean_CONSIGAZ\",\n{\n            'v': 0.12968621756760143,\n            'f': \"0.12968621756760143\",\n        }],\n [{\n            'v': 10,\n            'f': \"10\",\n        },\n\"mean_COPAGAZ\",\n{\n            'v': 0.13532558899840186,\n            'f': \"0.13532558899840186\",\n        }],\n [{\n            'v': 11,\n            'f': \"11\",\n        },\n\"mean_LIQUIGAS\",\n{\n            'v': -0.3728275173218658,\n            'f': \"-0.3728275173218658\",\n        }],\n [{\n            'v': 12,\n            'f': \"12\",\n        },\n\"mean_MULTIMARCAS\",\n{\n            'v': -0.30647303972390777,\n            'f': \"-0.30647303972390777\",\n        }],\n [{\n            'v': 13,\n            'f': \"13\",\n        },\n\"mean_NACIONALGAS\",\n{\n            'v': -0.2011871213999822,\n            'f': \"-0.2011871213999822\",\n        }],\n [{\n            'v': 14,\n            'f': \"14\",\n        },\n\"mean_SUPERGASBRAS\",\n{\n            'v': 0.07910907606163531,\n            'f': \"0.07910907606163531\",\n        }],\n [{\n            'v': 15,\n            'f': \"15\",\n        },\n\"mean_ULTRAGAZ\",\n{\n            'v': 0.11663912739384463,\n            'f': \"0.11663912739384463\",\n        }],\n [{\n            'v': 16,\n            'f': \"16\",\n        },\n\"mean_BestPrice\",\n{\n            'v': 0.17742082071385382,\n            'f': \"0.17742082071385382\",\n        }],\n [{\n            'v': 17,\n            'f': \"17\",\n        },\n\"mean_MobileDealer\",\n{\n            'v': 0.14224709968771676,\n            'f': \"0.14224709968771676\",\n        }],\n [{\n            'v': 18,\n            'f': \"18\",\n        },\n\"mean_N_A\",\n{\n            'v': 0.13235170839186317,\n            'f': \"0.13235170839186317\",\n        }],\n [{\n            'v': 19,\n            'f': \"19\",\n        },\n\"dia_da_semana_Friday\",\n{\n            'v': NaN,\n            'f': \"NaN\",\n        }],\n [{\n            'v': 20,\n            'f': \"20\",\n        },\n\"dia_da_semana_Monday\",\n{\n            'v': NaN,\n            'f': \"NaN\",\n        }],\n [{\n            'v': 21,\n            'f': \"21\",\n        },\n\"dia_da_semana_Saturday\",\n{\n            'v': NaN,\n            'f': \"NaN\",\n        }],\n [{\n            'v': 22,\n            'f': \"22\",\n        },\n\"dia_da_semana_Sunday\",\n{\n            'v': NaN,\n            'f': \"NaN\",\n        }],\n [{\n            'v': 23,\n            'f': \"23\",\n        },\n\"dia_da_semana_Thursday\",\n{\n            'v': NaN,\n            'f': \"NaN\",\n        }],\n [{\n            'v': 24,\n            'f': \"24\",\n        },\n\"dia_da_semana_Tuesday\",\n{\n            'v': NaN,\n            'f': \"NaN\",\n        }],\n [{\n            'v': 25,\n            'f': \"25\",\n        },\n\"dia_da_semana_Wednesday\",\n{\n            'v': NaN,\n            'f': \"NaN\",\n        }],\n [{\n            'v': 26,\n            'f': \"26\",\n        },\n\"dia_mes_02\",\n{\n            'v': NaN,\n            'f': \"NaN\",\n        }],\n [{\n            'v': 27,\n            'f': \"27\",\n        },\n\"dia_mes_03\",\n{\n            'v': NaN,\n            'f': \"NaN\",\n        }],\n [{\n            'v': 28,\n            'f': \"28\",\n        },\n\"dia_mes_04\",\n{\n            'v': NaN,\n            'f': \"NaN\",\n        }],\n [{\n            'v': 29,\n            'f': \"29\",\n        },\n\"dia_mes_06\",\n{\n            'v': NaN,\n            'f': \"NaN\",\n        }],\n [{\n            'v': 30,\n            'f': \"30\",\n        },\n\"dia_mes_07\",\n{\n            'v': NaN,\n            'f': \"NaN\",\n        }],\n [{\n            'v': 31,\n            'f': \"31\",\n        },\n\"dia_mes_08\",\n{\n            'v': NaN,\n            'f': \"NaN\",\n        }],\n [{\n            'v': 32,\n            'f': \"32\",\n        },\n\"dia_mes_09\",\n{\n            'v': NaN,\n            'f': \"NaN\",\n        }],\n [{\n            'v': 33,\n            'f': \"33\",\n        },\n\"dia_mes_10\",\n{\n            'v': NaN,\n            'f': \"NaN\",\n        }],\n [{\n            'v': 34,\n            'f': \"34\",\n        },\n\"dia_mes_11\",\n{\n            'v': NaN,\n            'f': \"NaN\",\n        }],\n [{\n            'v': 35,\n            'f': \"35\",\n        },\n\"dia_mes_12\",\n{\n            'v': NaN,\n            'f': \"NaN\",\n        }],\n [{\n            'v': 36,\n            'f': \"36\",\n        },\n\"dia_mes_15\",\n{\n            'v': NaN,\n            'f': \"NaN\",\n        }],\n [{\n            'v': 37,\n            'f': \"37\",\n        },\n\"dia_mes_17\",\n{\n            'v': NaN,\n            'f': \"NaN\",\n        }],\n [{\n            'v': 38,\n            'f': \"38\",\n        },\n\"dia_mes_19\",\n{\n            'v': NaN,\n            'f': \"NaN\",\n        }],\n [{\n            'v': 39,\n            'f': \"39\",\n        },\n\"dia_mes_20\",\n{\n            'v': NaN,\n            'f': \"NaN\",\n        }],\n [{\n            'v': 40,\n            'f': \"40\",\n        },\n\"dia_mes_21\",\n{\n            'v': NaN,\n            'f': \"NaN\",\n        }],\n [{\n            'v': 41,\n            'f': \"41\",\n        },\n\"dia_mes_22\",\n{\n            'v': NaN,\n            'f': \"NaN\",\n        }],\n [{\n            'v': 42,\n            'f': \"42\",\n        },\n\"dia_mes_23\",\n{\n            'v': NaN,\n            'f': \"NaN\",\n        }],\n [{\n            'v': 43,\n            'f': \"43\",\n        },\n\"dia_mes_24\",\n{\n            'v': NaN,\n            'f': \"NaN\",\n        }],\n [{\n            'v': 44,\n            'f': \"44\",\n        },\n\"dia_mes_26\",\n{\n            'v': NaN,\n            'f': \"NaN\",\n        }],\n [{\n            'v': 45,\n            'f': \"45\",\n        },\n\"dia_mes_28\",\n{\n            'v': NaN,\n            'f': \"NaN\",\n        }],\n [{\n            'v': 46,\n            'f': \"46\",\n        },\n\"hora_00\",\n{\n            'v': NaN,\n            'f': \"NaN\",\n        }],\n [{\n            'v': 47,\n            'f': \"47\",\n        },\n\"hora_01\",\n{\n            'v': NaN,\n            'f': \"NaN\",\n        }],\n [{\n            'v': 48,\n            'f': \"48\",\n        },\n\"hora_02\",\n{\n            'v': NaN,\n            'f': \"NaN\",\n        }],\n [{\n            'v': 49,\n            'f': \"49\",\n        },\n\"hora_03\",\n{\n            'v': NaN,\n            'f': \"NaN\",\n        }],\n [{\n            'v': 50,\n            'f': \"50\",\n        },\n\"hora_04\",\n{\n            'v': NaN,\n            'f': \"NaN\",\n        }],\n [{\n            'v': 51,\n            'f': \"51\",\n        },\n\"hora_05\",\n{\n            'v': NaN,\n            'f': \"NaN\",\n        }],\n [{\n            'v': 52,\n            'f': \"52\",\n        },\n\"hora_09\",\n{\n            'v': NaN,\n            'f': \"NaN\",\n        }],\n [{\n            'v': 53,\n            'f': \"53\",\n        },\n\"hora_10\",\n{\n            'v': NaN,\n            'f': \"NaN\",\n        }],\n [{\n            'v': 54,\n            'f': \"54\",\n        },\n\"hora_11\",\n{\n            'v': NaN,\n            'f': \"NaN\",\n        }],\n [{\n            'v': 55,\n            'f': \"55\",\n        },\n\"hora_12\",\n{\n            'v': NaN,\n            'f': \"NaN\",\n        }],\n [{\n            'v': 56,\n            'f': \"56\",\n        },\n\"hora_13\",\n{\n            'v': NaN,\n            'f': \"NaN\",\n        }],\n [{\n            'v': 57,\n            'f': \"57\",\n        },\n\"hora_14\",\n{\n            'v': NaN,\n            'f': \"NaN\",\n        }],\n [{\n            'v': 58,\n            'f': \"58\",\n        },\n\"hora_15\",\n{\n            'v': NaN,\n            'f': \"NaN\",\n        }],\n [{\n            'v': 59,\n            'f': \"59\",\n        },\n\"hora_16\",\n{\n            'v': NaN,\n            'f': \"NaN\",\n        }],\n [{\n            'v': 60,\n            'f': \"60\",\n        },\n\"hora_17\",\n{\n            'v': NaN,\n            'f': \"NaN\",\n        }],\n [{\n            'v': 61,\n            'f': \"61\",\n        },\n\"hora_18\",\n{\n            'v': NaN,\n            'f': \"NaN\",\n        }],\n [{\n            'v': 62,\n            'f': \"62\",\n        },\n\"hora_19\",\n{\n            'v': NaN,\n            'f': \"NaN\",\n        }],\n [{\n            'v': 63,\n            'f': \"63\",\n        },\n\"hora_20\",\n{\n            'v': NaN,\n            'f': \"NaN\",\n        }],\n [{\n            'v': 64,\n            'f': \"64\",\n        },\n\"hora_21\",\n{\n            'v': NaN,\n            'f': \"NaN\",\n        }],\n [{\n            'v': 65,\n            'f': \"65\",\n        },\n\"hora_22\",\n{\n            'v': NaN,\n            'f': \"NaN\",\n        }],\n [{\n            'v': 66,\n            'f': \"66\",\n        },\n\"hora_23\",\n{\n            'v': NaN,\n            'f': \"NaN\",\n        }]],\n        columns: [[\"number\", \"index\"], [\"string\", \"features\"], [\"number\", \"coef\"]],\n        columnOptions: [{\"width\": \"1px\", \"className\": \"index_column\"}],\n        rowsPerPage: 25,\n        helpUrl: \"https://colab.research.google.com/notebooks/data_table.ipynb\",\n        suppressOutputScrolling: true,\n        minimumWidth: undefined,\n      });\n    ",
            "text/html": [
              "<div>\n",
              "<style scoped>\n",
              "    .dataframe tbody tr th:only-of-type {\n",
              "        vertical-align: middle;\n",
              "    }\n",
              "\n",
              "    .dataframe tbody tr th {\n",
              "        vertical-align: top;\n",
              "    }\n",
              "\n",
              "    .dataframe thead th {\n",
              "        text-align: right;\n",
              "    }\n",
              "</style>\n",
              "<table border=\"1\" class=\"dataframe\">\n",
              "  <thead>\n",
              "    <tr style=\"text-align: right;\">\n",
              "      <th></th>\n",
              "      <th>features</th>\n",
              "      <th>coef</th>\n",
              "    </tr>\n",
              "  </thead>\n",
              "  <tbody>\n",
              "    <tr>\n",
              "      <th>0</th>\n",
              "      <td>n_rev</td>\n",
              "      <td>0.175551</td>\n",
              "    </tr>\n",
              "    <tr>\n",
              "      <th>1</th>\n",
              "      <td>preco_medio</td>\n",
              "      <td>-1.129107</td>\n",
              "    </tr>\n",
              "    <tr>\n",
              "      <th>2</th>\n",
              "      <td>amplitude_preco</td>\n",
              "      <td>-0.244480</td>\n",
              "    </tr>\n",
              "    <tr>\n",
              "      <th>3</th>\n",
              "      <td>quality_medio</td>\n",
              "      <td>0.627424</td>\n",
              "    </tr>\n",
              "    <tr>\n",
              "      <th>4</th>\n",
              "      <td>amplitude_quality</td>\n",
              "      <td>-0.231195</td>\n",
              "    </tr>\n",
              "    <tr>\n",
              "      <th>5</th>\n",
              "      <td>mean_DealerETAGroup_10_15</td>\n",
              "      <td>0.205789</td>\n",
              "    </tr>\n",
              "    <tr>\n",
              "      <th>6</th>\n",
              "      <td>mean_DealerETAGroup_15_30</td>\n",
              "      <td>-0.297694</td>\n",
              "    </tr>\n",
              "    <tr>\n",
              "      <th>7</th>\n",
              "      <td>mean_DealerETAGroup_30_45</td>\n",
              "      <td>-0.387567</td>\n",
              "    </tr>\n",
              "    <tr>\n",
              "      <th>8</th>\n",
              "      <td>mean_DealerETAGroup_45_60</td>\n",
              "      <td>-0.255050</td>\n",
              "    </tr>\n",
              "    <tr>\n",
              "      <th>9</th>\n",
              "      <td>mean_CONSIGAZ</td>\n",
              "      <td>0.129686</td>\n",
              "    </tr>\n",
              "    <tr>\n",
              "      <th>10</th>\n",
              "      <td>mean_COPAGAZ</td>\n",
              "      <td>0.135326</td>\n",
              "    </tr>\n",
              "    <tr>\n",
              "      <th>11</th>\n",
              "      <td>mean_LIQUIGAS</td>\n",
              "      <td>-0.372828</td>\n",
              "    </tr>\n",
              "    <tr>\n",
              "      <th>12</th>\n",
              "      <td>mean_MULTIMARCAS</td>\n",
              "      <td>-0.306473</td>\n",
              "    </tr>\n",
              "    <tr>\n",
              "      <th>13</th>\n",
              "      <td>mean_NACIONALGAS</td>\n",
              "      <td>-0.201187</td>\n",
              "    </tr>\n",
              "    <tr>\n",
              "      <th>14</th>\n",
              "      <td>mean_SUPERGASBRAS</td>\n",
              "      <td>0.079109</td>\n",
              "    </tr>\n",
              "    <tr>\n",
              "      <th>15</th>\n",
              "      <td>mean_ULTRAGAZ</td>\n",
              "      <td>0.116639</td>\n",
              "    </tr>\n",
              "    <tr>\n",
              "      <th>16</th>\n",
              "      <td>mean_BestPrice</td>\n",
              "      <td>0.177421</td>\n",
              "    </tr>\n",
              "    <tr>\n",
              "      <th>17</th>\n",
              "      <td>mean_MobileDealer</td>\n",
              "      <td>0.142247</td>\n",
              "    </tr>\n",
              "    <tr>\n",
              "      <th>18</th>\n",
              "      <td>mean_N_A</td>\n",
              "      <td>0.132352</td>\n",
              "    </tr>\n",
              "    <tr>\n",
              "      <th>19</th>\n",
              "      <td>dia_da_semana_Friday</td>\n",
              "      <td>NaN</td>\n",
              "    </tr>\n",
              "    <tr>\n",
              "      <th>20</th>\n",
              "      <td>dia_da_semana_Monday</td>\n",
              "      <td>NaN</td>\n",
              "    </tr>\n",
              "    <tr>\n",
              "      <th>21</th>\n",
              "      <td>dia_da_semana_Saturday</td>\n",
              "      <td>NaN</td>\n",
              "    </tr>\n",
              "    <tr>\n",
              "      <th>22</th>\n",
              "      <td>dia_da_semana_Sunday</td>\n",
              "      <td>NaN</td>\n",
              "    </tr>\n",
              "    <tr>\n",
              "      <th>23</th>\n",
              "      <td>dia_da_semana_Thursday</td>\n",
              "      <td>NaN</td>\n",
              "    </tr>\n",
              "    <tr>\n",
              "      <th>24</th>\n",
              "      <td>dia_da_semana_Tuesday</td>\n",
              "      <td>NaN</td>\n",
              "    </tr>\n",
              "    <tr>\n",
              "      <th>25</th>\n",
              "      <td>dia_da_semana_Wednesday</td>\n",
              "      <td>NaN</td>\n",
              "    </tr>\n",
              "    <tr>\n",
              "      <th>26</th>\n",
              "      <td>dia_mes_02</td>\n",
              "      <td>NaN</td>\n",
              "    </tr>\n",
              "    <tr>\n",
              "      <th>27</th>\n",
              "      <td>dia_mes_03</td>\n",
              "      <td>NaN</td>\n",
              "    </tr>\n",
              "    <tr>\n",
              "      <th>28</th>\n",
              "      <td>dia_mes_04</td>\n",
              "      <td>NaN</td>\n",
              "    </tr>\n",
              "    <tr>\n",
              "      <th>29</th>\n",
              "      <td>dia_mes_06</td>\n",
              "      <td>NaN</td>\n",
              "    </tr>\n",
              "    <tr>\n",
              "      <th>30</th>\n",
              "      <td>dia_mes_07</td>\n",
              "      <td>NaN</td>\n",
              "    </tr>\n",
              "    <tr>\n",
              "      <th>31</th>\n",
              "      <td>dia_mes_08</td>\n",
              "      <td>NaN</td>\n",
              "    </tr>\n",
              "    <tr>\n",
              "      <th>32</th>\n",
              "      <td>dia_mes_09</td>\n",
              "      <td>NaN</td>\n",
              "    </tr>\n",
              "    <tr>\n",
              "      <th>33</th>\n",
              "      <td>dia_mes_10</td>\n",
              "      <td>NaN</td>\n",
              "    </tr>\n",
              "    <tr>\n",
              "      <th>34</th>\n",
              "      <td>dia_mes_11</td>\n",
              "      <td>NaN</td>\n",
              "    </tr>\n",
              "    <tr>\n",
              "      <th>35</th>\n",
              "      <td>dia_mes_12</td>\n",
              "      <td>NaN</td>\n",
              "    </tr>\n",
              "    <tr>\n",
              "      <th>36</th>\n",
              "      <td>dia_mes_15</td>\n",
              "      <td>NaN</td>\n",
              "    </tr>\n",
              "    <tr>\n",
              "      <th>37</th>\n",
              "      <td>dia_mes_17</td>\n",
              "      <td>NaN</td>\n",
              "    </tr>\n",
              "    <tr>\n",
              "      <th>38</th>\n",
              "      <td>dia_mes_19</td>\n",
              "      <td>NaN</td>\n",
              "    </tr>\n",
              "    <tr>\n",
              "      <th>39</th>\n",
              "      <td>dia_mes_20</td>\n",
              "      <td>NaN</td>\n",
              "    </tr>\n",
              "    <tr>\n",
              "      <th>40</th>\n",
              "      <td>dia_mes_21</td>\n",
              "      <td>NaN</td>\n",
              "    </tr>\n",
              "    <tr>\n",
              "      <th>41</th>\n",
              "      <td>dia_mes_22</td>\n",
              "      <td>NaN</td>\n",
              "    </tr>\n",
              "    <tr>\n",
              "      <th>42</th>\n",
              "      <td>dia_mes_23</td>\n",
              "      <td>NaN</td>\n",
              "    </tr>\n",
              "    <tr>\n",
              "      <th>43</th>\n",
              "      <td>dia_mes_24</td>\n",
              "      <td>NaN</td>\n",
              "    </tr>\n",
              "    <tr>\n",
              "      <th>44</th>\n",
              "      <td>dia_mes_26</td>\n",
              "      <td>NaN</td>\n",
              "    </tr>\n",
              "    <tr>\n",
              "      <th>45</th>\n",
              "      <td>dia_mes_28</td>\n",
              "      <td>NaN</td>\n",
              "    </tr>\n",
              "    <tr>\n",
              "      <th>46</th>\n",
              "      <td>hora_00</td>\n",
              "      <td>NaN</td>\n",
              "    </tr>\n",
              "    <tr>\n",
              "      <th>47</th>\n",
              "      <td>hora_01</td>\n",
              "      <td>NaN</td>\n",
              "    </tr>\n",
              "    <tr>\n",
              "      <th>48</th>\n",
              "      <td>hora_02</td>\n",
              "      <td>NaN</td>\n",
              "    </tr>\n",
              "    <tr>\n",
              "      <th>49</th>\n",
              "      <td>hora_03</td>\n",
              "      <td>NaN</td>\n",
              "    </tr>\n",
              "    <tr>\n",
              "      <th>50</th>\n",
              "      <td>hora_04</td>\n",
              "      <td>NaN</td>\n",
              "    </tr>\n",
              "    <tr>\n",
              "      <th>51</th>\n",
              "      <td>hora_05</td>\n",
              "      <td>NaN</td>\n",
              "    </tr>\n",
              "    <tr>\n",
              "      <th>52</th>\n",
              "      <td>hora_09</td>\n",
              "      <td>NaN</td>\n",
              "    </tr>\n",
              "    <tr>\n",
              "      <th>53</th>\n",
              "      <td>hora_10</td>\n",
              "      <td>NaN</td>\n",
              "    </tr>\n",
              "    <tr>\n",
              "      <th>54</th>\n",
              "      <td>hora_11</td>\n",
              "      <td>NaN</td>\n",
              "    </tr>\n",
              "    <tr>\n",
              "      <th>55</th>\n",
              "      <td>hora_12</td>\n",
              "      <td>NaN</td>\n",
              "    </tr>\n",
              "    <tr>\n",
              "      <th>56</th>\n",
              "      <td>hora_13</td>\n",
              "      <td>NaN</td>\n",
              "    </tr>\n",
              "    <tr>\n",
              "      <th>57</th>\n",
              "      <td>hora_14</td>\n",
              "      <td>NaN</td>\n",
              "    </tr>\n",
              "    <tr>\n",
              "      <th>58</th>\n",
              "      <td>hora_15</td>\n",
              "      <td>NaN</td>\n",
              "    </tr>\n",
              "    <tr>\n",
              "      <th>59</th>\n",
              "      <td>hora_16</td>\n",
              "      <td>NaN</td>\n",
              "    </tr>\n",
              "    <tr>\n",
              "      <th>60</th>\n",
              "      <td>hora_17</td>\n",
              "      <td>NaN</td>\n",
              "    </tr>\n",
              "    <tr>\n",
              "      <th>61</th>\n",
              "      <td>hora_18</td>\n",
              "      <td>NaN</td>\n",
              "    </tr>\n",
              "    <tr>\n",
              "      <th>62</th>\n",
              "      <td>hora_19</td>\n",
              "      <td>NaN</td>\n",
              "    </tr>\n",
              "    <tr>\n",
              "      <th>63</th>\n",
              "      <td>hora_20</td>\n",
              "      <td>NaN</td>\n",
              "    </tr>\n",
              "    <tr>\n",
              "      <th>64</th>\n",
              "      <td>hora_21</td>\n",
              "      <td>NaN</td>\n",
              "    </tr>\n",
              "    <tr>\n",
              "      <th>65</th>\n",
              "      <td>hora_22</td>\n",
              "      <td>NaN</td>\n",
              "    </tr>\n",
              "    <tr>\n",
              "      <th>66</th>\n",
              "      <td>hora_23</td>\n",
              "      <td>NaN</td>\n",
              "    </tr>\n",
              "  </tbody>\n",
              "</table>\n",
              "</div>"
            ],
            "text/plain": [
              "                     features      coef\n",
              "0                       n_rev  0.175551\n",
              "1                 preco_medio -1.129107\n",
              "2             amplitude_preco -0.244480\n",
              "3               quality_medio  0.627424\n",
              "4           amplitude_quality -0.231195\n",
              "5   mean_DealerETAGroup_10_15  0.205789\n",
              "6   mean_DealerETAGroup_15_30 -0.297694\n",
              "7   mean_DealerETAGroup_30_45 -0.387567\n",
              "8   mean_DealerETAGroup_45_60 -0.255050\n",
              "9               mean_CONSIGAZ  0.129686\n",
              "10               mean_COPAGAZ  0.135326\n",
              "11              mean_LIQUIGAS -0.372828\n",
              "12           mean_MULTIMARCAS -0.306473\n",
              "13           mean_NACIONALGAS -0.201187\n",
              "14          mean_SUPERGASBRAS  0.079109\n",
              "15              mean_ULTRAGAZ  0.116639\n",
              "16             mean_BestPrice  0.177421\n",
              "17          mean_MobileDealer  0.142247\n",
              "18                   mean_N_A  0.132352\n",
              "19       dia_da_semana_Friday       NaN\n",
              "20       dia_da_semana_Monday       NaN\n",
              "21     dia_da_semana_Saturday       NaN\n",
              "22       dia_da_semana_Sunday       NaN\n",
              "23     dia_da_semana_Thursday       NaN\n",
              "24      dia_da_semana_Tuesday       NaN\n",
              "25    dia_da_semana_Wednesday       NaN\n",
              "26                 dia_mes_02       NaN\n",
              "27                 dia_mes_03       NaN\n",
              "28                 dia_mes_04       NaN\n",
              "29                 dia_mes_06       NaN\n",
              "30                 dia_mes_07       NaN\n",
              "31                 dia_mes_08       NaN\n",
              "32                 dia_mes_09       NaN\n",
              "33                 dia_mes_10       NaN\n",
              "34                 dia_mes_11       NaN\n",
              "35                 dia_mes_12       NaN\n",
              "36                 dia_mes_15       NaN\n",
              "37                 dia_mes_17       NaN\n",
              "38                 dia_mes_19       NaN\n",
              "39                 dia_mes_20       NaN\n",
              "40                 dia_mes_21       NaN\n",
              "41                 dia_mes_22       NaN\n",
              "42                 dia_mes_23       NaN\n",
              "43                 dia_mes_24       NaN\n",
              "44                 dia_mes_26       NaN\n",
              "45                 dia_mes_28       NaN\n",
              "46                    hora_00       NaN\n",
              "47                    hora_01       NaN\n",
              "48                    hora_02       NaN\n",
              "49                    hora_03       NaN\n",
              "50                    hora_04       NaN\n",
              "51                    hora_05       NaN\n",
              "52                    hora_09       NaN\n",
              "53                    hora_10       NaN\n",
              "54                    hora_11       NaN\n",
              "55                    hora_12       NaN\n",
              "56                    hora_13       NaN\n",
              "57                    hora_14       NaN\n",
              "58                    hora_15       NaN\n",
              "59                    hora_16       NaN\n",
              "60                    hora_17       NaN\n",
              "61                    hora_18       NaN\n",
              "62                    hora_19       NaN\n",
              "63                    hora_20       NaN\n",
              "64                    hora_21       NaN\n",
              "65                    hora_22       NaN\n",
              "66                    hora_23       NaN"
            ]
          },
          "metadata": {
            "tags": []
          },
          "execution_count": 290
        }
      ]
    },
    {
      "cell_type": "code",
      "metadata": {
        "id": "7aUvlwHq0d3m",
        "colab": {
          "base_uri": "https://localhost:8080/",
          "height": 130
        },
        "outputId": "f048060e-cbff-4d73-bf4a-120d0362e5c2"
      },
      "source": [
        ""
      ],
      "execution_count": null,
      "outputs": [
        {
          "output_type": "error",
          "ename": "SyntaxError",
          "evalue": "ignored",
          "traceback": [
            "\u001b[0;36m  File \u001b[0;32m\"<ipython-input-291-e46edadca2ad>\"\u001b[0;36m, line \u001b[0;32m1\u001b[0m\n\u001b[0;31m    classifier.\u001b[0m\n\u001b[0m               ^\u001b[0m\n\u001b[0;31mSyntaxError\u001b[0m\u001b[0;31m:\u001b[0m invalid syntax\n"
          ]
        }
      ]
    }
  ]
}